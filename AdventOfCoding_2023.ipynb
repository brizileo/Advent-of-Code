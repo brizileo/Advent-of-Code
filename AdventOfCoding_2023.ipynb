{
 "cells": [
  {
   "cell_type": "markdown",
   "metadata": {
    "id": "oypK6kbJ5Z61"
   },
   "source": [
    "## Day 1"
   ]
  },
  {
   "cell_type": "markdown",
   "metadata": {
    "id": "JGJaZasY_ILR"
   },
   "source": [
    "Input file https://adventofcode.com/2023/day/1/input"
   ]
  },
  {
   "cell_type": "code",
   "execution_count": null,
   "metadata": {
    "id": "SPwXmY6G03A5"
   },
   "outputs": [],
   "source": [
    "with open('input.txt', 'r') as file:\n",
    "    file_content = file.read()"
   ]
  },
  {
   "cell_type": "code",
   "execution_count": null,
   "metadata": {
    "id": "FWevdkAe7iO_"
   },
   "outputs": [],
   "source": [
    "output = []"
   ]
  },
  {
   "cell_type": "code",
   "execution_count": null,
   "metadata": {
    "id": "005AM4iv6LI1"
   },
   "outputs": [],
   "source": [
    "#discard characters different from digits, take first and last digit\n",
    "for x in file_content[:-1].split(\"\\n\"):\n",
    "  cleanedString = ([l for l in x if l in ['0','1','2','3','4','5','6','7','8','9']])\n",
    "  subTot = cleanedString[0] + cleanedString[-1]\n",
    "  output.append(subTot)"
   ]
  },
  {
   "cell_type": "code",
   "execution_count": null,
   "metadata": {
    "colab": {
     "base_uri": "https://localhost:8080/"
    },
    "executionInfo": {
     "elapsed": 237,
     "status": "ok",
     "timestamp": 1701494602428,
     "user": {
      "displayName": "Leonardo Brizi",
      "userId": "10572232546459158877"
     },
     "user_tz": -60
    },
    "id": "G9CJJQDj7v8Z",
    "outputId": "74e14b1d-d7c0-44ce-e019-c0f1cce2f87c"
   },
   "outputs": [],
   "source": [
    "#Output part 1\n",
    "sum(map(int,output))"
   ]
  },
  {
   "cell_type": "code",
   "execution_count": null,
   "metadata": {
    "id": "zE4RrjZcA3_q"
   },
   "outputs": [],
   "source": [
    "word_to_digit_mapping = {\n",
    "    \"zero\": \"0\",\n",
    "    \"one\": \"1\",\n",
    "    \"two\": \"2\",\n",
    "    \"three\": \"3\",\n",
    "    \"four\": \"4\",\n",
    "    \"five\": \"5\",\n",
    "    \"six\": \"6\",\n",
    "    \"seven\": \"7\",\n",
    "    \"eight\": \"8\",\n",
    "    \"nine\": \"9\",\n",
    "    \"ten\": \"10\",\n",
    "    \"eleven\": \"11\",\n",
    "    \"twelve\": \"12\",\n",
    "    \"thirteen\": \"13\",\n",
    "    \"fourteen\": \"14\",\n",
    "    \"fifteen\": \"15\",\n",
    "    \"sixteen\": \"16\",\n",
    "    \"seventeen\": \"17\",\n",
    "    \"eighteen\": \"18\",\n",
    "    \"nineteen\": \"19\",\n",
    "    \"twenty\": \"20\",\n",
    "    \"thirty\": \"30\",\n",
    "    \"forty\": \"40\",\n",
    "    \"fifty\": \"50\",\n",
    "    \"sixty\": \"60\",\n",
    "    \"seventy\": \"70\",\n",
    "    \"eighty\": \"80\",\n",
    "    \"ninety\": \"90\",\n",
    "    \"hundred\": \"100\"\n",
    "}\n"
   ]
  },
  {
   "cell_type": "code",
   "execution_count": null,
   "metadata": {
    "id": "qfctGVOnMiwy"
   },
   "outputs": [],
   "source": [
    "decodedList = []"
   ]
  },
  {
   "cell_type": "code",
   "execution_count": null,
   "metadata": {
    "id": "pSaTn3YgMP24"
   },
   "outputs": [],
   "source": [
    "for x in file_content[:-1].split(\"\\n\"):\n",
    "  originalList = x\n",
    "  for y in list(word_to_digit_mapping.items()):\n",
    "    #replace numbers in works with digits. Avoid overlapping e.g. oneight -> one1one so when we replace eigh we have no conflict\n",
    "    originalList = originalList.replace(y[0],y[0]+y[1]+y[0])\n",
    "  decodedList.append(originalList)\n"
   ]
  },
  {
   "cell_type": "code",
   "execution_count": null,
   "metadata": {
    "id": "kIHdxUeTNW83"
   },
   "outputs": [],
   "source": [
    "#Output part 2\n",
    "output = []"
   ]
  },
  {
   "cell_type": "code",
   "execution_count": null,
   "metadata": {
    "id": "-CZWe0e1MPwo"
   },
   "outputs": [],
   "source": [
    "#discard characters different from digits, take first and last digit\n",
    "for x in decodedList:\n",
    "  cleanedString = ([l for l in x if l in ['0','1','2','3','4','5','6','7','8','9']])\n",
    "  subTot = cleanedString[0] + cleanedString[-1]\n",
    "  output.append(subTot)"
   ]
  },
  {
   "cell_type": "code",
   "execution_count": null,
   "metadata": {
    "colab": {
     "base_uri": "https://localhost:8080/"
    },
    "executionInfo": {
     "elapsed": 413,
     "status": "ok",
     "timestamp": 1701494622684,
     "user": {
      "displayName": "Leonardo Brizi",
      "userId": "10572232546459158877"
     },
     "user_tz": -60
    },
    "id": "Bx6bJHTyNke2",
    "outputId": "3c1f24d3-a39a-40d7-d6e7-aa788face11d"
   },
   "outputs": [],
   "source": [
    "sum(map(int,output))"
   ]
  },
  {
   "cell_type": "markdown",
   "metadata": {
    "id": "w6XzulDj9bf6"
   },
   "source": [
    "## Day 2"
   ]
  },
  {
   "cell_type": "markdown",
   "metadata": {
    "id": "vBbN6qWW9idw"
   },
   "source": [
    "Input file https://adventofcode.com/2023/day/2/input"
   ]
  },
  {
   "cell_type": "code",
   "execution_count": null,
   "metadata": {
    "id": "6KVRzB1l9kz1"
   },
   "outputs": [],
   "source": [
    "with open('input-2.txt', 'r') as file:\n",
    "    file_content = file.read()"
   ]
  },
  {
   "cell_type": "code",
   "execution_count": null,
   "metadata": {
    "id": "g-gtbFnIP34i"
   },
   "outputs": [],
   "source": [
    "sumOfGames = 0\n",
    "for x in file_content[:-1].split(\"\\n\"):\n",
    "\n",
    "  ckc = 0\n",
    "\n",
    "  gameId = x.split(\": \")[0].replace(\"Game \",\"\")\n",
    "  sets = x.split(\": \")[1].split(\"; \")\n",
    "\n",
    "  for j in sets:\n",
    "    for i in j.split(\", \"):\n",
    "      if ((\"blu\" in i) and int(i.replace(\" blue\",\"\")) >14) or ((\"red\" in i) and int(i.replace(\" red\",\"\")) > 12) or ((\"green\" in i) and int(i.replace(\" green\",\"\")) > 13):\n",
    "          ckc = ckc + 1\n",
    "\n",
    "  if ckc > 0:\n",
    "    print(\"Game \" + gameId + \" is not possible\")\n",
    "  else:\n",
    "    sumOfGames = sumOfGames + int(gameId)"
   ]
  },
  {
   "cell_type": "code",
   "execution_count": null,
   "metadata": {
    "colab": {
     "base_uri": "https://localhost:8080/"
    },
    "executionInfo": {
     "elapsed": 237,
     "status": "ok",
     "timestamp": 1701500142946,
     "user": {
      "displayName": "Leonardo Brizi",
      "userId": "10572232546459158877"
     },
     "user_tz": -60
    },
    "id": "E_VKFfLjT6MU",
    "outputId": "3795bcc2-b081-4a15-9755-35b5325eb71f"
   },
   "outputs": [],
   "source": [
    "#Output part 1\n",
    "sumOfGames"
   ]
  },
  {
   "cell_type": "code",
   "execution_count": null,
   "metadata": {
    "id": "QIFfzm_0YQcs"
   },
   "outputs": [],
   "source": [
    "test =\"\"\"Game 1: 3 blue, 4 red; 1 red, 2 green, 6 blue; 2 green\n",
    "Game 2: 1 blue, 2 green; 3 green, 4 blue, 1 red; 1 green, 1 blue\n",
    "Game 3: 8 green, 6 blue, 20 red; 5 blue, 4 red, 13 green; 5 green, 1 red\n",
    "Game 4: 1 green, 3 red, 6 blue; 3 green, 6 red; 3 green, 15 blue, 14 red\n",
    "Game 5: 6 red, 1 blue, 3 green; 2 blue, 1 red, 2 green\"\"\""
   ]
  },
  {
   "cell_type": "code",
   "execution_count": null,
   "metadata": {
    "id": "xhjQql5EWFHn"
   },
   "outputs": [],
   "source": [
    "out = []\n",
    "for x in test.split(\"\\n\"):\n",
    "\n",
    "  red = 0\n",
    "  blue = 0\n",
    "  green = 0\n",
    "\n",
    "  gameId = x.split(\": \")[0].replace(\"Game \",\"\")\n",
    "  sets = x.split(\": \")[1].split(\"; \")\n",
    "\n",
    "  for j in sets:\n",
    "    for i in j.split(\", \"):\n",
    "      if ((\"red\" in i) and int(i.replace(\" red\",\"\")) > red):\n",
    "        red = int(i.replace(\" red\",\"\"))\n",
    "      if ((\"blu\" in i) and int(i.replace(\" blue\",\"\")) > blue):\n",
    "        blue = int(i.replace(\" blue\",\"\"))\n",
    "      if ((\"green\" in i) and int(i.replace(\" green\",\"\")) > green):\n",
    "        green = int(i.replace(\" green\",\"\"))\n",
    "\n",
    "  out.append([gameId,red * blue * green,[red,blue,green]])\n"
   ]
  },
  {
   "cell_type": "code",
   "execution_count": null,
   "metadata": {
    "id": "FT4zLIs4ZN0u"
   },
   "outputs": [],
   "source": [
    "out = []\n",
    "for x in file_content[:-1].split(\"\\n\"):\n",
    "\n",
    "  red = 0\n",
    "  blue = 0\n",
    "  green = 0\n",
    "\n",
    "  gameId = x.split(\": \")[0].replace(\"Game \",\"\")\n",
    "  sets = x.split(\": \")[1].split(\"; \")\n",
    "\n",
    "  for j in sets:\n",
    "    for i in j.split(\", \"):\n",
    "      if ((\"red\" in i) and int(i.replace(\" red\",\"\")) > red):\n",
    "        red = int(i.replace(\" red\",\"\"))\n",
    "      if ((\"blu\" in i) and int(i.replace(\" blue\",\"\")) > blue):\n",
    "        blue = int(i.replace(\" blue\",\"\"))\n",
    "      if ((\"green\" in i) and int(i.replace(\" green\",\"\")) > green):\n",
    "        green = int(i.replace(\" green\",\"\"))\n",
    "\n",
    "  out.append([gameId,red * blue * green,[red,blue,green]])\n"
   ]
  },
  {
   "cell_type": "code",
   "execution_count": null,
   "metadata": {
    "colab": {
     "base_uri": "https://localhost:8080/"
    },
    "executionInfo": {
     "elapsed": 233,
     "status": "ok",
     "timestamp": 1701501662309,
     "user": {
      "displayName": "Leonardo Brizi",
      "userId": "10572232546459158877"
     },
     "user_tz": -60
    },
    "id": "9W81g7V_ZPsX",
    "outputId": "dc370faa-440a-4cb7-9d2e-229dc4624e4e"
   },
   "outputs": [],
   "source": [
    "#Output part 2\n",
    "sum([i[1] for i in out])"
   ]
  },
  {
   "cell_type": "markdown",
   "metadata": {
    "id": "U6wRE3vWSqbu"
   },
   "source": [
    "## Day 3"
   ]
  },
  {
   "cell_type": "markdown",
   "metadata": {
    "id": "Kt_0JsnzSuAB"
   },
   "source": [
    "Input file https://adventofcode.com/2023/day/3/input"
   ]
  },
  {
   "cell_type": "code",
   "execution_count": null,
   "metadata": {
    "id": "YanmbcpSUhDI"
   },
   "outputs": [],
   "source": [
    "import re #regular expressions module"
   ]
  },
  {
   "cell_type": "code",
   "execution_count": null,
   "metadata": {
    "id": "LFTs78tQTESD"
   },
   "outputs": [],
   "source": [
    "with open('input-3.txt', 'r') as file:\n",
    "    file_content = file.read()"
   ]
  },
  {
   "cell_type": "code",
   "execution_count": null,
   "metadata": {
    "id": "iQkVnNzTWYsu"
   },
   "outputs": [],
   "source": [
    "rowsList = file_content[:-1].split(\"\\n\")"
   ]
  },
  {
   "cell_type": "code",
   "execution_count": null,
   "metadata": {
    "id": "VK95cndjU2Rg"
   },
   "outputs": [],
   "source": [
    "#build a profiling string where for each character of the imput text we have a 0 if the character neighbours are numbers or dots otherwise > 0\n",
    "profile = \"\"\n",
    "\n",
    "for row in range(0,len(rowsList)):\n",
    "  for col in range(0,len(rowsList[row])):\n",
    "    check = 0\n",
    "    try:\n",
    "      if re.search(\"[0-9\\.]\", rowsList[row-1][col-1]) == None:\n",
    "        check = check + 1\n",
    "    except:\n",
    "      pass\n",
    "    try:\n",
    "      if re.search(\"[0-9\\.]\", rowsList[row-1][col]) == None:\n",
    "        check = check + 1\n",
    "    except:\n",
    "      pass\n",
    "    try:\n",
    "      if re.search(\"[0-9\\.]\", rowsList[row-1][col+1]) == None:\n",
    "        check = check + 1\n",
    "    except:\n",
    "      pass\n",
    "    try:\n",
    "      if re.search(\"[0-9\\.]\", rowsList[row][col-1]) == None:\n",
    "        check = check + 1\n",
    "    except:\n",
    "      pass\n",
    "    try:\n",
    "      if re.search(\"[0-9\\.]\", rowsList[row][col+1]) == None:\n",
    "        check = check + 1\n",
    "    except:\n",
    "      pass\n",
    "    try:\n",
    "      if re.search(\"[0-9\\.]\", rowsList[row+1][col-1]) == None:\n",
    "        check = check + 1\n",
    "    except:\n",
    "      pass\n",
    "    try:\n",
    "      if re.search(\"[0-9\\.]\", rowsList[row+1][col]) == None:\n",
    "        check = check + 1\n",
    "    except:\n",
    "      pass\n",
    "    try:\n",
    "      if re.search(\"[0-9\\.]\", rowsList[row+1][col+1]) == None:\n",
    "        check = check + 1\n",
    "    except:\n",
    "      pass\n",
    "\n",
    "\n",
    "    profile = profile + str(check)\n",
    "  profile = profile + \"\\n\""
   ]
  },
  {
   "cell_type": "code",
   "execution_count": null,
   "metadata": {
    "colab": {
     "base_uri": "https://localhost:8080/"
    },
    "executionInfo": {
     "elapsed": 211,
     "status": "ok",
     "timestamp": 1701612241477,
     "user": {
      "displayName": "Leonardo Brizi",
      "userId": "10572232546459158877"
     },
     "user_tz": -60
    },
    "id": "7mQ1lo4hfc48",
    "outputId": "7c459c72-0b26-4bfb-cd05-c9744228649f"
   },
   "outputs": [],
   "source": [
    "#check that the profile string an the initial input file has same lenght\n",
    "len(profile) == len(file_content)"
   ]
  },
  {
   "cell_type": "code",
   "execution_count": null,
   "metadata": {
    "colab": {
     "base_uri": "https://localhost:8080/"
    },
    "executionInfo": {
     "elapsed": 219,
     "status": "ok",
     "timestamp": 1701612243038,
     "user": {
      "displayName": "Leonardo Brizi",
      "userId": "10572232546459158877"
     },
     "user_tz": -60
    },
    "id": "tD0I-QUmgZkC",
    "outputId": "19fe0cb2-16d7-4584-9aba-c8854ad93368"
   },
   "outputs": [],
   "source": [
    "#check if there exists duplicates\n",
    "len(set(re.findall(r\"\\b[0-9]+\\b\",file_content))) == re.findall(r\"\\b[0-9]+\\b\",file_content)"
   ]
  },
  {
   "cell_type": "code",
   "execution_count": null,
   "metadata": {
    "id": "AJ6980CLtKjE"
   },
   "outputs": [],
   "source": [
    "#Since we have duplicates we need to ensure we introduce a left hand cut off while looping through the matches\n",
    "cutoff = 0\n",
    "out = []\n",
    "\n",
    "#find all series of digits and analyse candidate part numbers\n",
    "for m in re.findall(r\"\\b[0-9]+\\b\",file_content):\n",
    "\n",
    "  isPart = 0 #reset the countert of part numbers\n",
    "\n",
    "  start = re.search(m,file_content[cutoff:]).start()\n",
    "  end = re.search(m,file_content[cutoff:]).end()\n",
    "\n",
    "  start = start + cutoff\n",
    "  end = end + cutoff - 1\n",
    "\n",
    "  cutoff = end + 1\n",
    "\n",
    "  #loop through all digits of the candidate number. If there exist at least a digit that has a symbol in its neighbours we stor the part number\n",
    "  for i in range(start,end+1):\n",
    "    isPart = isPart + int(profile[i])\n",
    "\n",
    "  if isPart > 0:\n",
    "    out.append([m,start,end])\n"
   ]
  },
  {
   "cell_type": "code",
   "execution_count": null,
   "metadata": {
    "colab": {
     "base_uri": "https://localhost:8080/"
    },
    "executionInfo": {
     "elapsed": 292,
     "status": "ok",
     "timestamp": 1701612246340,
     "user": {
      "displayName": "Leonardo Brizi",
      "userId": "10572232546459158877"
     },
     "user_tz": -60
    },
    "id": "pkzAQz2ltKfJ",
    "outputId": "c7e68031-6918-46bc-bf07-23045caeb219"
   },
   "outputs": [],
   "source": [
    "#Output part 1\n",
    "sum([int(x[0]) for x in out])"
   ]
  },
  {
   "cell_type": "code",
   "execution_count": null,
   "metadata": {
    "id": "UG4t9YrQgaCn"
   },
   "outputs": [],
   "source": [
    "profileRich = []\n",
    "\n",
    "for row in range(0,len(rowsList)):\n",
    "  for col in range(0,len(rowsList[row])):\n",
    "    check = []\n",
    "    try:\n",
    "      if re.search(\"[0-9\\.]\", rowsList[row-1][col-1]) == None:\n",
    "        check.append([row-1,col-1])\n",
    "    except:\n",
    "      pass\n",
    "    try:\n",
    "      if re.search(\"[0-9\\.]\", rowsList[row-1][col]) == None:\n",
    "        check.append([row-1,col])\n",
    "    except:\n",
    "      pass\n",
    "    try:\n",
    "      if re.search(\"[0-9\\.]\", rowsList[row-1][col+1]) == None:\n",
    "        check.append([row-1,col+1])\n",
    "    except:\n",
    "      pass\n",
    "    try:\n",
    "      if re.search(\"[0-9\\.]\", rowsList[row][col-1]) == None:\n",
    "        check.append([row,col-1])\n",
    "    except:\n",
    "      pass\n",
    "    try:\n",
    "      if re.search(\"[0-9\\.]\", rowsList[row][col+1]) == None:\n",
    "        check.append([row,col+1])\n",
    "    except:\n",
    "      pass\n",
    "    try:\n",
    "      if re.search(\"[0-9\\.]\", rowsList[row+1][col-1]) == None:\n",
    "        check.append([row+1,col-1])\n",
    "    except:\n",
    "      pass\n",
    "    try:\n",
    "      if re.search(\"[0-9\\.]\", rowsList[row+1][col]) == None:\n",
    "        check.append([row+1,col])\n",
    "    except:\n",
    "      pass\n",
    "    try:\n",
    "      if re.search(\"[0-9\\.]\", rowsList[row+1][col+1]) == None:\n",
    "        check.append([row+1,col+1])\n",
    "    except:\n",
    "      pass\n",
    "\n",
    "\n",
    "    profileRich.append(check)\n",
    "  profileRich.append([])"
   ]
  },
  {
   "cell_type": "code",
   "execution_count": null,
   "metadata": {
    "colab": {
     "base_uri": "https://localhost:8080/"
    },
    "executionInfo": {
     "elapsed": 257,
     "status": "ok",
     "timestamp": 1701612250053,
     "user": {
      "displayName": "Leonardo Brizi",
      "userId": "10572232546459158877"
     },
     "user_tz": -60
    },
    "id": "-pcfh4JhiXan",
    "outputId": "597a3489-d091-40f9-85d5-2197fa8001e2"
   },
   "outputs": [],
   "source": [
    "#check that the profile string an the initial input file has same lenght\n",
    "len(profileRich) == len(file_content)"
   ]
  },
  {
   "cell_type": "code",
   "execution_count": null,
   "metadata": {
    "id": "OBylZVBfjZ-y"
   },
   "outputs": [],
   "source": [
    "partTwoOut = []\n",
    "\n",
    "#iterate over all part numbers found in previous part. For each part number retrieve the coordinates of all symbols (i.e. character different from digit or dot)\n",
    "for o in out:\n",
    "  nearSimbolsCoordinates = []\n",
    "  start = o[1]\n",
    "  end = o[2]\n",
    "\n",
    "  #loop through al digit of the part number and collect coordinates of neighbour sysmbols\n",
    "  for i in range(start,end+1):\n",
    "    for c in profileRich[i]:\n",
    "      nearSimbolsCoordinates.append(tuple(c)) #convet to tuple otherwise canno use set on it to remove duplicates\n",
    "\n",
    "  partTwoOut.append([o[0],set(nearSimbolsCoordinates)])\n"
   ]
  },
  {
   "cell_type": "code",
   "execution_count": null,
   "metadata": {
    "colab": {
     "base_uri": "https://localhost:8080/"
    },
    "executionInfo": {
     "elapsed": 9,
     "status": "ok",
     "timestamp": 1701612253310,
     "user": {
      "displayName": "Leonardo Brizi",
      "userId": "10572232546459158877"
     },
     "user_tz": -60
    },
    "id": "wVjr-3DtwZvc",
    "outputId": "2c499922-a620-4df4-b367-a828b9d00f53"
   },
   "outputs": [],
   "source": [
    "#check if there exist part numbers with more than 1 simbol in the neighbours -> no\n",
    "[i for i in partTwoOut if len(i[1]) > 1]"
   ]
  },
  {
   "cell_type": "code",
   "execution_count": null,
   "metadata": {
    "id": "d8az0dsq1Rbk"
   },
   "outputs": [],
   "source": [
    "#create a list of all distinct pairing symbols\n",
    "temp = [str(x[1]) for x in partTwoOut]\n",
    "\n",
    "pairingSimbolCoordinates = set((y for y in temp if temp.count(y) == 2))"
   ]
  },
  {
   "cell_type": "code",
   "execution_count": null,
   "metadata": {
    "id": "yb-5I4Xh5zmK"
   },
   "outputs": [],
   "source": [
    "out2 = []\n",
    "\n",
    "for o in pairingSimbolCoordinates:\n",
    "  out2.append([o,[x[0] for x in partTwoOut if str(x[1]) == o]])"
   ]
  },
  {
   "cell_type": "code",
   "execution_count": null,
   "metadata": {
    "colab": {
     "base_uri": "https://localhost:8080/"
    },
    "executionInfo": {
     "elapsed": 398,
     "status": "ok",
     "timestamp": 1701612264518,
     "user": {
      "displayName": "Leonardo Brizi",
      "userId": "10572232546459158877"
     },
     "user_tz": -60
    },
    "id": "om0YZ6q77oBv",
    "outputId": "bbb41054-ed93-47f1-dd56-49a899e0cac0"
   },
   "outputs": [],
   "source": [
    "#Output part 2\n",
    "sum([int(x[1][0])*int(x[1][1]) for x in out2])\n"
   ]
  },
  {
   "cell_type": "markdown",
   "metadata": {
    "id": "eineLy98SsT7"
   },
   "source": [
    "## Day 4"
   ]
  },
  {
   "cell_type": "markdown",
   "metadata": {
    "id": "n_CrvC8gSwRW"
   },
   "source": [
    "Input file https://adventofcode.com/2023/day/4/input"
   ]
  },
  {
   "cell_type": "code",
   "execution_count": null,
   "metadata": {
    "id": "E6fcEgrfS4OE"
   },
   "outputs": [],
   "source": [
    "with open('input-4.txt', 'r') as file:\n",
    "    file_content = file.read()"
   ]
  },
  {
   "cell_type": "code",
   "execution_count": null,
   "metadata": {
    "id": "ohhmY2pvS8Qb"
   },
   "outputs": [],
   "source": [
    "cumulateWinning = []\n",
    "\n",
    "for r in file_content[:-1].split(\"\\n\"):\n",
    "\n",
    "  game = r.split(\": \")[0]\n",
    "  winning = r.split(\": \")[1].split(\" | \")[0].split(\" \")\n",
    "  mine = [ x for x in r.split(\": \")[1].split(\" | \")[1].split(\" \") if len(x) > 0]\n",
    "\n",
    "  mineInWinning = [m for m in mine if m in winning]\n",
    "\n",
    "  if len(mineInWinning) > 0:\n",
    "    points = pow(2,len(mineInWinning)-1)\n",
    "    cumulateWinning.append([game,points,mineInWinning])\n"
   ]
  },
  {
   "cell_type": "code",
   "execution_count": null,
   "metadata": {
    "colab": {
     "base_uri": "https://localhost:8080/"
    },
    "executionInfo": {
     "elapsed": 482,
     "status": "ok",
     "timestamp": 1701715349671,
     "user": {
      "displayName": "Leonardo Brizi",
      "userId": "10572232546459158877"
     },
     "user_tz": -60
    },
    "id": "mZanw1StV2nc",
    "outputId": "89aa27a5-162f-40a2-c611-e5aa82719fb0"
   },
   "outputs": [],
   "source": [
    "#Output part 1\n",
    "sum([int(x[1]) for x in cumulateWinning])"
   ]
  },
  {
   "cell_type": "code",
   "execution_count": null,
   "metadata": {
    "id": "kaf08WWnaW03"
   },
   "outputs": [],
   "source": [
    "listOfWinning = []\n",
    "\n",
    "for r in file_content[:-1].split(\"\\n\"):\n",
    "\n",
    "  game = r.split(\": \")[0]\n",
    "  winning = r.split(\": \")[1].split(\" | \")[0].split(\" \")\n",
    "  mine = [ x for x in r.split(\": \")[1].split(\" | \")[1].split(\" \") if len(x) > 0]\n",
    "\n",
    "  mineInWinning = [m for m in mine if m in winning]\n",
    "\n",
    "  copies = 1\n",
    "\n",
    "  listOfWinning.append([game,mineInWinning,copies])"
   ]
  },
  {
   "cell_type": "code",
   "execution_count": null,
   "metadata": {
    "id": "Td-sDAuBi4mM"
   },
   "outputs": [],
   "source": [
    "for i in range(0,len(listOfWinning)):\n",
    "\n",
    "  numberOfWinning = len(listOfWinning[i][1])\n",
    "\n",
    "  for j in range(i+1,i+1+numberOfWinning):\n",
    "    listOfWinning[j][2] = listOfWinning[j][2] + listOfWinning[i][2]\n"
   ]
  },
  {
   "cell_type": "code",
   "execution_count": null,
   "metadata": {
    "colab": {
     "base_uri": "https://localhost:8080/"
    },
    "executionInfo": {
     "elapsed": 11,
     "status": "ok",
     "timestamp": 1701715395900,
     "user": {
      "displayName": "Leonardo Brizi",
      "userId": "10572232546459158877"
     },
     "user_tz": -60
    },
    "id": "H4o2vMNRImAd",
    "outputId": "edc5b766-4b53-4ba6-c82b-6bdce99a8395"
   },
   "outputs": [],
   "source": [
    "#Output part 2\n",
    "sum([x[2] for x in listOfWinning])"
   ]
  },
  {
   "cell_type": "markdown",
   "metadata": {
    "id": "a7mk7SmhbdbM"
   },
   "source": [
    "## Day 5"
   ]
  },
  {
   "cell_type": "markdown",
   "metadata": {
    "id": "GARsYy5gbgSX"
   },
   "source": []
  },
  {
   "cell_type": "markdown",
   "metadata": {
    "id": "0XxGgPIpbifg"
   },
   "source": [
    "Input file https://adventofcode.com/2023/day/5/input"
   ]
  },
  {
   "cell_type": "code",
   "execution_count": null,
   "metadata": {
    "id": "FNjDhgEhbkZb"
   },
   "outputs": [],
   "source": [
    "with open('input-5.txt', 'r') as file:\n",
    "    file_content = file.read()"
   ]
  },
  {
   "cell_type": "code",
   "execution_count": null,
   "metadata": {
    "id": "OTD9jSSJwGeK"
   },
   "outputs": [],
   "source": [
    "file_content = file_content[:-1]"
   ]
  },
  {
   "cell_type": "code",
   "execution_count": null,
   "metadata": {
    "id": "6KVz-BBRgRYk"
   },
   "outputs": [],
   "source": [
    "initialSeeds = file_content.split(\"\\n\\n\")[0].split(\": \")[1].split(\" \")"
   ]
  },
  {
   "cell_type": "code",
   "execution_count": null,
   "metadata": {
    "id": "3bmxbkK1hJvQ"
   },
   "outputs": [],
   "source": [
    "maps = []\n",
    "\n",
    "allSections = file_content.split(\"\\n\\n\")\n",
    "\n",
    "for i in range (1,len(allSections)):\n",
    "\n",
    "  mapRows= allSections[i].split(\"\\n\")\n",
    "  l = []\n",
    "\n",
    "  for j in range(1,len(mapRows)):\n",
    "    l.append(mapRows[j].split(\" \"))\n",
    "  maps.append([mapRows[0].replace(\":\",\"\"), l])"
   ]
  },
  {
   "cell_type": "code",
   "execution_count": null,
   "metadata": {
    "id": "BFBToKMCotzz"
   },
   "outputs": [],
   "source": [
    "out_one = []\n",
    "\n",
    "for s in initialSeeds:\n",
    "\n",
    "  seed = int(s)\n",
    "\n",
    "  for m in maps:\n",
    "    for r in m[1]:\n",
    "      rangeStart = int(r[1])\n",
    "      rangeEnd = int(r[1]) + int(r[2]) -1\n",
    "\n",
    "      if seed >= rangeStart and seed <= rangeEnd:\n",
    "        seed = int(r[0]) + seed - rangeStart\n",
    "        break\n",
    "\n",
    "  out_one.append([s,seed])\n"
   ]
  },
  {
   "cell_type": "code",
   "execution_count": null,
   "metadata": {
    "colab": {
     "base_uri": "https://localhost:8080/"
    },
    "executionInfo": {
     "elapsed": 480,
     "status": "ok",
     "timestamp": 1701819191967,
     "user": {
      "displayName": "Leonardo Brizi",
      "userId": "10572232546459158877"
     },
     "user_tz": -60
    },
    "id": "ngpcFZORtmUM",
    "outputId": "7c09bc17-4bd4-4b0e-9b5f-b132f58cb0d0"
   },
   "outputs": [],
   "source": [
    "#Output part 1\n",
    "min([x[1] for x in out_one])"
   ]
  },
  {
   "cell_type": "code",
   "execution_count": null,
   "metadata": {
    "id": "MvArUEl939Mf"
   },
   "outputs": [],
   "source": [
    "newSeeds = []\n",
    "\n",
    "for i in range(0,len(initialSeeds),2):\n",
    "  newSeeds.append([initialSeeds[i],initialSeeds[i+1]])\n"
   ]
  },
  {
   "cell_type": "code",
   "execution_count": null,
   "metadata": {
    "colab": {
     "base_uri": "https://localhost:8080/"
    },
    "executionInfo": {
     "elapsed": 578,
     "status": "ok",
     "timestamp": 1701819202753,
     "user": {
      "displayName": "Leonardo Brizi",
      "userId": "10572232546459158877"
     },
     "user_tz": -60
    },
    "id": "LtCdEhFp6IWZ",
    "outputId": "51846122-2d51-4558-c5b2-14d9fee7037d"
   },
   "outputs": [],
   "source": [
    "newSeeds"
   ]
  },
  {
   "cell_type": "code",
   "execution_count": null,
   "metadata": {
    "id": "1SrOwdlnQEN_"
   },
   "outputs": [],
   "source": [
    "def mapping(seedRange, level, position):\n",
    "\n",
    "  seedStart = seedRange[0]\n",
    "  seedEnd = seedRange[1]\n",
    "\n",
    "  if level < len(maps):\n",
    "    if position < len(maps[level][1]):\n",
    "\n",
    "      r = maps[level][1][position]\n",
    "\n",
    "      rangeStart = int(r[1])\n",
    "      rangeEnd = int(r[1]) + int(r[2]) - 1\n",
    "\n",
    "      if seedStart > rangeEnd or seedEnd < rangeStart:\n",
    "\n",
    "        seedStartTemp = seedStart\n",
    "        seedEndTemp = seedEnd\n",
    "\n",
    "        #out_two.append([[seedStartTemp, seedEndTemp], level, position,\"path A\"])\n",
    "        mapping([seedStartTemp, seedEndTemp], level, position + 1)\n",
    "\n",
    "      if seedStart >= rangeStart and seedEnd <= rangeEnd:\n",
    "\n",
    "        seedStartTemp = int(r[0]) + seedStart - rangeStart\n",
    "        seedEndTemp = int(r[0]) + seedEnd - rangeStart\n",
    "\n",
    "        #out_two.append([[seedStartTemp, seedEndTemp], level, position,\"path B\"])\n",
    "        mapping([seedStartTemp, seedEndTemp], level + 1, 0)\n",
    "\n",
    "      if seedStart < rangeStart and seedEnd >= rangeStart:\n",
    "\n",
    "        seedStartTemp = int(r[0])\n",
    "        seedEndTemp = int(r[0]) + seedEnd - rangeStart\n",
    "\n",
    "        #out_two.append([[seedStartTemp, seedEndTemp], level, position,\"path C1\"])\n",
    "        mapping([seedStartTemp, seedEndTemp], level + 1, 0)\n",
    "\n",
    "        seedStartTemp = seedStart\n",
    "        seedEndTemp = rangeStart - 1\n",
    "\n",
    "        #out_two.append([[seedStartTemp, seedEndTemp], level, position,\"path C2\"])\n",
    "        mapping([seedStartTemp, seedEndTemp], level, position + 1)\n",
    "\n",
    "      if seedStart <= rangeEnd and seedEnd > rangeEnd:\n",
    "\n",
    "        seedStartTemp = int(r[0]) + seedStart - rangeStart\n",
    "        seedEndTemp = int(r[0]) + rangeEnd - rangeStart\n",
    "\n",
    "        #out_two.append([[seedStartTemp, seedEndTemp], level, position,\"path D1\"])\n",
    "        mapping([seedStartTemp, seedEndTemp], level + 1, 0)\n",
    "\n",
    "        seedStartTemp = rangeEnd + 1\n",
    "        seedEndTemp = seedEnd\n",
    "\n",
    "        #out_two.append([[seedStartTemp, seedEndTemp], level, position,\"path D1\"])\n",
    "        mapping([seedStartTemp, seedEndTemp], level, position + 1)\n",
    "\n",
    "    else:\n",
    "      mapping(seedRange, level + 1, 0)\n",
    "  else:\n",
    "    out_two.append(seedRange)\n"
   ]
  },
  {
   "cell_type": "code",
   "execution_count": null,
   "metadata": {
    "id": "jp00G-4FQEJl"
   },
   "outputs": [],
   "source": [
    "out_two = []\n",
    "\n",
    "for x in newSeeds:\n",
    "  mapping([int(x[0]),int(x[0])+int(x[1])-1],0,0)"
   ]
  },
  {
   "cell_type": "code",
   "execution_count": null,
   "metadata": {
    "colab": {
     "base_uri": "https://localhost:8080/"
    },
    "executionInfo": {
     "elapsed": 830,
     "status": "ok",
     "timestamp": 1701819438587,
     "user": {
      "displayName": "Leonardo Brizi",
      "userId": "10572232546459158877"
     },
     "user_tz": -60
    },
    "id": "L3VDPJnxVTYh",
    "outputId": "79be22bc-4340-4650-acd3-b6926f85a0fa"
   },
   "outputs": [],
   "source": [
    "[x for x in out_two if x[0] > x[1]]"
   ]
  },
  {
   "cell_type": "code",
   "execution_count": null,
   "metadata": {
    "colab": {
     "base_uri": "https://localhost:8080/"
    },
    "executionInfo": {
     "elapsed": 504,
     "status": "ok",
     "timestamp": 1701820053508,
     "user": {
      "displayName": "Leonardo Brizi",
      "userId": "10572232546459158877"
     },
     "user_tz": -60
    },
    "id": "eHpGFQ94QEDm",
    "outputId": "f326e564-eeb4-4521-bfcf-9e4968198f9f"
   },
   "outputs": [],
   "source": [
    "#Out part 2\n",
    "min([x[0] for x in out_two])"
   ]
  },
  {
   "cell_type": "markdown",
   "metadata": {
    "id": "xt6SenzdpPFw"
   },
   "source": [
    "## Day  6"
   ]
  },
  {
   "cell_type": "markdown",
   "metadata": {
    "id": "aI2EI198pSBq"
   },
   "source": [
    "Input file https://adventofcode.com/2023/day/6/input"
   ]
  },
  {
   "cell_type": "code",
   "execution_count": null,
   "metadata": {
    "id": "VVdcOt7CpZpS"
   },
   "outputs": [],
   "source": [
    "with open('input-6.txt', 'r') as file:\n",
    "    file_content = file.read()\n",
    "\n",
    "file_content = file_content[:-1]"
   ]
  },
  {
   "cell_type": "code",
   "execution_count": null,
   "metadata": {
    "colab": {
     "base_uri": "https://localhost:8080/"
    },
    "executionInfo": {
     "elapsed": 8,
     "status": "ok",
     "timestamp": 1701841450384,
     "user": {
      "displayName": "Leonardo Brizi",
      "userId": "10572232546459158877"
     },
     "user_tz": -60
    },
    "id": "b2r5xHAPptOC",
    "outputId": "cc3656b7-f9be-4cb1-e7cd-1a2e652405dc"
   },
   "outputs": [],
   "source": [
    "file_content.split(\"\\n\")"
   ]
  },
  {
   "cell_type": "code",
   "execution_count": null,
   "metadata": {
    "id": "xP5BW4sQqE_o"
   },
   "outputs": [],
   "source": [
    "file_content = \"\"\"Time:      7  15   30\n",
    "Distance:  9  40  200\"\"\""
   ]
  },
  {
   "cell_type": "code",
   "execution_count": null,
   "metadata": {
    "id": "2jpnSF6BqJfK"
   },
   "outputs": [],
   "source": [
    "rows = []\n",
    "\n",
    "for r in file_content.split(\"\\n\"):\n",
    "  rows.append([int(x) for x in r.split(\": \")[1].split(\" \") if len(x)> 0])"
   ]
  },
  {
   "cell_type": "code",
   "execution_count": null,
   "metadata": {
    "colab": {
     "base_uri": "https://localhost:8080/"
    },
    "executionInfo": {
     "elapsed": 222,
     "status": "ok",
     "timestamp": 1701844306477,
     "user": {
      "displayName": "Leonardo Brizi",
      "userId": "10572232546459158877"
     },
     "user_tz": -60
    },
    "id": "2MVRmqYc0v90",
    "outputId": "e4b208fa-f17a-4981-c6c4-1d8bba133cfc"
   },
   "outputs": [],
   "source": [
    "rows"
   ]
  },
  {
   "cell_type": "code",
   "execution_count": null,
   "metadata": {
    "id": "-CAkfL2O01q6"
   },
   "outputs": [],
   "source": [
    "def max"
   ]
  },
  {
   "cell_type": "markdown",
   "metadata": {
    "id": "Lw_EHS5LwsFT"
   },
   "source": [
    "## Day 7"
   ]
  },
  {
   "cell_type": "markdown",
   "metadata": {
    "id": "IGRhAeBJwzo7"
   },
   "source": [
    "Input file https://adventofcode.com/2023/day/7/input"
   ]
  },
  {
   "cell_type": "code",
   "execution_count": null,
   "metadata": {
    "id": "l37xVqSWwvpa"
   },
   "outputs": [],
   "source": [
    "with open('input-7.txt', 'r') as file:\n",
    "    file_content = file.read()\n",
    "\n",
    "file_content = file_content[:-1]"
   ]
  },
  {
   "cell_type": "code",
   "execution_count": null,
   "metadata": {
    "id": "DAnmkCYtxpg8"
   },
   "outputs": [],
   "source": [
    "file_content = \"\"\"32T3K 765\n",
    "T55J5 684\n",
    "KK677 28\n",
    "KTJJT 220\n",
    "QQQJA 483\"\"\""
   ]
  },
  {
   "cell_type": "code",
   "execution_count": null,
   "metadata": {
    "id": "Kw2RTfDLx1Sy"
   },
   "outputs": [],
   "source": [
    "hands = [x.split(\" \") for x in file_content.split(\"\\n\")]"
   ]
  },
  {
   "cell_type": "code",
   "execution_count": null,
   "metadata": {
    "id": "nQe6f4ZmypWU"
   },
   "outputs": [],
   "source": [
    "hands"
   ]
  },
  {
   "cell_type": "code",
   "execution_count": null,
   "metadata": {
    "id": "KXYobuhpJ64P"
   },
   "outputs": [],
   "source": [
    "out = []\n",
    "\n",
    "for h in hands:\n",
    "\n",
    "  hProfile = \"00000\"\n",
    "  highcard = [int(x[0].replace(\"A\",\"14\").replace(\"K\",\"13\").replace(\"Q\",\"12\").replace(\"J\",\"11\").replace(\"T\",\"10\")) for x in h[0]]\n",
    "\n",
    "  rawCount= [h[0].count(c) for c in h[0]]\n",
    "\n",
    "  cardCounting = []\n",
    "  for r in rawCount:\n",
    "    cardCounting.append((r,rawCount.count(r)))\n",
    "\n",
    "  cardCounting = list(set(cardCounting))\n",
    "\n",
    "  #five of a kind\n",
    "  if max([x[0] for x in cardCounting]) == 5:\n",
    "    hProfile = \"10000\"\n",
    "\n",
    "  #four of a kind\n",
    "  if max([x[0] for x in cardCounting]) == 4:\n",
    "    hProfile = \"01000\"\n",
    "\n",
    "  #full house\n",
    "  if 3 in [x[0] for x in cardCounting] and 2 in [x[0] for x in cardCounting]:\n",
    "    hProfile = \"00100\"\n",
    "\n",
    "  #three of a kind\n",
    "  if 3 in [x[0] for x in cardCounting] and 2 not in [x[0] for x in cardCounting]:\n",
    "    hProfile = \"00010\"\n",
    "\n",
    "  #two pairs\n",
    "  if (2,4) in cardCounting:\n",
    "    hProfile = \"00002\"\n",
    "\n",
    "  #one pair\n",
    "  if (2,2) in cardCounting and hProfile == \"00000\":\n",
    "    hProfile = \"00001\"\n",
    "\n",
    " #high card do nothing\n",
    "\n",
    "  disambig =\"\"\n",
    "  for z in highcard:\n",
    "    disambig = disambig + (\"00\"+str(z))[-2:]\n",
    "\n",
    "\n",
    "  out.append([h[0], h[1], hProfile, disambig])\n"
   ]
  },
  {
   "cell_type": "code",
   "execution_count": null,
   "metadata": {
    "id": "Q31m4m3d9yeO"
   },
   "outputs": [],
   "source": [
    "sorted(out,key=lambda x: x[2]+x[3])"
   ]
  },
  {
   "cell_type": "code",
   "execution_count": null,
   "metadata": {
    "id": "68HU6_UzA3nx"
   },
   "outputs": [],
   "source": [
    "s = 0\n",
    "rank = 1\n",
    "for y in sorted(out,key=lambda x: x[2]+x[3]):\n",
    "  s = s + int(y[1]) * rank\n",
    "  rank = rank + 1"
   ]
  },
  {
   "cell_type": "code",
   "execution_count": null,
   "metadata": {
    "colab": {
     "base_uri": "https://localhost:8080/"
    },
    "executionInfo": {
     "elapsed": 230,
     "status": "ok",
     "timestamp": 1701979667664,
     "user": {
      "displayName": "Leonardo Brizi",
      "userId": "10572232546459158877"
     },
     "user_tz": -60
    },
    "id": "IaP8BlBJFZO7",
    "outputId": "0a244fc6-0bb5-435f-f3d1-416e9ec2eca3"
   },
   "outputs": [],
   "source": [
    "#output part one\n",
    "s"
   ]
  },
  {
   "cell_type": "code",
   "execution_count": null,
   "metadata": {
    "id": "LHopa1PuuewZ"
   },
   "outputs": [],
   "source": [
    "#insert all combination of all hands. Make sure you store also the original version of the hand to so the high card comparison\n",
    "newHands = []\n",
    "id = 1\n",
    "for h in hands:\n",
    "  if \"J\" not in h[0]:\n",
    "    newHands.append([h[0],h[1],id,h[0]])\n",
    "\n",
    "  if \"J\" in h[0]:\n",
    "    newHands.append([h[0],h[1],id,h[0]])\n",
    "    for s in [\"A\", \"K\", \"Q\", \"T\", \"9\", \"8\", \"7\", \"6\", \"5\", \"4\", \"3\", \"2\"]:\n",
    "      newHands.append([h[0].replace(\"J\",s),h[1],id,h[0]])\n",
    "\n",
    "  id = id + 1\n"
   ]
  },
  {
   "cell_type": "code",
   "execution_count": null,
   "metadata": {
    "id": "iaIGDNIyxLxO"
   },
   "outputs": [],
   "source": [
    "sorted(newHands,key=lambda x: x[2])"
   ]
  },
  {
   "cell_type": "code",
   "execution_count": null,
   "metadata": {
    "id": "LaVPwyQqcO3H"
   },
   "outputs": [],
   "source": [
    "out = []\n",
    "\n",
    "for h in newHands:\n",
    "\n",
    "  hProfile = \"00000\"\n",
    "  highcard = [int(x[0].replace(\"A\",\"14\").replace(\"K\",\"13\").replace(\"Q\",\"12\").replace(\"J\",\"1\").replace(\"T\",\"10\")) for x in h[3]]\n",
    "\n",
    "  rawCount= [h[0].count(c) for c in h[0]]\n",
    "\n",
    "  cardCounting = []\n",
    "  for r in rawCount:\n",
    "    cardCounting.append((r,rawCount.count(r)))\n",
    "\n",
    "  cardCounting = list(set(cardCounting))\n",
    "\n",
    "  #five of a kind\n",
    "  if max([x[0] for x in cardCounting]) == 5:\n",
    "    hProfile = \"10000\"\n",
    "\n",
    "  #four of a kind\n",
    "  if max([x[0] for x in cardCounting]) == 4:\n",
    "    hProfile = \"01000\"\n",
    "\n",
    "  #full house\n",
    "  if 3 in [x[0] for x in cardCounting] and 2 in [x[0] for x in cardCounting]:\n",
    "    hProfile = \"00100\"\n",
    "\n",
    "  #three of a kind\n",
    "  if 3 in [x[0] for x in cardCounting] and 2 not in [x[0] for x in cardCounting]:\n",
    "    hProfile = \"00010\"\n",
    "\n",
    "  #two pairs\n",
    "  if (2,4) in cardCounting:\n",
    "    hProfile = \"00002\"\n",
    "\n",
    "  #one pair\n",
    "  if (2,2) in cardCounting and hProfile == \"00000\":\n",
    "    hProfile = \"00001\"\n",
    "\n",
    " #high card do nothing\n",
    "\n",
    "  disambig =\"\"\n",
    "  for z in highcard:\n",
    "    disambig = disambig + (\"00\"+str(z))[-2:]\n",
    "\n",
    "\n",
    "  out.append([h[0], h[1], hProfile, disambig, h[2]])\n"
   ]
  },
  {
   "cell_type": "code",
   "execution_count": null,
   "metadata": {
    "id": "DCNvyTCYzc_X"
   },
   "outputs": [],
   "source": [
    "#sort first by hand strenght then by id of the hand to select the most powerful after J replacement\n",
    "out_sorted = sorted(sorted(out,key=lambda x: x[2] + x[3],reverse=True),key=lambda x: x[4])"
   ]
  },
  {
   "cell_type": "code",
   "execution_count": null,
   "metadata": {
    "id": "4agEuN3m1eEI"
   },
   "outputs": [],
   "source": [
    "#keep only the most powerful hands per each hand id\n",
    "outPart2 = []\n",
    "\n",
    "for o in out_sorted:\n",
    "  if o[4] not in [x[4] for x in outPart2]:\n",
    "    outPart2.append(o)"
   ]
  },
  {
   "cell_type": "code",
   "execution_count": null,
   "metadata": {
    "id": "UkYnVPFJ2OYC"
   },
   "outputs": [],
   "source": [
    "s = 0\n",
    "rank = 1\n",
    "for y in sorted(outPart2,key=lambda x: x[2]+x[3]):\n",
    "  s = s + int(y[1]) * rank\n",
    "  rank = rank + 1"
   ]
  },
  {
   "cell_type": "code",
   "execution_count": null,
   "metadata": {
    "colab": {
     "base_uri": "https://localhost:8080/"
    },
    "executionInfo": {
     "elapsed": 367,
     "status": "ok",
     "timestamp": 1701979700315,
     "user": {
      "displayName": "Leonardo Brizi",
      "userId": "10572232546459158877"
     },
     "user_tz": -60
    },
    "id": "9KVEDgRK2Ssp",
    "outputId": "f006e492-35b1-432b-9c42-24565391439c"
   },
   "outputs": [],
   "source": [
    "s"
   ]
  },
  {
   "cell_type": "markdown",
   "metadata": {
    "id": "2-C-pDi2NYlt"
   },
   "source": [
    "## Day 8"
   ]
  },
  {
   "cell_type": "markdown",
   "metadata": {
    "id": "GRgUiqtDNb-p"
   },
   "source": [
    "Input file https://adventofcode.com/2023/day/8/input"
   ]
  },
  {
   "cell_type": "code",
   "execution_count": null,
   "metadata": {
    "id": "CgtC9rx8Nh9U"
   },
   "outputs": [],
   "source": [
    "with open('input-8.txt', 'r') as file:\n",
    "    file_content = file.read()\n",
    "\n",
    "file_content = file_content[:-1]"
   ]
  },
  {
   "cell_type": "code",
   "execution_count": null,
   "metadata": {
    "id": "hGwTNaS5tdhQ"
   },
   "outputs": [],
   "source": [
    "file_content = \"\"\"LR\n",
    "\n",
    "11A = (11B, XXX)\n",
    "11B = (XXX, 11Z)\n",
    "11Z = (11B, XXX)\n",
    "22A = (22B, XXX)\n",
    "22B = (22C, 22C)\n",
    "22C = (22Z, 22Z)\n",
    "22Z = (22B, 22B)\n",
    "XXX = (XXX, XXX)\"\"\""
   ]
  },
  {
   "cell_type": "code",
   "execution_count": null,
   "metadata": {
    "id": "iq3-ER_MOV2A"
   },
   "outputs": [],
   "source": [
    "instructions = file_content.split(\"\\n\")[0]"
   ]
  },
  {
   "cell_type": "code",
   "execution_count": null,
   "metadata": {
    "id": "SfJodpCRqViv"
   },
   "outputs": [],
   "source": [
    "nd = file_content.split(\"\\n\")[2:]"
   ]
  },
  {
   "cell_type": "code",
   "execution_count": null,
   "metadata": {
    "id": "JZfkVPNtOqXU"
   },
   "outputs": [],
   "source": [
    "nodes = {}\n",
    "for n in nd:\n",
    "  a = n.replace(\" = (\",\", \").replace(\")\",\"\").split(\", \")\n",
    "  nodes[a[0]] = [a[1],a[2]]"
   ]
  },
  {
   "cell_type": "code",
   "execution_count": null,
   "metadata": {
    "colab": {
     "base_uri": "https://localhost:8080/"
    },
    "executionInfo": {
     "elapsed": 10,
     "status": "ok",
     "timestamp": 1702202776749,
     "user": {
      "displayName": "Leonardo Brizi",
      "userId": "10572232546459158877"
     },
     "user_tz": -60
    },
    "id": "_a72LDW0-9lR",
    "outputId": "15d93585-c460-4095-938c-2caba494ec21"
   },
   "outputs": [],
   "source": [
    "nodes"
   ]
  },
  {
   "cell_type": "code",
   "execution_count": null,
   "metadata": {
    "id": "J_mQF2kRP8yr"
   },
   "outputs": [],
   "source": [
    "steps = 1\n",
    "cicles = 0\n",
    "currentNode = 'AAA'\n",
    "lenInstruct = len(instructions)\n",
    "\n",
    "while steps <= lenInstruct:\n",
    "  if instructions[steps-1] == \"L\":\n",
    "    pos = 0\n",
    "  else:\n",
    "    pos = 1\n",
    "\n",
    "  currentNode = nodes[currentNode][pos]\n",
    "\n",
    "\n",
    "  if currentNode == \"ZZZ\":\n",
    "    #print(i,currentNode,steps)\n",
    "    break\n",
    "  else:\n",
    "    steps += 1\n",
    "\n",
    "  if steps > lenInstruct:\n",
    "    steps = 1\n",
    "    cicles += 1\n"
   ]
  },
  {
   "cell_type": "code",
   "execution_count": null,
   "metadata": {
    "colab": {
     "base_uri": "https://localhost:8080/"
    },
    "executionInfo": {
     "elapsed": 9,
     "status": "ok",
     "timestamp": 1702232742674,
     "user": {
      "displayName": "Leonardo Brizi",
      "userId": "10572232546459158877"
     },
     "user_tz": -60
    },
    "id": "jtAtr4-kSvGn",
    "outputId": "26e7a577-7b5b-432e-fad3-8da95090dc69"
   },
   "outputs": [],
   "source": [
    "#part one\n",
    "cicles * steps + steps"
   ]
  },
  {
   "cell_type": "code",
   "execution_count": null,
   "metadata": {
    "id": "yQMRDqRohLNK"
   },
   "outputs": [],
   "source": [
    "steps = 1\n",
    "cicles = 0\n",
    "currentNodes = [x for x in nodes.keys() if x[-1:] == \"A\"]\n",
    "lenInstruct = len(instructions)\n",
    "\n",
    "while steps <= lenInstruct:\n",
    "  if instructions[steps-1] == \"L\":\n",
    "    pos = 0\n",
    "  else:\n",
    "    pos = 1\n",
    "\n",
    "  nextNodes = []\n",
    "\n",
    "  for n in currentNodes:\n",
    "    nextNodes.append(nodes[n][pos])\n",
    "\n",
    "  currentNodes = nextNodes.copy()\n",
    "\n",
    "  ckc = [x for x in currentNodes if x[-1:] != \"Z\"]\n",
    "\n",
    "  #print(steps,currentNodes)\n",
    "\n",
    "  if len(ckc) == 0:\n",
    "    break\n",
    "  else:\n",
    "    steps += 1\n",
    "\n",
    "  if steps > lenInstruct:\n",
    "    steps = 1\n",
    "    cicles += 1\n"
   ]
  },
  {
   "cell_type": "code",
   "execution_count": null,
   "metadata": {
    "colab": {
     "base_uri": "https://localhost:8080/"
    },
    "executionInfo": {
     "elapsed": 688,
     "status": "ok",
     "timestamp": 1702235118001,
     "user": {
      "displayName": "Leonardo Brizi",
      "userId": "10572232546459158877"
     },
     "user_tz": -60
    },
    "id": "fiem67r7NROw",
    "outputId": "1e388bf0-8a42-44f6-f9d2-af7e4aa897a5"
   },
   "outputs": [],
   "source": [
    "cicles * steps + steps"
   ]
  },
  {
   "cell_type": "code",
   "execution_count": null,
   "metadata": {
    "colab": {
     "base_uri": "https://localhost:8080/"
    },
    "executionInfo": {
     "elapsed": 990,
     "status": "ok",
     "timestamp": 1702235236519,
     "user": {
      "displayName": "Leonardo Brizi",
      "userId": "10572232546459158877"
     },
     "user_tz": -60
    },
    "id": "9MrCYLgtIFMP",
    "outputId": "d1365c2b-96ac-4cff-ef09-1bdac8ba39a9"
   },
   "outputs": [],
   "source": [
    "currentNodes"
   ]
  },
  {
   "cell_type": "code",
   "execution_count": null,
   "metadata": {
    "colab": {
     "base_uri": "https://localhost:8080/"
    },
    "executionInfo": {
     "elapsed": 458,
     "status": "ok",
     "timestamp": 1702235262561,
     "user": {
      "displayName": "Leonardo Brizi",
      "userId": "10572232546459158877"
     },
     "user_tz": -60
    },
    "id": "KpB3BCY_IL7E",
    "outputId": "359e2f74-9cf1-41eb-f3f5-31fa4f2ad8e3"
   },
   "outputs": [],
   "source": [
    "[x for x in nodes.keys() if x[-1:] == \"A\"]"
   ]
  },
  {
   "cell_type": "code",
   "execution_count": null,
   "metadata": {
    "colab": {
     "base_uri": "https://localhost:8080/"
    },
    "executionInfo": {
     "elapsed": 908,
     "status": "ok",
     "timestamp": 1702235278240,
     "user": {
      "displayName": "Leonardo Brizi",
      "userId": "10572232546459158877"
     },
     "user_tz": -60
    },
    "id": "I3UpWm3TIOuW",
    "outputId": "8923cf4c-b7c4-417e-daa8-918a13c3f5ec"
   },
   "outputs": [],
   "source": [
    "[x for x in nodes.keys() if x[-1:] == \"Z\"]"
   ]
  },
  {
   "cell_type": "code",
   "execution_count": null,
   "metadata": {
    "id": "vqK6BIZNfg7R"
   },
   "outputs": [],
   "source": []
  },
  {
   "cell_type": "markdown",
   "metadata": {
    "id": "3gZcJShr8Zh3"
   },
   "source": [
    "## Day 9"
   ]
  },
  {
   "cell_type": "markdown",
   "metadata": {
    "id": "un-cYtKf8ff_"
   },
   "source": [
    "Input file https://adventofcode.com/2023/day/9/input"
   ]
  },
  {
   "cell_type": "code",
   "execution_count": null,
   "metadata": {
    "id": "nByWeug282wB"
   },
   "outputs": [],
   "source": [
    "with open('input-9.txt', 'r') as file:\n",
    "    file_content = file.read()\n",
    "\n",
    "file_content = file_content[:-1]"
   ]
  },
  {
   "cell_type": "code",
   "execution_count": null,
   "metadata": {
    "id": "hCiUKNDv82sM"
   },
   "outputs": [],
   "source": [
    "#file_content = \"\"\"0 3 6 9 12 15\n",
    "#1 3 6 10 15 21\n",
    "#10 13 16 21 30 45\"\"\""
   ]
  },
  {
   "cell_type": "code",
   "execution_count": null,
   "metadata": {
    "id": "voKQQLzm82pB"
   },
   "outputs": [],
   "source": [
    "input = [list(map(int,x.split(\" \"))) for x in file_content.split(\"\\n\")]"
   ]
  },
  {
   "cell_type": "code",
   "execution_count": null,
   "metadata": {
    "id": "TZ79DLuJyODA"
   },
   "outputs": [],
   "source": [
    "out = []\n",
    "for i in input:\n",
    "  tree = []\n",
    "  current = i\n",
    "  tree.append(current)\n",
    "  while min(current) != max(current):\n",
    "    next = []\n",
    "    for j in range(0,len(current)-1):\n",
    "      next.append(current[j+1]-current[j])\n",
    "    tree.append(next)\n",
    "    current = next\n",
    "  out.append(tree)"
   ]
  },
  {
   "cell_type": "code",
   "execution_count": null,
   "metadata": {
    "id": "HTiJdBcOzN7i"
   },
   "outputs": [],
   "source": [
    "prediction = []\n",
    "for o in out:\n",
    "  p = 0\n",
    "  for i in range (len(o)-1,-1,-1):\n",
    "    p = p + o[i][-1]\n",
    "  prediction.append(p)"
   ]
  },
  {
   "cell_type": "code",
   "execution_count": null,
   "metadata": {
    "colab": {
     "base_uri": "https://localhost:8080/"
    },
    "executionInfo": {
     "elapsed": 1035,
     "status": "ok",
     "timestamp": 1704294757984,
     "user": {
      "displayName": "Leonardo Brizi",
      "userId": "10572232546459158877"
     },
     "user_tz": -60
    },
    "id": "VtyirepF2EEZ",
    "outputId": "36b8960e-2491-433a-a4ed-87b196d36738"
   },
   "outputs": [],
   "source": [
    "#output part one\n",
    "sum(prediction)"
   ]
  },
  {
   "cell_type": "code",
   "execution_count": null,
   "metadata": {
    "id": "9CJxzCO13rtQ"
   },
   "outputs": [],
   "source": [
    "prediction = []\n",
    "for o in out:\n",
    "  p = 0\n",
    "  for i in range (len(o)-1,-1,-1):\n",
    "    p = -p + o[i][0]\n",
    "  prediction.append(p)"
   ]
  },
  {
   "cell_type": "code",
   "execution_count": null,
   "metadata": {
    "colab": {
     "base_uri": "https://localhost:8080/"
    },
    "executionInfo": {
     "elapsed": 352,
     "status": "ok",
     "timestamp": 1704294772749,
     "user": {
      "displayName": "Leonardo Brizi",
      "userId": "10572232546459158877"
     },
     "user_tz": -60
    },
    "id": "FaifJZEx3-GG",
    "outputId": "6aa2500f-dee1-4702-8564-14d48594b63c"
   },
   "outputs": [],
   "source": [
    "sum(prediction)"
   ]
  },
  {
   "cell_type": "markdown",
   "metadata": {
    "id": "YIJf-497ZqgL"
   },
   "source": [
    "##Day 10"
   ]
  },
  {
   "cell_type": "markdown",
   "metadata": {
    "id": "dyJW6v75Zxiw"
   },
   "source": [
    "Input file https://adventofcode.com/2023/day/10/input"
   ]
  },
  {
   "cell_type": "code",
   "execution_count": null,
   "metadata": {
    "id": "DxTx5WjcbNpB"
   },
   "outputs": [],
   "source": [
    "import copy"
   ]
  },
  {
   "cell_type": "code",
   "execution_count": null,
   "metadata": {
    "id": "80rpMmBbfzzy"
   },
   "outputs": [],
   "source": [
    "with open('input-10.txt', 'r') as file:\n",
    "    file_content = file.read()\n",
    "\n",
    "file_content = file_content[:-1]"
   ]
  },
  {
   "cell_type": "code",
   "execution_count": null,
   "metadata": {
    "id": "c1ajyL8wZ_cm"
   },
   "outputs": [],
   "source": [
    "file_content = \"\"\"FF7FSF7F7F7F7F7F---7\n",
    "L|LJ||||||||||||F--J\n",
    "FL-7LJLJ||||||LJL-77\n",
    "F--JF--7||LJLJ7F7FJ-\n",
    "L---JF-JLJ.||-FJLJJ7\n",
    "|F|F-JF---7F7-L7L|7|\n",
    "|FFJF7L7F-JF7|JL---7\n",
    "7-L-JL7||F7|L7F-7F7|\n",
    "L.L7LFJ|||||FJL7||LJ\n",
    "L7JLJL-JLJLJL--JLJ.L\"\"\""
   ]
  },
  {
   "cell_type": "code",
   "execution_count": null,
   "metadata": {
    "id": "wt4OqUmraYtO"
   },
   "outputs": [],
   "source": [
    "#create the map as a list of lists and initialize the visited(Y/N) and distance labels\n",
    "map = [[[y,0,0] for y in x] for x in file_content.split(\"\\n\")]"
   ]
  },
  {
   "cell_type": "code",
   "execution_count": null,
   "metadata": {
    "id": "LgCFJgyH-zKW"
   },
   "outputs": [],
   "source": [
    "#define boundaries of the map to avoid index overflow during traversing\n",
    "maxRow = len(map)\n",
    "maxCol = len(map[0])"
   ]
  },
  {
   "cell_type": "code",
   "execution_count": null,
   "metadata": {
    "colab": {
     "base_uri": "https://localhost:8080/"
    },
    "executionInfo": {
     "elapsed": 660,
     "status": "ok",
     "timestamp": 1704384401786,
     "user": {
      "displayName": "Leonardo Brizi",
      "userId": "10572232546459158877"
     },
     "user_tz": -60
    },
    "id": "6Od7YrDZgHmb",
    "outputId": "7a38ac31-7dee-4178-87d7-278a8bf05139"
   },
   "outputs": [],
   "source": [
    "print([maxRow, maxCol])"
   ]
  },
  {
   "cell_type": "code",
   "execution_count": null,
   "metadata": {
    "id": "OrYym72jbZOv"
   },
   "outputs": [],
   "source": [
    "#walk through the map, search for the start point\n",
    "for row in range(0,len(map)):\n",
    "  for col in range(0,len(map[row])):\n",
    "    if map[row][col][0] == \"S\":\n",
    "      #pcoordinates of the start point\n",
    "      rowS = row\n",
    "      colS = col\n",
    "      #Initialise the S square as visited\n",
    "      map[row][col][1] = 1"
   ]
  },
  {
   "cell_type": "code",
   "execution_count": null,
   "metadata": {
    "id": "NzcOyt-Z4kK1"
   },
   "outputs": [],
   "source": [
    "def traverse(row,col):\n",
    "\n",
    "  #print([row,col])\n",
    "\n",
    "  # 1) southward traverse\n",
    "  if row + 1 < maxRow:\n",
    "      if map[row + 1][col][1] == 0 and map[row + 1][col][0] in (\"|\",\"L\",\"J\") and map[row][col][0] in (\"|\",\"7\",\"F\",\"S\"):\n",
    "        #set next square as visited\n",
    "        map[row + 1][col][1] = 1\n",
    "        #set distance\n",
    "        map[row + 1][col][2] = map[row][col][2] + 1\n",
    "        #next loc\n",
    "        nextRow, nextCol = row + 1, col\n",
    "        return [nextRow, nextCol]\n",
    "\n",
    "  # 2) northward traverse\n",
    "  if row - 1 >= 0:\n",
    "      if map[row - 1][col][1] == 0 and map[row - 1][col][0] in (\"|\",\"F\",\"7\") and map[row][col][0] in (\"|\",\"J\",\"L\",\"S\"):\n",
    "        #set next square as visited\n",
    "        map[row - 1][col][1] = 1\n",
    "        #set distance\n",
    "        map[row - 1][col][2] = map[row][col][2] + 1\n",
    "        #next loc\n",
    "        nextRow, nextCol = row - 1, col\n",
    "        return [nextRow, nextCol]\n",
    "\n",
    "  # 3) eastward traverse\n",
    "  if col + 1 < maxCol:\n",
    "      if map[row][col + 1][1] == 0 and map[row][col + 1][0] in (\"-\",\"J\",\"7\") and map[row][col][0] in (\"-\",\"L\",\"F\",\"S\"):\n",
    "        #set next square as visited\n",
    "        map[row][col + 1][1] = 1\n",
    "        #set distance\n",
    "        map[row][col + 1][2] = map[row][col][2] + 1\n",
    "        #next loc\n",
    "        nextRow, nextCol = row, col +1\n",
    "        return [nextRow, nextCol]\n",
    "\n",
    "  # 4) westward traverse\n",
    "  if col - 1 >= 0:\n",
    "      if map[row][col - 1][1] == 0 and map[row][col - 1][0] in (\"-\",\"L\",\"F\") and map[row][col][0] in (\"-\",\"J\",\"7\",\"S\"):\n",
    "        #set next square as visited\n",
    "        map[row][col - 1][1] = 1\n",
    "        #set distance\n",
    "        map[row][col - 1][2] = map[row][col][2] + 1\n",
    "        #next loc\n",
    "        nextRow, nextCol = row, col - 1\n",
    "        return [nextRow, nextCol]\n",
    "\n",
    "  return []\n",
    "\n",
    "\n"
   ]
  },
  {
   "cell_type": "code",
   "execution_count": null,
   "metadata": {
    "id": "ktMaCxtaRFgU"
   },
   "outputs": [],
   "source": [
    "current = [[rowS,colS],[rowS,colS]]\n",
    "chk = 0\n",
    "\n",
    "while chk == 0:\n",
    "  next = []\n",
    "  for p in current:\n",
    "    out = traverse(p[0],p[1])\n",
    "    if len(out) > 0:\n",
    "      next.append(out)\n",
    "    else:\n",
    "      chk = 1\n",
    "\n",
    "  current = next"
   ]
  },
  {
   "cell_type": "code",
   "execution_count": null,
   "metadata": {
    "id": "j46e_Om1gWbr"
   },
   "outputs": [],
   "source": [
    "max = 0\n",
    "for row in map:\n",
    "  for col in row:\n",
    "    if col[2] > max:\n",
    "      max =  col[2]"
   ]
  },
  {
   "cell_type": "code",
   "execution_count": null,
   "metadata": {
    "colab": {
     "base_uri": "https://localhost:8080/"
    },
    "executionInfo": {
     "elapsed": 822,
     "status": "ok",
     "timestamp": 1704384417143,
     "user": {
      "displayName": "Leonardo Brizi",
      "userId": "10572232546459158877"
     },
     "user_tz": -60
    },
    "id": "bbpPZkIvgWYM",
    "outputId": "519adffc-5b3b-4397-f3c0-1fedac702017"
   },
   "outputs": [],
   "source": [
    "#outcome part one\n",
    "max"
   ]
  },
  {
   "cell_type": "code",
   "execution_count": null,
   "metadata": {
    "id": "vH6hJUT76LWe"
   },
   "outputs": [],
   "source": [
    "#Replace S with the appropriate vertex in case S is a degenerate vertex L or 7\n",
    "if map[rowS-1][colS][2]== 1 and map[rowS][colS+1][2]== 1:\n",
    "  print(\"L\")\n",
    "  map[rowS][colS][0]=\"L\"\n",
    "if map[rowS][colS-1][2]== 1 and map[rowS+1][colS][2]== 1:\n",
    "  print(\"7\")\n",
    "  map[rowS][colS][0]=\"7\""
   ]
  },
  {
   "cell_type": "code",
   "execution_count": null,
   "metadata": {
    "id": "HWQjlNGvp_fc"
   },
   "outputs": [],
   "source": [
    "#compute number of points in the loop by applying the ray casting algorithm. Use 45 NW to SE rays. With this setup, degenrate nodes are L and 7\n",
    "nbPointsIn = 0\n",
    "\n",
    "for row in range(0,len(map)):\n",
    "  for col in range(0,len(map[row])):\n",
    "    if map[row][col][1] == 0:\n",
    "      nbCrossing = 0\n",
    "      for i in range(1,min([maxRow-row,maxCol-col])):\n",
    "\n",
    "        #identify all crossings\n",
    "        if map[row + i][col + i][1] == 1:\n",
    "\n",
    "          #print([map[row][col],map[row + i][col + i],nbCrossing,row,col,i])\n",
    "\n",
    "          #remove vertex for which the ray is tangent (edges above) and no boundary\n",
    "          if row + i - 1 >= 0 and col + i + 1 < maxCol and map[row + i][col + i][0] in (\"L\") and map[row + i - 1][col + i][1] == 1 and map[row + i][col + i + 1][1] == 1:\n",
    "            #print(\"chk 1\")\n",
    "            pass\n",
    "\n",
    "          #remove vertex for which the ray is tangent (edges below) and no boundary\n",
    "          elif col + i - 1 >= 0 and row + i + 1 < maxRow and map[row + i][col + i][0] in (\"7\") and map[row + i + 1][col + i][1] == 1 and map[row + i][col + i - 1][1] == 1:\n",
    "            #print(\"chk 2\")\n",
    "            pass\n",
    "\n",
    "          elif 1==1:\n",
    "            nbCrossing += 1\n",
    "            #print(\"chk 3\")\n",
    "\n",
    "      if nbCrossing % 2 != 0:\n",
    "        nbPointsIn += 1\n",
    "        #print([map[row][col],row,col])\n"
   ]
  },
  {
   "cell_type": "code",
   "execution_count": null,
   "metadata": {
    "colab": {
     "base_uri": "https://localhost:8080/"
    },
    "executionInfo": {
     "elapsed": 8,
     "status": "ok",
     "timestamp": 1704384441268,
     "user": {
      "displayName": "Leonardo Brizi",
      "userId": "10572232546459158877"
     },
     "user_tz": -60
    },
    "id": "uSJ1jhITiijs",
    "outputId": "fbf58ba4-4d97-4a47-926a-fcc978d406bc"
   },
   "outputs": [],
   "source": [
    "#outcome part two\n",
    "nbPointsIn"
   ]
  },
  {
   "cell_type": "markdown",
   "metadata": {
    "id": "TOCwgutDg2w-"
   },
   "source": [
    "## Day 11"
   ]
  },
  {
   "cell_type": "markdown",
   "metadata": {
    "id": "PRf9THikhFHi"
   },
   "source": [
    "Input file https://adventofcode.com/2023/day/11/input"
   ]
  },
  {
   "cell_type": "code",
   "execution_count": null,
   "metadata": {
    "id": "2MVuaVsPW5b1"
   },
   "outputs": [],
   "source": [
    "import copy\n",
    "from tqdm import tqdm"
   ]
  },
  {
   "cell_type": "code",
   "execution_count": null,
   "metadata": {
    "colab": {
     "base_uri": "https://localhost:8080/",
     "height": 190
    },
    "executionInfo": {
     "elapsed": 363,
     "status": "error",
     "timestamp": 1709531184206,
     "user": {
      "displayName": "Leonardo Brizi",
      "userId": "10572232546459158877"
     },
     "user_tz": -60
    },
    "id": "uxoAiQLSQLdf",
    "outputId": "19b74726-b57c-4632-ffd9-514347ecee1e"
   },
   "outputs": [],
   "source": [
    "with open('input-11.txt', 'r') as file:\n",
    "    file_content = file.read()\n",
    "\n",
    "file_content = file_content[:-1]"
   ]
  },
  {
   "cell_type": "code",
   "execution_count": null,
   "metadata": {
    "id": "7dX00cfYhQMU"
   },
   "outputs": [],
   "source": [
    "file_content = \"\"\"...#......\n",
    ".......#..\n",
    "#.........\n",
    "..........\n",
    "......#...\n",
    ".#........\n",
    ".........#\n",
    "..........\n",
    ".......#..\n",
    "#...#.....\"\"\""
   ]
  },
  {
   "cell_type": "code",
   "execution_count": null,
   "metadata": {
    "colab": {
     "base_uri": "https://localhost:8080/"
    },
    "executionInfo": {
     "elapsed": 9,
     "status": "ok",
     "timestamp": 1702359521524,
     "user": {
      "displayName": "Leonardo Brizi",
      "userId": "10572232546459158877"
     },
     "user_tz": -60
    },
    "id": "mjpDjX7LhbeQ",
    "outputId": "10a4151d-7416-4386-f49b-61c119acf4ed"
   },
   "outputs": [],
   "source": [
    "file_content.split(\"\\n\")"
   ]
  },
  {
   "cell_type": "code",
   "execution_count": null,
   "metadata": {
    "id": "5uy_B5ZIhvx3"
   },
   "outputs": [],
   "source": [
    "#duplicate rows with no #\n",
    "doubledRows = []\n",
    "\n",
    "for row in file_content.split(\"\\n\"):\n",
    "  if \"#\" in row:\n",
    "    doubledRows.append(row)\n",
    "  else:\n",
    "    doubledRows.append(row)\n",
    "    doubledRows.append(row)"
   ]
  },
  {
   "cell_type": "code",
   "execution_count": null,
   "metadata": {
    "id": "BhkfzRhFiY-s"
   },
   "outputs": [],
   "source": [
    "#duplicate columns with no #\n",
    "doubleColumns = []\n",
    "\n",
    "for i in range(0,len(doubledRows[0])):\n",
    "  if \"#\" in [x[i] for x in doubledRows]:\n",
    "    doubleColumns.append([x[i] for x in doubledRows])\n",
    "  else:\n",
    "     doubleColumns.append([x[i] for x in doubledRows])\n",
    "     doubleColumns.append([x[i] for x in doubledRows])\n"
   ]
  },
  {
   "cell_type": "code",
   "execution_count": null,
   "metadata": {
    "id": "J0IFbY32jLCq"
   },
   "outputs": [],
   "source": [
    "#combine into transposed space\n",
    "space = []\n",
    "\n",
    "for i in range(0,len(doubleColumns[0])):\n",
    "  space.append([x[i] for x in doubleColumns])"
   ]
  },
  {
   "cell_type": "code",
   "execution_count": null,
   "metadata": {
    "id": "ZWlxV4XRknXd"
   },
   "outputs": [],
   "source": [
    "#transpose and assign sequential number to galaxis\n",
    "count = 1\n",
    "startNodes = []\n",
    "\n",
    "for row in range(0,len([x[0] for x in space])):\n",
    "  for col in range(0,len(space[0])):\n",
    "    if space[row][col] == \"#\":\n",
    "      space[row][col] = [count,0]\n",
    "      startNodes.append([count,row,col])\n",
    "      count +=1\n",
    "    else:\n",
    "      space[row][col] = [0 ,0]"
   ]
  },
  {
   "cell_type": "code",
   "execution_count": null,
   "metadata": {
    "id": "MJnhEVz0Q5tH"
   },
   "outputs": [],
   "source": [
    "#make a deep copy of original space\n",
    "spaceOriginal = copy.deepcopy(space)"
   ]
  },
  {
   "cell_type": "code",
   "execution_count": null,
   "metadata": {
    "id": "GHXsao36fHz-"
   },
   "outputs": [],
   "source": [
    "startNodes"
   ]
  },
  {
   "cell_type": "code",
   "execution_count": null,
   "metadata": {
    "id": "7GuumJnqc_tP"
   },
   "outputs": [],
   "source": [
    "#define reset funtion to initialize space when moving to the next starting node to avoid visiting places\n",
    "def resetSpace(row,col):\n",
    "  space = copy.deepcopy(spaceOriginal)\n",
    "  for r in range(0,row+1):\n",
    "    for c in range(0,col+1):\n",
    "      space[r][c][1] = 1\n",
    "  return space"
   ]
  },
  {
   "cell_type": "code",
   "execution_count": null,
   "metadata": {
    "colab": {
     "base_uri": "https://localhost:8080/"
    },
    "executionInfo": {
     "elapsed": 1111084,
     "status": "ok",
     "timestamp": 1702327343754,
     "user": {
      "displayName": "Leonardo Brizi",
      "userId": "10572232546459158877"
     },
     "user_tz": -60
    },
    "id": "K8IYbcylceQZ",
    "outputId": "b4b8bfc0-c26f-4eea-c598-ddd93b634a9b"
   },
   "outputs": [],
   "source": [
    "#iterate over start node, visit all spaces and collect nodes with higher value\n",
    "maxRow = len([x[0] for x in space])\n",
    "maxCol = len(space[0])\n",
    "out = []\n",
    "current = []\n",
    "\n",
    "for s in tqdm(startNodes, desc=\"Processing\"):\n",
    "  start = s\n",
    "  current.append([start[1],start[2]])\n",
    "  space = resetSpace(start[1],start[2])\n",
    "  distance = 0\n",
    "\n",
    "  while len(current) != 0:\n",
    "\n",
    "    next = []\n",
    "    distance += 1\n",
    "\n",
    "    for c in current:\n",
    "      row = c[0]\n",
    "      col = c[1]\n",
    "\n",
    "      if row + 1 < maxRow and space[row+1][col][1] == 0:\n",
    "        next.append([row+1,col])\n",
    "        space[row+1][col][1] = 1\n",
    "        #print(next)\n",
    "        if space[row+1][col][0] > space[start[1]][start[2]][0]:\n",
    "          out.append([space[start[1]][start[2]][0],space[row+1][col][0],distance])\n",
    "\n",
    "      if row - 1 >=0 and space[row-1][col][1] == 0:\n",
    "        next.append([row-1,col])\n",
    "        space[row-1][col][1] = 1\n",
    "        #print(next)\n",
    "        if space[row-1][col][0]  > space[start[1]][start[2]][0]:\n",
    "          out.append([space[start[1]][start[2]][0],space[row-1][col][0],distance])\n",
    "\n",
    "      if col + 1 < maxCol and space[row][col+1][1] == 0:\n",
    "        next.append([row,col+1])\n",
    "        space[row][col+1][1] = 1\n",
    "        #print(next)\n",
    "        if space[row][col+1][0] > space[start[1]][start[2]][0]:\n",
    "          out.append([space[start[1]][start[2]][0],space[row][col+1][0],distance])\n",
    "\n",
    "      if col - 1 >=0 and space[row][col-1][1] == 0:\n",
    "        next.append([row,col-1])\n",
    "        space[row][col-1][1] = 1\n",
    "        #print(next)\n",
    "        if space[row][col-1][0] > space[start[1]][start[2]][0]:\n",
    "          out.append([space[start[1]][start[2]][0],space[row][col-1][0],distance])\n",
    "\n",
    "      current = copy.deepcopy(next)\n"
   ]
  },
  {
   "cell_type": "code",
   "execution_count": null,
   "metadata": {
    "colab": {
     "base_uri": "https://localhost:8080/"
    },
    "executionInfo": {
     "elapsed": 394,
     "status": "ok",
     "timestamp": 1702327495507,
     "user": {
      "displayName": "Leonardo Brizi",
      "userId": "10572232546459158877"
     },
     "user_tz": -60
    },
    "id": "amCq6hCUR_sM",
    "outputId": "78c856a6-4918-4a81-afa3-8bd247561f6a"
   },
   "outputs": [],
   "source": [
    "#outcome part one\n",
    "sum([x[2] for x in out])"
   ]
  },
  {
   "cell_type": "code",
   "execution_count": null,
   "metadata": {
    "id": "1D18ECZVi3hC"
   },
   "outputs": [],
   "source": [
    "with open('input-11.txt', 'r') as file:\n",
    "    file_content = file.read()\n",
    "\n",
    "file_content = file_content[:-1]"
   ]
  },
  {
   "cell_type": "code",
   "execution_count": null,
   "metadata": {
    "id": "d98E0THsjmFt"
   },
   "outputs": [],
   "source": [
    "multiplyFactor = 1000000"
   ]
  },
  {
   "cell_type": "code",
   "execution_count": null,
   "metadata": {
    "id": "7ue-snrPjDaW"
   },
   "outputs": [],
   "source": [
    "multipliedRows = []\n",
    "\n",
    "for row in file_content.split(\"\\n\"):\n",
    "  if \"#\" in row:\n",
    "    multipliedRows.append([[x,1] for x in row])\n",
    "  else:\n",
    "    multipliedRows.append([[x,multiplyFactor] for x in row])"
   ]
  },
  {
   "cell_type": "code",
   "execution_count": null,
   "metadata": {
    "id": "_ZtJ79USjzsU"
   },
   "outputs": [],
   "source": [
    "multipliedColumns = []\n",
    "\n",
    "for i in range(0,len(multipliedRows[0])):\n",
    "  if \"#\" in [x[i][0] for x in multipliedRows]:\n",
    "    multipliedColumns.append([[x[i][0],x[i][1],1] for x in multipliedRows])\n",
    "  else:\n",
    "    multipliedColumns.append([[x[i][0],x[i][1],multiplyFactor] for x in multipliedRows])"
   ]
  },
  {
   "cell_type": "code",
   "execution_count": null,
   "metadata": {
    "id": "HgcFPFJ4kwpZ"
   },
   "outputs": [],
   "source": [
    "space = []\n",
    "\n",
    "for i in range(0,len(multipliedColumns[0])):\n",
    "  space.append([x[i] for x in multipliedColumns])"
   ]
  },
  {
   "cell_type": "code",
   "execution_count": null,
   "metadata": {
    "id": "INuwlwhOk_Dd"
   },
   "outputs": [],
   "source": [
    "count = 1\n",
    "startNodes = []\n",
    "\n",
    "for row in range(0,len([x[0] for x in space])):\n",
    "  for col in range(0,len(space[0])):\n",
    "    if space[row][col][0] == \"#\":\n",
    "      space[row][col] = [count,0,space[row][col][1],space[row][col][2]]\n",
    "      startNodes.append([count,row,col])\n",
    "      count +=1\n",
    "    else:\n",
    "      space[row][col] = [0 ,0,space[row][col][1],space[row][col][2]]"
   ]
  },
  {
   "cell_type": "code",
   "execution_count": null,
   "metadata": {
    "id": "i2zgaNploctx"
   },
   "outputs": [],
   "source": [
    "#make a deep copy of original space\n",
    "spaceOriginal = copy.deepcopy(space)"
   ]
  },
  {
   "cell_type": "code",
   "execution_count": null,
   "metadata": {
    "id": "yGLYX5pnp4q7"
   },
   "outputs": [],
   "source": [
    "#define reset funtion to initialize space when moving to the next starting node to avoid visiting places\n",
    "def resetSpace(row,col):\n",
    "  space = copy.deepcopy(spaceOriginal)\n",
    "  for r in range(0,row+1):\n",
    "    for c in range(0,col+1):\n",
    "      space[r][c][1] = 1\n",
    "  return space"
   ]
  },
  {
   "cell_type": "code",
   "execution_count": null,
   "metadata": {
    "colab": {
     "base_uri": "https://localhost:8080/"
    },
    "executionInfo": {
     "elapsed": 650855,
     "status": "ok",
     "timestamp": 1702411241839,
     "user": {
      "displayName": "Leonardo Brizi",
      "userId": "10572232546459158877"
     },
     "user_tz": -60
    },
    "id": "eIAz5sCgp6y3",
    "outputId": "56f1448f-fcc2-4b06-fbd5-57492fe49b27"
   },
   "outputs": [],
   "source": [
    "#iterate over start node, visit all spaces and collect nodes with higher value\n",
    "maxRow = len([x[0] for x in space])\n",
    "maxCol = len(space[0])\n",
    "out = []\n",
    "current = []\n",
    "\n",
    "for s in tqdm(startNodes, desc=\"Processing\"):\n",
    "  start = s\n",
    "  current.append([start[1],start[2],0])\n",
    "  space = resetSpace(start[1],start[2])\n",
    "  #distance = 0 this approach is not applicable anymore. Distance need to be stored in the current/next nodes info\n",
    "\n",
    "  while len(current) != 0:\n",
    "\n",
    "    next = []\n",
    "\n",
    "    for c in current:\n",
    "      row = c[0]\n",
    "      col = c[1]\n",
    "      distance = c[2]\n",
    "\n",
    "      if row + 1 < maxRow and space[row+1][col][1] == 0:\n",
    "        distanceOffset = space[row+1][col][2]\n",
    "        next.append([row+1,col,distance + distanceOffset])\n",
    "        space[row+1][col][1] = 1\n",
    "        if space[row+1][col][0] > space[start[1]][start[2]][0]:\n",
    "          out.append([space[start[1]][start[2]][0],space[row+1][col][0],distance + distanceOffset])\n",
    "\n",
    "      if row - 1 >=0 and space[row-1][col][1] == 0:\n",
    "        distanceOffset = space[row-1][col][2]\n",
    "        next.append([row-1,col,distance + distanceOffset])\n",
    "        space[row-1][col][1] = 1\n",
    "        if space[row-1][col][0]  > space[start[1]][start[2]][0]:\n",
    "          out.append([space[start[1]][start[2]][0],space[row-1][col][0],distance + distanceOffset])\n",
    "\n",
    "      if col + 1 < maxCol and space[row][col+1][1] == 0:\n",
    "        distanceOffset = space[col+1][col][3]\n",
    "        next.append([row,col+1,distance + distanceOffset])\n",
    "        space[row][col+1][1] = 1\n",
    "        if space[row][col+1][0] > space[start[1]][start[2]][0]:\n",
    "          out.append([space[start[1]][start[2]][0],space[row][col+1][0],distance + distanceOffset])\n",
    "\n",
    "      if col - 1 >=0 and space[row][col-1][1] == 0:\n",
    "        distanceOffset = space[col-1][col][3]\n",
    "        next.append([row,col-1,distance + distanceOffset])\n",
    "        space[row][col-1][1] = 1\n",
    "        if space[row][col-1][0] > space[start[1]][start[2]][0]:\n",
    "          out.append([space[start[1]][start[2]][0],space[row][col-1][0],distance + distanceOffset])\n",
    "\n",
    "      current = copy.deepcopy(next)\n"
   ]
  },
  {
   "cell_type": "code",
   "execution_count": null,
   "metadata": {
    "colab": {
     "base_uri": "https://localhost:8080/"
    },
    "executionInfo": {
     "elapsed": 450,
     "status": "ok",
     "timestamp": 1702411528942,
     "user": {
      "displayName": "Leonardo Brizi",
      "userId": "10572232546459158877"
     },
     "user_tz": -60
    },
    "id": "HPIf9W-WtCfC",
    "outputId": "164d9d95-c3f1-46f1-e46b-391d9fa366f9"
   },
   "outputs": [],
   "source": [
    "sum([x[2] for x in out])"
   ]
  },
  {
   "cell_type": "markdown",
   "metadata": {
    "id": "VlivhyJPjIz1"
   },
   "source": [
    "## Day 12"
   ]
  },
  {
   "cell_type": "markdown",
   "metadata": {
    "id": "PAdT8NGVjMgp"
   },
   "source": [
    "Input file https://adventofcode.com/2023/day/12/input"
   ]
  },
  {
   "cell_type": "code",
   "execution_count": null,
   "metadata": {
    "id": "5c-ySQWSlXkw"
   },
   "outputs": [],
   "source": [
    "import itertools"
   ]
  },
  {
   "cell_type": "code",
   "execution_count": null,
   "metadata": {
    "id": "uHDm3xhfjTgt"
   },
   "outputs": [],
   "source": [
    "file_content = \"\"\"???.### 1,1,3\n",
    ".??..??...?##. 1,1,3\n",
    "?#?#?#?#?#?#?#? 1,3,1,6\n",
    "????.#...#... 4,1,1\n",
    "????.######..#####. 1,6,5\n",
    "?###???????? 3,2,1\"\"\""
   ]
  },
  {
   "cell_type": "code",
   "execution_count": 2,
   "metadata": {
    "executionInfo": {
     "elapsed": 249,
     "status": "ok",
     "timestamp": 1709531193947,
     "user": {
      "displayName": "Leonardo Brizi",
      "userId": "10572232546459158877"
     },
     "user_tz": -60
    },
    "id": "QEoYk9bAMvUW"
   },
   "outputs": [],
   "source": [
    "with open('input-12.txt', 'r') as file:\n",
    "    file_content = file.read()\n",
    "\n",
    "file_content = file_content[:-1]"
   ]
  },
  {
   "cell_type": "code",
   "execution_count": 3,
   "metadata": {
    "executionInfo": {
     "elapsed": 229,
     "status": "ok",
     "timestamp": 1709531198201,
     "user": {
      "displayName": "Leonardo Brizi",
      "userId": "10572232546459158877"
     },
     "user_tz": -60
    },
    "id": "2uRP69EbkmD1"
   },
   "outputs": [],
   "source": [
    "conditions = [ x.split(\" \") for x in file_content.split(\"\\n\")]"
   ]
  },
  {
   "cell_type": "code",
   "execution_count": null,
   "metadata": {
    "colab": {
     "base_uri": "https://localhost:8080/"
    },
    "executionInfo": {
     "elapsed": 5,
     "status": "ok",
     "timestamp": 1709531199122,
     "user": {
      "displayName": "Leonardo Brizi",
      "userId": "10572232546459158877"
     },
     "user_tz": -60
    },
    "id": "v6QcsfHklQpG",
    "outputId": "50675c21-6dc2-40b8-b113-e286414998e0"
   },
   "outputs": [],
   "source": [
    "conditions[0]"
   ]
  },
  {
   "cell_type": "code",
   "execution_count": null,
   "metadata": {
    "id": "ntVCy4ot4vI_"
   },
   "outputs": [],
   "source": [
    "#generate non-negative integer composition\n",
    "def generator(n, l):\n",
    "    for combination in itertools.combinations_with_replacement(range(l), n):\n",
    "        output = [0]*l\n",
    "        for i in combination:\n",
    "            output[i] += 1\n",
    "        yield output"
   ]
  },
  {
   "cell_type": "code",
   "execution_count": null,
   "metadata": {
    "id": "omnlr55HHilb"
   },
   "outputs": [],
   "source": [
    "outFinal = []\n",
    "\n",
    "for c in conditions:\n",
    "  nbSlots = len(c[1].split(\",\")) + 1\n",
    "  nbFreeDots = len(c[0]) - sum(map(int,c[1].split(\",\"))) - (nbSlots-2)\n",
    "\n",
    "  #generate all possible way of distributing nbFreeDots in nbSlots\n",
    "  compositions = generator(nbFreeDots,nbSlots)\n",
    "\n",
    "  for cps in compositions:\n",
    "    strOut = \"\"\n",
    "    dotPos  = 0\n",
    "    slotPos = 0\n",
    "    for f in cps:\n",
    "      #add dots based on a given composition\n",
    "      strOut = strOut +\".\"*f\n",
    "      #internal slots need to have at least one dot\n",
    "      if slotPos != 0 and slotPos != nbSlots - 1:\n",
    "         strOut = strOut + \".\"\n",
    "      if dotPos < nbSlots-1:\n",
    "        strOut = strOut + \"#\"*int((c[1].split(\",\")[dotPos]))\n",
    "      slotPos = slotPos + 1\n",
    "      dotPos = dotPos + 1\n",
    "\n",
    "    #check if the generated string is consistent with the target\n",
    "    k=0\n",
    "    checkSum = 0\n",
    "\n",
    "    while k < len(c[0]):\n",
    "      if int(c[0][k].replace(\"?\",\"0\").replace(\"#\",\"-1\").replace(\".\",\"1\")) * int(strOut[k].replace(\"?\",\"0\").replace(\"#\",\"-1\").replace(\".\",\"1\"))  < 0:\n",
    "        checkSum = 1\n",
    "        break\n",
    "      k = k + 1\n",
    "\n",
    "    if checkSum == 0:\n",
    "      outFinal.append([c[0],strOut])"
   ]
  },
  {
   "cell_type": "code",
   "execution_count": null,
   "metadata": {
    "colab": {
     "base_uri": "https://localhost:8080/"
    },
    "executionInfo": {
     "elapsed": 365,
     "status": "ok",
     "timestamp": 1708779620197,
     "user": {
      "displayName": "Leonardo Brizi",
      "userId": "10572232546459158877"
     },
     "user_tz": -60
    },
    "id": "q3ytwDk_-UCG",
    "outputId": "09ee01c9-9e34-4faf-de56-473fe98f53a8"
   },
   "outputs": [],
   "source": [
    "#output first part\n",
    "len(outFinal)"
   ]
  },
  {
   "cell_type": "code",
   "execution_count": 5,
   "metadata": {
    "executionInfo": {
     "elapsed": 233,
     "status": "ok",
     "timestamp": 1709531207120,
     "user": {
      "displayName": "Leonardo Brizi",
      "userId": "10572232546459158877"
     },
     "user_tz": -60
    },
    "id": "U76LKqxlfeMG"
   },
   "outputs": [],
   "source": [
    "from tqdm import tqdm"
   ]
  },
  {
   "cell_type": "code",
   "execution_count": 6,
   "metadata": {
    "executionInfo": {
     "elapsed": 230,
     "status": "ok",
     "timestamp": 1709531208171,
     "user": {
      "displayName": "Leonardo Brizi",
      "userId": "10572232546459158877"
     },
     "user_tz": -60
    },
    "id": "Zq3egJqGy5cb"
   },
   "outputs": [],
   "source": [
    "unfoldedCond = []\n",
    "\n",
    "for c in conditions:\n",
    "  unfoldedCond.append([((c[0]+\"?\")*5)[:-1],list(map(int,(((c[1]+\",\")*5)[:-1]).split(\",\")))])\n"
   ]
  },
  {
   "cell_type": "code",
   "execution_count": null,
   "metadata": {
    "colab": {
     "base_uri": "https://localhost:8080/"
    },
    "executionInfo": {
     "elapsed": 412,
     "status": "ok",
     "timestamp": 1709531210007,
     "user": {
      "displayName": "Leonardo Brizi",
      "userId": "10572232546459158877"
     },
     "user_tz": -60
    },
    "id": "oZ9jlrQ_NwMP",
    "outputId": "ebe8a3fb-8aa7-46bb-b79d-0b84ec24b0e9"
   },
   "outputs": [],
   "source": [
    "unfoldedCond[0]"
   ]
  },
  {
   "cell_type": "code",
   "execution_count": 8,
   "metadata": {
    "executionInfo": {
     "elapsed": 5,
     "status": "ok",
     "timestamp": 1709531211365,
     "user": {
      "displayName": "Leonardo Brizi",
      "userId": "10572232546459158877"
     },
     "user_tz": -60
    },
    "id": "9I-Z5-7o24YV"
   },
   "outputs": [],
   "source": [
    "def validOption(target, check):\n",
    "  out = True\n",
    "  if len(check) > len(target):\n",
    "    out = False\n",
    "  if len(check) <= len(target):\n",
    "    for i in range(len(check)):\n",
    "      if len(check[i]) > target[i]:\n",
    "        out = False\n",
    "\n",
    "    for i in range(len(check)-1):\n",
    "       if len(check[i]) != target[i]:\n",
    "        out = False\n",
    "  return out"
   ]
  },
  {
   "cell_type": "code",
   "execution_count": 9,
   "metadata": {
    "executionInfo": {
     "elapsed": 3,
     "status": "ok",
     "timestamp": 1709531212314,
     "user": {
      "displayName": "Leonardo Brizi",
      "userId": "10572232546459158877"
     },
     "user_tz": -60
    },
    "id": "zhv3tMuYFEQS"
   },
   "outputs": [],
   "source": [
    "def validSolution(target, check):\n",
    "  out = True\n",
    "  if len(check) != len(target):\n",
    "    out = False\n",
    "  for i in range(len(check)):\n",
    "    if len(check[i]) != target[i]:\n",
    "      out = False\n",
    "  return out"
   ]
  },
  {
   "cell_type": "code",
   "execution_count": 10,
   "metadata": {
    "executionInfo": {
     "elapsed": 306,
     "status": "ok",
     "timestamp": 1709531215637,
     "user": {
      "displayName": "Leonardo Brizi",
      "userId": "10572232546459158877"
     },
     "user_tz": -60
    },
    "id": "mXOicA-1OrNM"
   },
   "outputs": [],
   "source": [
    "def solve(input,currentOptions):\n",
    "  stringIn = input[0]\n",
    "  damages = input[1]\n",
    "\n",
    "  for o in currentOptions:\n",
    "    if len(o) != len(stringIn):\n",
    "      nextOptions = []\n",
    "      nextChar = stringIn[len(o)]\n",
    "\n",
    "      if nextChar != \"?\":\n",
    "        tempOption = o + nextChar\n",
    "        checkOption = [x for x in tempOption.split(\".\") if  x != \"\"]\n",
    "\n",
    "        if validOption(damages,checkOption):\n",
    "          nextOptions.append(tempOption)\n",
    "\n",
    "      if nextChar == \"?\":\n",
    "        tempOption1 = o + \".\"\n",
    "        tempOption2 = o + \"#\"\n",
    "\n",
    "        checkOption1 = [x for x in tempOption1.split(\".\") if  x != \"\"]\n",
    "        checkOption2 = [x for x in tempOption2.split(\".\") if  x != \"\"]\n",
    "\n",
    "        if validOption(damages,checkOption1):\n",
    "          nextOptions.append(tempOption1)\n",
    "\n",
    "        if validOption(damages,checkOption2):\n",
    "          nextOptions.append(tempOption2)\n",
    "\n",
    "      solve(input,nextOptions)\n",
    "\n",
    "    if len(o) == len(stringIn):\n",
    "      checkSolution = [x for x in o.split(\".\") if  x != \"\"]\n",
    "      if validSolution(damages,checkSolution):\n",
    "        solutions.append([input,o])"
   ]
  },
  {
   "cell_type": "code",
   "execution_count": null,
   "metadata": {
    "colab": {
     "base_uri": "https://localhost:8080/",
     "height": 333
    },
    "executionInfo": {
     "elapsed": 11971,
     "status": "error",
     "timestamp": 1709536039380,
     "user": {
      "displayName": "Leonardo Brizi",
      "userId": "10572232546459158877"
     },
     "user_tz": -60
    },
    "id": "1p5W4kdVI8XM",
    "outputId": "df5cea35-e3fb-4ed9-81ea-3a83ad8ae19e"
   },
   "outputs": [],
   "source": [
    "solutions = []\n",
    "for u in tqdm(unfoldedCond):\n",
    "  solve(u,[\"\"])"
   ]
  },
  {
   "cell_type": "code",
   "execution_count": null,
   "metadata": {
    "colab": {
     "base_uri": "https://localhost:8080/"
    },
    "executionInfo": {
     "elapsed": 314,
     "status": "ok",
     "timestamp": 1709531133247,
     "user": {
      "displayName": "Leonardo Brizi",
      "userId": "10572232546459158877"
     },
     "user_tz": -60
    },
    "id": "FQPH3d1LI8TC",
    "outputId": "d607da38-d65b-4d3f-9fd6-4d01819bcd7a"
   },
   "outputs": [],
   "source": [
    "len(solutions)"
   ]
  },
  {
   "cell_type": "code",
   "execution_count": null,
   "metadata": {
    "id": "cj7Wfkszlcwr"
   },
   "outputs": [],
   "source": []
  }
 ],
 "metadata": {
  "colab": {
   "authorship_tag": "ABX9TyNP4U4X0IK3EDNZE0aYbRI6",
   "collapsed_sections": [
    "oypK6kbJ5Z61",
    "w6XzulDj9bf6",
    "U6wRE3vWSqbu",
    "eineLy98SsT7",
    "a7mk7SmhbdbM",
    "xt6SenzdpPFw",
    "Lw_EHS5LwsFT",
    "2-C-pDi2NYlt",
    "3gZcJShr8Zh3",
    "YIJf-497ZqgL",
    "TOCwgutDg2w-"
   ],
   "provenance": []
  },
  "kernelspec": {
   "display_name": "Python 3",
   "name": "python3"
  },
  "language_info": {
   "name": "python"
  }
 },
 "nbformat": 4,
 "nbformat_minor": 0
}
