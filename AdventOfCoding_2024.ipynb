{
 "cells": [
  {
   "cell_type": "markdown",
   "metadata": {
    "id": "oypK6kbJ5Z61"
   },
   "source": [
    "## Day 1"
   ]
  },
  {
   "cell_type": "markdown",
   "metadata": {
    "id": "JGJaZasY_ILR"
   },
   "source": [
    "Input file https://adventofcode.com/2024/day/1/input"
   ]
  },
  {
   "cell_type": "code",
   "execution_count": null,
   "metadata": {
    "id": "SPwXmY6G03A5"
   },
   "outputs": [],
   "source": [
    "with open('input.txt', 'r') as file:\n",
    "    file_content = file.read()"
   ]
  },
  {
   "cell_type": "code",
   "execution_count": null,
   "metadata": {
    "id": "pO-iDNF88ovC"
   },
   "outputs": [],
   "source": [
    "pairs = []"
   ]
  },
  {
   "cell_type": "code",
   "execution_count": null,
   "metadata": {
    "id": "005AM4iv6LI1"
   },
   "outputs": [],
   "source": [
    "#parse file\n",
    "for x in file_content[:-1].split(\"\\n\"):\n",
    "  pairs.append([int(t) for t in x.split(\" \") if len(t)> 0])\n"
   ]
  },
  {
   "cell_type": "code",
   "execution_count": null,
   "metadata": {
    "id": "5kHTpDYC8Qfa"
   },
   "outputs": [],
   "source": [
    "l1 = []\n",
    "l2 = []\n",
    "for p in pairs:\n",
    "  l1.append(p[0])\n",
    "  l2.append(p[1])"
   ]
  },
  {
   "cell_type": "code",
   "execution_count": null,
   "metadata": {
    "id": "tzyunVhP8Zwo"
   },
   "outputs": [],
   "source": [
    "l1.sort()\n",
    "l2.sort()"
   ]
  },
  {
   "cell_type": "code",
   "execution_count": null,
   "metadata": {
    "id": "a5nYeVoq-9Wy"
   },
   "outputs": [],
   "source": []
  },
  {
   "cell_type": "code",
   "execution_count": null,
   "metadata": {
    "id": "k74CW28P_OeV"
   },
   "outputs": [],
   "source": [
    "s = 0\n",
    "for i in zip(l1,l2):\n",
    "  s = s + abs(i[0]-i[1])"
   ]
  },
  {
   "cell_type": "code",
   "execution_count": null,
   "metadata": {
    "colab": {
     "base_uri": "https://localhost:8080/"
    },
    "executionInfo": {
     "elapsed": 9,
     "status": "ok",
     "timestamp": 1734193811152,
     "user": {
      "displayName": "Leonardo Brizi",
      "userId": "10572232546459158877"
     },
     "user_tz": -60
    },
    "id": "4vqsOYt0_fGc",
    "outputId": "29fca544-bf17-4b35-8c8c-9ed8b51f0d35"
   },
   "outputs": [
    {
     "data": {
      "text/plain": [
       "1941353"
      ]
     },
     "execution_count": 40,
     "metadata": {},
     "output_type": "execute_result"
    }
   ],
   "source": [
    "#output part one\n",
    "s"
   ]
  },
  {
   "cell_type": "code",
   "execution_count": null,
   "metadata": {
    "id": "qDUtjeftAYui"
   },
   "outputs": [],
   "source": [
    "s1 = 0\n",
    "for e in l1:\n",
    "  s1 = s1 + l2.count(e) * e"
   ]
  },
  {
   "cell_type": "code",
   "execution_count": null,
   "metadata": {
    "colab": {
     "base_uri": "https://localhost:8080/"
    },
    "executionInfo": {
     "elapsed": 512,
     "status": "ok",
     "timestamp": 1734194272526,
     "user": {
      "displayName": "Leonardo Brizi",
      "userId": "10572232546459158877"
     },
     "user_tz": -60
    },
    "id": "vqa_lZkfCAG_",
    "outputId": "cb7e39a5-5d7e-4aa8-deef-31a352394a51"
   },
   "outputs": [
    {
     "data": {
      "text/plain": [
       "22539317"
      ]
     },
     "execution_count": 46,
     "metadata": {},
     "output_type": "execute_result"
    }
   ],
   "source": [
    "#output part 2\n",
    "s1"
   ]
  },
  {
   "cell_type": "code",
   "execution_count": null,
   "metadata": {
    "id": "RBeSxVq5CJKr"
   },
   "outputs": [],
   "source": []
  },
  {
   "cell_type": "markdown",
   "metadata": {
    "id": "KY1rd4aQWJqD"
   },
   "source": [
    "## Day 2"
   ]
  },
  {
   "cell_type": "markdown",
   "metadata": {
    "id": "r8sJ8JRVWVKx"
   },
   "source": [
    "Input file https://adventofcode.com/2024/day/2/input"
   ]
  },
  {
   "cell_type": "code",
   "execution_count": 1,
   "metadata": {
    "executionInfo": {
     "elapsed": 229,
     "status": "ok",
     "timestamp": 1734276576440,
     "user": {
      "displayName": "Leonardo Brizi",
      "userId": "10572232546459158877"
     },
     "user_tz": -60
    },
    "id": "jWq8j1YFWL_q"
   },
   "outputs": [],
   "source": [
    "with open('input.txt', 'r') as file:\n",
    "    file_content = file.read()"
   ]
  },
  {
   "cell_type": "code",
   "execution_count": 2,
   "metadata": {
    "executionInfo": {
     "elapsed": 227,
     "status": "ok",
     "timestamp": 1734276577541,
     "user": {
      "displayName": "Leonardo Brizi",
      "userId": "10572232546459158877"
     },
     "user_tz": -60
    },
    "id": "duEf8C0fW7Yh"
   },
   "outputs": [],
   "source": [
    "#parse file\n",
    "levels = []\n",
    "\n",
    "for x in file_content[:-1].split(\"\\n\"):\n",
    "  levels.append([int(l) for l in x.split(\" \")])"
   ]
  },
  {
   "cell_type": "code",
   "execution_count": null,
   "metadata": {
    "id": "wRuknNeTXbNR"
   },
   "outputs": [],
   "source": [
    "levClassif = []\n",
    "\n",
    "#loop through all levels\n",
    "for l in levels:\n",
    "  i = 1\n",
    "  #initialize movement types\n",
    "\n",
    "  mov = ''\n",
    "  previousMov = ''\n",
    "\n",
    "  #loop through all elements of levels\n",
    "\n",
    "  while i < len(l):\n",
    "    d = l[i] - l[i-1]\n",
    "    if d > 0 and d <= 3:\n",
    "      mov = 'increse'\n",
    "    elif d < 0 and d >= -3:\n",
    "      mov = 'decrese'\n",
    "    else:\n",
    "      mov = 'err'\n",
    "\n",
    "\n",
    "    if i == len(l)-1 and mov == previousMov:\n",
    "      levClassif.append([l,'s'])\n",
    "      i = i + 1\n",
    "    elif previousMov == '' or mov == previousMov:\n",
    "      i = i + 1\n",
    "      previousMov = mov\n",
    "    else:\n",
    "      levClassif.append([l,'u'])\n",
    "      break\n"
   ]
  },
  {
   "cell_type": "code",
   "execution_count": null,
   "metadata": {
    "colab": {
     "base_uri": "https://localhost:8080/"
    },
    "executionInfo": {
     "elapsed": 212,
     "status": "ok",
     "timestamp": 1734254007740,
     "user": {
      "displayName": "Leonardo Brizi",
      "userId": "10572232546459158877"
     },
     "user_tz": -60
    },
    "id": "rMZOza3pYPF-",
    "outputId": "c837ada1-ae20-492e-8f77-c64a0c27f358"
   },
   "outputs": [
    {
     "data": {
      "text/plain": [
       "202"
      ]
     },
     "execution_count": 61,
     "metadata": {},
     "output_type": "execute_result"
    }
   ],
   "source": [
    "#output part 1\n",
    "len([l for l in levClassif if l[1] == 's'])"
   ]
  },
  {
   "cell_type": "code",
   "execution_count": 3,
   "metadata": {
    "executionInfo": {
     "elapsed": 234,
     "status": "ok",
     "timestamp": 1734276580984,
     "user": {
      "displayName": "Leonardo Brizi",
      "userId": "10572232546459158877"
     },
     "user_tz": -60
    },
    "id": "14TZJ0IE4QZm"
   },
   "outputs": [],
   "source": [
    "import copy"
   ]
  },
  {
   "cell_type": "code",
   "execution_count": 4,
   "metadata": {
    "executionInfo": {
     "elapsed": 2,
     "status": "ok",
     "timestamp": 1734276582098,
     "user": {
      "displayName": "Leonardo Brizi",
      "userId": "10572232546459158877"
     },
     "user_tz": -60
    },
    "id": "Nf_v43xNCGKn"
   },
   "outputs": [],
   "source": [
    "#create a new list with number of incorrect levels set to 0 and reference [level,bad count,parent, id]\n",
    "k = 0\n",
    "levelsWithTolerance = []\n",
    "while k < len(levels):\n",
    "  levelsWithTolerance.append([levels[k],0,0,k+1])\n",
    "  k = k + 1"
   ]
  },
  {
   "cell_type": "code",
   "execution_count": 8,
   "metadata": {
    "executionInfo": {
     "elapsed": 217,
     "status": "ok",
     "timestamp": 1734276735532,
     "user": {
      "displayName": "Leonardo Brizi",
      "userId": "10572232546459158877"
     },
     "user_tz": -60
    },
    "id": "NwC6kr-d6C4j"
   },
   "outputs": [],
   "source": [
    "levClassif = []\n",
    "j = 0\n",
    "tolerance = 1\n",
    "\n",
    "#loop through all levels\n",
    "while j < len(levelsWithTolerance):\n",
    "\n",
    "  l = copy.deepcopy(levelsWithTolerance[j][0])\n",
    "  i = 1\n",
    "  #initialize movement types\n",
    "\n",
    "  mov = ''\n",
    "  previousMov = ''\n",
    "  bad = levelsWithTolerance[j][1]\n",
    "  parent = levelsWithTolerance[j][2]\n",
    "  id = levelsWithTolerance[j][3]\n",
    "  exit = 0\n",
    "\n",
    "  #loop through all elements of levels\n",
    "\n",
    "  while i < len(l) and exit == 0:\n",
    "    d = l[i] - l[i-1]\n",
    "    if d > 0 and d <= 3:\n",
    "      mov = 'increse'\n",
    "    elif d < 0 and d >= -3:\n",
    "      mov = 'decrese'\n",
    "    else:\n",
    "      mov = 'err'\n",
    "\n",
    "    #print(j,i,l,mov,d,bad)\n",
    "\n",
    "    if mov != 'err' and (previousMov == '' or mov == previousMov):\n",
    "      if i == len(l)-1:\n",
    "        levClassif.append([[l,bad,parent,id],'s'])\n",
    "      if i == 1 and parent== 0:\n",
    "        opt1 = copy.deepcopy(l)\n",
    "        opt1.pop(i-1)\n",
    "        levelsWithTolerance.append([opt1,bad+1,id,0])\n",
    "      i = i + 1\n",
    "      previousMov = mov\n",
    "    elif (mov == 'err' or mov != previousMov) and bad <= tolerance:\n",
    "      opt1 = copy.deepcopy(l)\n",
    "      opt2 = copy.deepcopy(l)\n",
    "      opt1.pop(i)\n",
    "      opt2.pop(i-1)\n",
    "      if bad+1 <= tolerance:\n",
    "        levelsWithTolerance.append([opt1,bad+1,id,0])\n",
    "        levelsWithTolerance.append([opt2,bad+1,id,0])\n",
    "      levClassif.append([[l,bad,parent,id],'u'])\n",
    "      exit = 1\n",
    "    else:\n",
    "      levClassif.append([[l,bad,parent,id],'u'])\n",
    "      exit = 1\n",
    "\n",
    "  j = j + 1"
   ]
  },
  {
   "cell_type": "code",
   "execution_count": 9,
   "metadata": {
    "executionInfo": {
     "elapsed": 233,
     "status": "ok",
     "timestamp": 1734276737365,
     "user": {
      "displayName": "Leonardo Brizi",
      "userId": "10572232546459158877"
     },
     "user_tz": -60
    },
    "id": "nnr7t7HN7AmH"
   },
   "outputs": [],
   "source": [
    "out = []\n",
    "for l in levClassif:\n",
    "  if l[1] == 's':\n",
    "    if l[0][3] != 0:\n",
    "      out.append(l[0][3])\n",
    "    elif l[0][2] != 0:\n",
    "      out.append(l[0][2])\n",
    "\n"
   ]
  },
  {
   "cell_type": "code",
   "execution_count": 10,
   "metadata": {
    "colab": {
     "base_uri": "https://localhost:8080/"
    },
    "executionInfo": {
     "elapsed": 251,
     "status": "ok",
     "timestamp": 1734276738762,
     "user": {
      "displayName": "Leonardo Brizi",
      "userId": "10572232546459158877"
     },
     "user_tz": -60
    },
    "id": "o7_AJMeXQOTC",
    "outputId": "40a0e657-11a6-4597-e59e-2c0f6e9445a7"
   },
   "outputs": [
    {
     "data": {
      "text/plain": [
       "271"
      ]
     },
     "execution_count": 10,
     "metadata": {},
     "output_type": "execute_result"
    }
   ],
   "source": [
    "#output second part\n",
    "len(set(out))"
   ]
  },
  {
   "cell_type": "markdown",
   "metadata": {
    "id": "johcRr1m_Ptv"
   },
   "source": [
    "## Day 3"
   ]
  },
  {
   "cell_type": "markdown",
   "metadata": {
    "id": "gGvnbyC_AkxR"
   },
   "source": [
    "Input file https://adventofcode.com/2024/day/3/input"
   ]
  },
  {
   "cell_type": "code",
   "execution_count": 11,
   "metadata": {
    "executionInfo": {
     "elapsed": 516,
     "status": "ok",
     "timestamp": 1734286588438,
     "user": {
      "displayName": "Leonardo Brizi",
      "userId": "10572232546459158877"
     },
     "user_tz": -60
    },
    "id": "t51sLro7_RsH"
   },
   "outputs": [],
   "source": [
    "with open('input.txt', 'r') as file:\n",
    "    file_content = file.read()"
   ]
  },
  {
   "cell_type": "code",
   "execution_count": 12,
   "metadata": {
    "colab": {
     "base_uri": "https://localhost:8080/",
     "height": 35
    },
    "executionInfo": {
     "elapsed": 10,
     "status": "ok",
     "timestamp": 1734286590255,
     "user": {
      "displayName": "Leonardo Brizi",
      "userId": "10572232546459158877"
     },
     "user_tz": -60
    },
    "id": "hLjC2josAqy7",
    "outputId": "de9676aa-eacd-456f-e965-bf1c2d20f9d7"
   },
   "outputs": [
    {
     "data": {
      "application/vnd.google.colaboratory.intrinsic+json": {
       "type": "string"
      },
      "text/plain": [
       "'MMMSXXMASM\\nMSAMXMSMSA\\nAMXSXMAAMM\\nMSAMASMSMX\\nXMASAMXAMM\\nXXAMMXXAMA\\nSMSMSASXSS\\nSAXAMASAAA\\nMAMMMXMMMM\\nMXMXAXMASX\\n'"
      ]
     },
     "execution_count": 12,
     "metadata": {},
     "output_type": "execute_result"
    }
   ],
   "source": [
    "file_content"
   ]
  },
  {
   "cell_type": "code",
   "execution_count": 3,
   "metadata": {
    "executionInfo": {
     "elapsed": 221,
     "status": "ok",
     "timestamp": 1734285418548,
     "user": {
      "displayName": "Leonardo Brizi",
      "userId": "10572232546459158877"
     },
     "user_tz": -60
    },
    "id": "WvzV70ZOAwkV"
   },
   "outputs": [],
   "source": [
    "import re\n",
    "import copy"
   ]
  },
  {
   "cell_type": "code",
   "execution_count": 4,
   "metadata": {
    "colab": {
     "base_uri": "https://localhost:8080/"
    },
    "executionInfo": {
     "elapsed": 235,
     "status": "ok",
     "timestamp": 1734285443901,
     "user": {
      "displayName": "Leonardo Brizi",
      "userId": "10572232546459158877"
     },
     "user_tz": -60
    },
    "id": "sFjM0D6ICENd",
    "outputId": "714ccda3-3a51-4ac2-a24b-747b9ac093d8"
   },
   "outputs": [
    {
     "name": "stdout",
     "output_type": "stream",
     "text": [
      "[('602', '165'), ('305', '64'), ('80', '703'), ('290', '957'), ('851', '335'), ('844', '49'), ('938', '695'), ('706', '392'), ('242', '513'), ('871', '132'), ('41', '656'), ('628', '478'), ('287', '621'), ('127', '825'), ('360', '578'), ('136', '849'), ('544', '891'), ('436', '21'), ('184', '294'), ('297', '492'), ('161', '703'), ('335', '695'), ('689', '420'), ('78', '176'), ('62', '695'), ('742', '538'), ('282', '209'), ('428', '514'), ('131', '844'), ('431', '946'), ('171', '87'), ('164', '733'), ('760', '223'), ('485', '824'), ('465', '327'), ('249', '931'), ('963', '891'), ('665', '815'), ('762', '48'), ('591', '445'), ('36', '3'), ('109', '905'), ('380', '929'), ('547', '552'), ('58', '881'), ('699', '443'), ('826', '660'), ('700', '665'), ('507', '719'), ('941', '551'), ('87', '663'), ('332', '238'), ('290', '235'), ('950', '204'), ('233', '633'), ('289', '147'), ('899', '836'), ('975', '883'), ('165', '847'), ('31', '153'), ('352', '285'), ('912', '583'), ('192', '230'), ('710', '930'), ('543', '422'), ('832', '873'), ('448', '716'), ('319', '598'), ('865', '894'), ('262', '509'), ('308', '953'), ('741', '76'), ('256', '536'), ('382', '338'), ('993', '630'), ('411', '640'), ('807', '676'), ('882', '434'), ('154', '824'), ('259', '438'), ('325', '912'), ('131', '307'), ('323', '794'), ('622', '782'), ('304', '116'), ('420', '225'), ('319', '524'), ('737', '137'), ('228', '919'), ('672', '604'), ('904', '487'), ('791', '791'), ('517', '686'), ('218', '978'), ('70', '357'), ('245', '237'), ('264', '30'), ('346', '794'), ('115', '926'), ('140', '56'), ('750', '438'), ('64', '9'), ('827', '948'), ('795', '610'), ('302', '983'), ('889', '788'), ('177', '883'), ('815', '344'), ('638', '520'), ('639', '171'), ('595', '754'), ('85', '286'), ('945', '972'), ('964', '104'), ('163', '666'), ('94', '79'), ('669', '316'), ('33', '805'), ('560', '354'), ('980', '896'), ('901', '274'), ('76', '577'), ('257', '297'), ('331', '276'), ('653', '163'), ('946', '195'), ('345', '866'), ('975', '684'), ('416', '406'), ('484', '862'), ('629', '780'), ('104', '102'), ('2', '157'), ('404', '895'), ('154', '983'), ('682', '696'), ('799', '756'), ('565', '289'), ('687', '685'), ('819', '190'), ('596', '898'), ('113', '184'), ('327', '372'), ('327', '170'), ('351', '147'), ('992', '327'), ('586', '163'), ('698', '938'), ('812', '610'), ('50', '331'), ('469', '997'), ('468', '630'), ('97', '867'), ('574', '321'), ('325', '17'), ('960', '765'), ('412', '562'), ('220', '976'), ('350', '479'), ('135', '697'), ('419', '107'), ('33', '102'), ('430', '537'), ('338', '463'), ('982', '199'), ('607', '915'), ('473', '531'), ('490', '191'), ('453', '793'), ('722', '985'), ('526', '659'), ('863', '260'), ('81', '404'), ('471', '334'), ('160', '947'), ('679', '16'), ('976', '65'), ('155', '153'), ('44', '452'), ('51', '177'), ('462', '949'), ('743', '555'), ('750', '557'), ('807', '786'), ('667', '833'), ('729', '999'), ('805', '756'), ('558', '874'), ('694', '195'), ('198', '978'), ('248', '980'), ('888', '351'), ('476', '169'), ('282', '926'), ('301', '964'), ('736', '489'), ('306', '875'), ('637', '563'), ('303', '12'), ('922', '806'), ('237', '256'), ('603', '548'), ('887', '362'), ('499', '574'), ('787', '625'), ('197', '610'), ('840', '759'), ('19', '916'), ('319', '356'), ('349', '592'), ('473', '196'), ('939', '515'), ('417', '24'), ('93', '289'), ('543', '426'), ('65', '960'), ('544', '316'), ('453', '85'), ('612', '429'), ('493', '119'), ('83', '70'), ('752', '957'), ('756', '579'), ('544', '588'), ('178', '94'), ('84', '939'), ('951', '416'), ('324', '907'), ('578', '700'), ('543', '266'), ('451', '107'), ('307', '230'), ('822', '895'), ('530', '529'), ('851', '381'), ('73', '793'), ('93', '749'), ('419', '25'), ('102', '426'), ('186', '663'), ('183', '456'), ('513', '696'), ('835', '886'), ('820', '742'), ('295', '615'), ('688', '219'), ('191', '470'), ('951', '673'), ('536', '960'), ('353', '508'), ('135', '970'), ('580', '976'), ('144', '491'), ('925', '707'), ('723', '986'), ('465', '348'), ('153', '323'), ('579', '823'), ('87', '471'), ('885', '437'), ('990', '144'), ('567', '848'), ('620', '639'), ('592', '515'), ('870', '763'), ('503', '440'), ('524', '563'), ('235', '893'), ('464', '297'), ('289', '689'), ('159', '534'), ('789', '482'), ('220', '671'), ('122', '701'), ('747', '45'), ('249', '127'), ('83', '660'), ('829', '58'), ('155', '396'), ('454', '202'), ('733', '864'), ('735', '897'), ('80', '402'), ('730', '574'), ('832', '674'), ('427', '836'), ('79', '877'), ('436', '288'), ('327', '609'), ('372', '811'), ('842', '562'), ('814', '697'), ('604', '447'), ('807', '738'), ('477', '588'), ('820', '399'), ('580', '918'), ('343', '445'), ('776', '674'), ('295', '290'), ('321', '389'), ('338', '854'), ('438', '58'), ('176', '945'), ('765', '384'), ('496', '9'), ('391', '60'), ('494', '14'), ('390', '353'), ('885', '604'), ('254', '601'), ('100', '15'), ('71', '315'), ('871', '371'), ('870', '594'), ('879', '995'), ('569', '107'), ('223', '576'), ('624', '981'), ('812', '37'), ('656', '82'), ('446', '744'), ('461', '437'), ('791', '568'), ('134', '101'), ('641', '129'), ('53', '315'), ('271', '699'), ('730', '933'), ('231', '37'), ('374', '347'), ('660', '713'), ('885', '672'), ('230', '754'), ('759', '756'), ('567', '572'), ('757', '309'), ('736', '155'), ('713', '672'), ('17', '60'), ('228', '28'), ('218', '633'), ('156', '644'), ('377', '886'), ('869', '404'), ('920', '501'), ('545', '793'), ('74', '347'), ('767', '582'), ('215', '704'), ('392', '808'), ('869', '412'), ('501', '148'), ('796', '221'), ('651', '592'), ('134', '209'), ('434', '869'), ('292', '419'), ('175', '874'), ('866', '742'), ('875', '840'), ('127', '915'), ('13', '855'), ('568', '520'), ('332', '245'), ('625', '889'), ('395', '46'), ('123', '827'), ('524', '599'), ('792', '461'), ('392', '15'), ('908', '825'), ('254', '516'), ('437', '461'), ('60', '583'), ('193', '822'), ('373', '499'), ('574', '712'), ('365', '781'), ('414', '354'), ('798', '611'), ('219', '47'), ('518', '535'), ('776', '790'), ('622', '336'), ('506', '377'), ('255', '591'), ('827', '655'), ('457', '68'), ('351', '283'), ('345', '900'), ('752', '407'), ('904', '504'), ('537', '360'), ('443', '831'), ('665', '473'), ('344', '505'), ('115', '607'), ('637', '79'), ('673', '108'), ('140', '971'), ('659', '539'), ('855', '794'), ('812', '420'), ('320', '4'), ('943', '216'), ('17', '572'), ('86', '371'), ('793', '733'), ('174', '855'), ('706', '247'), ('459', '541'), ('738', '226'), ('395', '492'), ('128', '575'), ('470', '802'), ('532', '611'), ('855', '381'), ('758', '795'), ('221', '874'), ('587', '201'), ('495', '109'), ('679', '206'), ('149', '552'), ('422', '434'), ('757', '730'), ('196', '228'), ('753', '37'), ('970', '912'), ('643', '558'), ('525', '660'), ('770', '997'), ('523', '352'), ('139', '306'), ('435', '619'), ('353', '463'), ('218', '409'), ('41', '95'), ('93', '123'), ('615', '917'), ('801', '12'), ('206', '424'), ('920', '696'), ('732', '924'), ('212', '801'), ('253', '942'), ('200', '773'), ('392', '392'), ('603', '982'), ('767', '605'), ('810', '348'), ('346', '603'), ('915', '360'), ('199', '551'), ('903', '980'), ('492', '955'), ('941', '906'), ('961', '134'), ('21', '216'), ('904', '260'), ('109', '697'), ('59', '922'), ('177', '574'), ('700', '873'), ('671', '271'), ('997', '472'), ('995', '279'), ('504', '172'), ('620', '601'), ('70', '715'), ('230', '991'), ('448', '128'), ('870', '892'), ('583', '189'), ('842', '739'), ('241', '966'), ('519', '560'), ('371', '303'), ('444', '873'), ('825', '442'), ('687', '295'), ('992', '56'), ('577', '183'), ('226', '901'), ('281', '291'), ('500', '749'), ('637', '962'), ('150', '192'), ('455', '843'), ('530', '987'), ('282', '486'), ('147', '97'), ('339', '632'), ('476', '603'), ('249', '732'), ('552', '713'), ('335', '971'), ('364', '772'), ('407', '507'), ('668', '42'), ('849', '891'), ('335', '214'), ('561', '325'), ('732', '879'), ('372', '617'), ('302', '561'), ('165', '848'), ('800', '615'), ('617', '736'), ('505', '440'), ('36', '639'), ('100', '765'), ('418', '224'), ('480', '518'), ('398', '351'), ('976', '539'), ('800', '619'), ('527', '856'), ('479', '693'), ('728', '432'), ('713', '727'), ('80', '482'), ('765', '963'), ('887', '370'), ('107', '111'), ('461', '345'), ('707', '778'), ('310', '5'), ('687', '149'), ('187', '693'), ('24', '418'), ('304', '601'), ('66', '524'), ('217', '884'), ('304', '545'), ('782', '464'), ('767', '112'), ('620', '773'), ('89', '154'), ('430', '945'), ('143', '829'), ('825', '949'), ('467', '327'), ('727', '778'), ('12', '864'), ('975', '968'), ('572', '737'), ('6', '295'), ('899', '746'), ('28', '836'), ('362', '377'), ('449', '514'), ('593', '723'), ('409', '707'), ('847', '518'), ('159', '434'), ('973', '188'), ('970', '535'), ('776', '519'), ('341', '437'), ('62', '572'), ('388', '507'), ('64', '284'), ('734', '117'), ('694', '323'), ('772', '515'), ('663', '798'), ('810', '58'), ('838', '509'), ('227', '633'), ('300', '309'), ('369', '74'), ('76', '891'), ('226', '65'), ('981', '600'), ('69', '207'), ('935', '119'), ('116', '703'), ('144', '872'), ('569', '48'), ('475', '850'), ('486', '714'), ('436', '514'), ('574', '28'), ('181', '123'), ('789', '342'), ('485', '483'), ('921', '916'), ('441', '964'), ('395', '170'), ('583', '793'), ('794', '26'), ('670', '885'), ('32', '656'), ('297', '812'), ('264', '703'), ('264', '312'), ('454', '375'), ('72', '780'), ('4', '67'), ('299', '165'), ('606', '634'), ('773', '105'), ('565', '610'), ('163', '222'), ('631', '370'), ('48', '604'), ('492', '16'), ('277', '631'), ('356', '136'), ('536', '636'), ('170', '241'), ('295', '979'), ('872', '817'), ('796', '401'), ('562', '34'), ('851', '857'), ('855', '774'), ('19', '63'), ('20', '808'), ('9', '565'), ('485', '358'), ('760', '344'), ('76', '561'), ('202', '590'), ('537', '456'), ('231', '127'), ('278', '743'), ('612', '612'), ('577', '261'), ('739', '172'), ('217', '239'), ('30', '720'), ('414', '37'), ('293', '928'), ('134', '920'), ('472', '62'), ('403', '2'), ('682', '860'), ('274', '552'), ('721', '529'), ('938', '454'), ('816', '770'), ('502', '592'), ('330', '265'), ('919', '336'), ('222', '37'), ('716', '440'), ('938', '798'), ('370', '761'), ('308', '872'), ('376', '736'), ('793', '522'), ('812', '372'), ('627', '289'), ('500', '501'), ('571', '651'), ('792', '25'), ('323', '38'), ('623', '356'), ('629', '625'), ('950', '826'), ('947', '453'), ('510', '94'), ('34', '148'), ('661', '839'), ('597', '740'), ('6', '887'), ('910', '743'), ('626', '661'), ('320', '446'), ('573', '309'), ('996', '815'), ('558', '873'), ('647', '533'), ('508', '819'), ('823', '518'), ('405', '772'), ('132', '162'), ('721', '482'), ('925', '155'), ('990', '837'), ('867', '142'), ('764', '232'), ('754', '292'), ('584', '720'), ('127', '993'), ('130', '642'), ('325', '585'), ('648', '223'), ('154', '204'), ('90', '691'), ('236', '768'), ('378', '233'), ('366', '515'), ('507', '554'), ('145', '19'), ('444', '536'), ('861', '889'), ('790', '870'), ('989', '194'), ('430', '90'), ('365', '640'), ('684', '600'), ('745', '81'), ('782', '153'), ('270', '449'), ('371', '710'), ('487', '920'), ('474', '993'), ('70', '96'), ('639', '92'), ('154', '267'), ('588', '135'), ('2', '108'), ('364', '558'), ('324', '801'), ('696', '843'), ('946', '677'), ('254', '222')]\n"
     ]
    }
   ],
   "source": [
    "#text = \"mul(123, 456) and mul(78,90).\"\n",
    "pattern = r\"mul\\((\\d{1,3}),(\\d{1,3})\\)\"\n",
    "matches = re.findall(pattern, file_content)\n",
    "\n",
    "print(matches)"
   ]
  },
  {
   "cell_type": "code",
   "execution_count": 5,
   "metadata": {
    "executionInfo": {
     "elapsed": 2,
     "status": "ok",
     "timestamp": 1734285444739,
     "user": {
      "displayName": "Leonardo Brizi",
      "userId": "10572232546459158877"
     },
     "user_tz": -60
    },
    "id": "OCrRSaexHPrj"
   },
   "outputs": [],
   "source": [
    "s = 0\n",
    "for m in matches:\n",
    "  s = s + int(m[0])*int(m[1])"
   ]
  },
  {
   "cell_type": "code",
   "execution_count": 6,
   "metadata": {
    "colab": {
     "base_uri": "https://localhost:8080/"
    },
    "executionInfo": {
     "elapsed": 212,
     "status": "ok",
     "timestamp": 1734285445943,
     "user": {
      "displayName": "Leonardo Brizi",
      "userId": "10572232546459158877"
     },
     "user_tz": -60
    },
    "id": "NQqwk3yqH0oZ",
    "outputId": "d7afd0f3-4d98-4550-fefc-38857ca8860d"
   },
   "outputs": [
    {
     "data": {
      "text/plain": [
       "184511516"
      ]
     },
     "execution_count": 6,
     "metadata": {},
     "output_type": "execute_result"
    }
   ],
   "source": [
    "#output part one\n",
    "s"
   ]
  },
  {
   "cell_type": "code",
   "execution_count": 11,
   "metadata": {
    "executionInfo": {
     "elapsed": 236,
     "status": "ok",
     "timestamp": 1734285311113,
     "user": {
      "displayName": "Leonardo Brizi",
      "userId": "10572232546459158877"
     },
     "user_tz": -60
    },
    "id": "ByMY-nQNLqnU"
   },
   "outputs": [],
   "source": [
    "file_content = \"xmul(2,4)&mul[3,7]!^don't()_mul(5,5)+mul(32,64](mul(11,8)undo()?mul(8,5)\""
   ]
  },
  {
   "cell_type": "code",
   "execution_count": 2,
   "metadata": {
    "executionInfo": {
     "elapsed": 2,
     "status": "ok",
     "timestamp": 1734284569917,
     "user": {
      "displayName": "Leonardo Brizi",
      "userId": "10572232546459158877"
     },
     "user_tz": -60
    },
    "id": "T0r-PnEvYB19"
   },
   "outputs": [],
   "source": [
    "file_content = \"xmul(2,4)&mul[3,7]!^don't()_mul(5,5)do()+mul(32,64](mul(11,8)undo()?mul(8,5)\""
   ]
  },
  {
   "cell_type": "code",
   "execution_count": 7,
   "metadata": {
    "executionInfo": {
     "elapsed": 222,
     "status": "ok",
     "timestamp": 1734285461880,
     "user": {
      "displayName": "Leonardo Brizi",
      "userId": "10572232546459158877"
     },
     "user_tz": -60
    },
    "id": "XmgqEpbCUeAP"
   },
   "outputs": [],
   "source": [
    "memory = file_content\n",
    "current = memory\n",
    "doSet = 1\n",
    "dontSet = 0\n",
    "pMUL = r\"mul\\((\\d{1,3}),(\\d{1,3})\\)\"\n",
    "pDONT = r\"don\\'t\\(\\)\"\n",
    "pDO = r\"do\\(\\)\"\n",
    "\n",
    "allMatches = []\n",
    "\n",
    "\n",
    "while len(current)>0:\n",
    "  if doSet == 1:\n",
    "    mDONT = re.search(pDONT, current + \"don't()\")\n",
    "    start = mDONT.start()\n",
    "    end = mDONT.end()\n",
    "    current = memory[:start]\n",
    "    memory = memory[end:]\n",
    "\n",
    "    mMUL = re.findall(pMUL, current)\n",
    "    for m in mMUL:\n",
    "       allMatches.append(m)\n",
    "    dontSet = 1\n",
    "    doSet = 0\n",
    "    current = memory\n",
    "\n",
    "  elif dontSet == 1:\n",
    "    mDO = re.search(pDO, current + \"do()\" )\n",
    "    start = mDO.start()\n",
    "    end = mDO.end()\n",
    "    memory = memory[end:]\n",
    "    doSet = 1\n",
    "    dontSet = 0\n",
    "    current = memory\n",
    "\n",
    "\n"
   ]
  },
  {
   "cell_type": "code",
   "execution_count": null,
   "metadata": {
    "id": "GYvUCSkSU8IT"
   },
   "outputs": [],
   "source": [
    "allMatches"
   ]
  },
  {
   "cell_type": "code",
   "execution_count": 9,
   "metadata": {
    "executionInfo": {
     "elapsed": 341,
     "status": "ok",
     "timestamp": 1734285472134,
     "user": {
      "displayName": "Leonardo Brizi",
      "userId": "10572232546459158877"
     },
     "user_tz": -60
    },
    "id": "RtCitJpdUvg4"
   },
   "outputs": [],
   "source": [
    "s = 0\n",
    "for m in allMatches:\n",
    "  s = s + int(m[0])*int(m[1])"
   ]
  },
  {
   "cell_type": "code",
   "execution_count": 10,
   "metadata": {
    "colab": {
     "base_uri": "https://localhost:8080/"
    },
    "executionInfo": {
     "elapsed": 228,
     "status": "ok",
     "timestamp": 1734285473369,
     "user": {
      "displayName": "Leonardo Brizi",
      "userId": "10572232546459158877"
     },
     "user_tz": -60
    },
    "id": "H78SVZrNdwsG",
    "outputId": "3f4b6c27-df3a-4c57-f990-6a6f135ffc4b"
   },
   "outputs": [
    {
     "data": {
      "text/plain": [
       "90044227"
      ]
     },
     "execution_count": 10,
     "metadata": {},
     "output_type": "execute_result"
    }
   ],
   "source": [
    "#output part 2\n",
    "s"
   ]
  },
  {
   "cell_type": "markdown",
   "metadata": {
    "id": "bcpp5ojhiIaU"
   },
   "source": [
    "## Day 4"
   ]
  },
  {
   "cell_type": "markdown",
   "metadata": {
    "id": "IhTDpi8TiZOD"
   },
   "source": [
    "Input file https://adventofcode.com/2024/day/4/input"
   ]
  },
  {
   "cell_type": "code",
   "execution_count": 76,
   "metadata": {
    "executionInfo": {
     "elapsed": 246,
     "status": "ok",
     "timestamp": 1734292176952,
     "user": {
      "displayName": "Leonardo Brizi",
      "userId": "10572232546459158877"
     },
     "user_tz": -60
    },
    "id": "F5E3Xhy9iIIL"
   },
   "outputs": [],
   "source": [
    "with open('input.txt', 'r') as file:\n",
    "    file_content = file.read()"
   ]
  },
  {
   "cell_type": "code",
   "execution_count": 77,
   "metadata": {
    "executionInfo": {
     "elapsed": 373,
     "status": "ok",
     "timestamp": 1734292179117,
     "user": {
      "displayName": "Leonardo Brizi",
      "userId": "10572232546459158877"
     },
     "user_tz": -60
    },
    "id": "rGnDnsf9igZG"
   },
   "outputs": [],
   "source": [
    "#parse file\n",
    "matrix = []\n",
    "for x in file_content[:-1].split(\"\\n\"):\n",
    "  matrix.append([c for c in x])"
   ]
  },
  {
   "cell_type": "code",
   "execution_count": 58,
   "metadata": {
    "executionInfo": {
     "elapsed": 240,
     "status": "ok",
     "timestamp": 1734289071255,
     "user": {
      "displayName": "Leonardo Brizi",
      "userId": "10572232546459158877"
     },
     "user_tz": -60
    },
    "id": "4WJ0rniBlh_k"
   },
   "outputs": [],
   "source": [
    "scan = []\n",
    "\n",
    "for i in range(len(matrix)):\n",
    "  for j in range(len(matrix)):\n",
    "\n",
    "    N,S,E,W,NE,SE,SW,NW = '','','','','','','',''\n",
    "\n",
    "    if i-3 >= 0:\n",
    "      N = matrix[i][j] + matrix[i-1][j] + matrix[i-2][j] + matrix[i-3][j]\n",
    "    if i+3 < len(matrix):\n",
    "      S = matrix[i][j] + matrix[i+1][j] + matrix[i+2][j] + matrix[i+3][j]\n",
    "    if j+3 < len(matrix):\n",
    "      E = matrix[i][j] + matrix[i][j+1] + matrix[i][j+2] + matrix[i][j+3]\n",
    "    if j-3 >= 0:\n",
    "      W = matrix[i][j] + matrix[i][j-1] + matrix[i][j-2] + matrix[i][j-3]\n",
    "    if j+3 < len(matrix) and i-3 >= 0:\n",
    "      NE = matrix[i][j] + matrix[i-1][j+1] + matrix[i-2][j+2] + matrix[i-3][j+3]\n",
    "    if j+3 < len(matrix) and i+3 < len(matrix):\n",
    "      SE = matrix[i][j] + matrix[i+1][j+1] + matrix[i+2][j+2] + matrix[i+3][j+3]\n",
    "    if j-3 >= 0 and i+3 < len(matrix):\n",
    "      SW = matrix[i][j] + matrix[i+1][j-1] + matrix[i+2][j-2] + matrix[i+3][j-3]\n",
    "    if j-3 >= 0 and i-3 >= 0:\n",
    "      NW = matrix[i][j] + matrix[i-1][j-1] + matrix[i-2][j-2] + matrix[i-3][j-3]\n",
    "\n",
    "    for word in [N,S,E,W,NE,SE,SW,NW]:\n",
    "      if word == 'XMAS':\n",
    "        scan.append([word,i,j])"
   ]
  },
  {
   "cell_type": "code",
   "execution_count": 59,
   "metadata": {
    "colab": {
     "base_uri": "https://localhost:8080/"
    },
    "executionInfo": {
     "elapsed": 244,
     "status": "ok",
     "timestamp": 1734289075620,
     "user": {
      "displayName": "Leonardo Brizi",
      "userId": "10572232546459158877"
     },
     "user_tz": -60
    },
    "id": "IBRoWoeGk9SG",
    "outputId": "c2ed5e91-dc2c-43ec-8991-f9c9b66d93dc"
   },
   "outputs": [
    {
     "data": {
      "text/plain": [
       "2569"
      ]
     },
     "execution_count": 59,
     "metadata": {},
     "output_type": "execute_result"
    }
   ],
   "source": [
    "#output part 0ne\n",
    "len(scan)"
   ]
  },
  {
   "cell_type": "code",
   "execution_count": 74,
   "metadata": {
    "colab": {
     "base_uri": "https://localhost:8080/"
    },
    "executionInfo": {
     "elapsed": 388,
     "status": "ok",
     "timestamp": 1734292109183,
     "user": {
      "displayName": "Leonardo Brizi",
      "userId": "10572232546459158877"
     },
     "user_tz": -60
    },
    "id": "tcwZwkiA3WuU",
    "outputId": "66509152-41e5-4c7e-a608-6c8db230178f"
   },
   "outputs": [
    {
     "data": {
      "text/plain": [
       "[['.', 'M', '.', 'S', '.', '.', '.', '.', '.', '.'],\n",
       " ['.', '.', 'A', '.', '.', 'M', 'S', 'M', 'S', '.'],\n",
       " ['.', 'M', '.', 'S', '.', 'M', 'A', 'A', '.', '.'],\n",
       " ['.', '.', 'A', '.', 'A', 'S', 'M', 'S', 'M', '.'],\n",
       " ['.', 'M', '.', 'S', '.', 'M', '.', '.', '.', '.'],\n",
       " ['.', '.', '.', '.', '.', '.', '.', '.', '.', '.'],\n",
       " ['S', '.', 'S', '.', 'S', '.', 'S', '.', 'S', '.'],\n",
       " ['.', 'A', '.', 'A', '.', 'A', '.', 'A', '.', '.'],\n",
       " ['M', '.', 'M', '.', 'M', '.', 'M', '.', 'M', '.'],\n",
       " ['.', '.', '.', '.', '.', '.', '.', '.', '.', '.']]"
      ]
     },
     "execution_count": 74,
     "metadata": {},
     "output_type": "execute_result"
    }
   ],
   "source": [
    "matrix"
   ]
  },
  {
   "cell_type": "code",
   "execution_count": 78,
   "metadata": {
    "executionInfo": {
     "elapsed": 230,
     "status": "ok",
     "timestamp": 1734292186559,
     "user": {
      "displayName": "Leonardo Brizi",
      "userId": "10572232546459158877"
     },
     "user_tz": -60
    },
    "id": "avdHDlPSlbXI"
   },
   "outputs": [],
   "source": [
    "scan = []\n",
    "\n",
    "for i in range(len(matrix)):\n",
    "  for j in range(len(matrix)):\n",
    "\n",
    "    SWNE,SENW = '',''\n",
    "\n",
    "    if j+1 < len(matrix) and i-1 >= 0 and j-1 >= 0 and i+1 < len(matrix):\n",
    "      SWNE =  matrix[i+1][j-1] + matrix[i][j] + matrix[i-1][j+1]\n",
    "    if j-1 >= 0 and i-1 >= 0 and j+1 < len(matrix) and i+1 < len(matrix):\n",
    "      SENW = matrix[i+1][j+1] + matrix[i][j] + matrix[i-1][j-1]\n",
    "\n",
    "    if (SWNE[::-1] == 'MAS' or SWNE == 'MAS') and (SENW[::-1] == 'MAS' or SENW == 'MAS'):\n",
    "      scan.append([matrix[i][j] ,i,j])"
   ]
  },
  {
   "cell_type": "code",
   "execution_count": 79,
   "metadata": {
    "colab": {
     "base_uri": "https://localhost:8080/"
    },
    "executionInfo": {
     "elapsed": 236,
     "status": "ok",
     "timestamp": 1734292188145,
     "user": {
      "displayName": "Leonardo Brizi",
      "userId": "10572232546459158877"
     },
     "user_tz": -60
    },
    "id": "xj5gXtpE2Tv_",
    "outputId": "cfe68326-b945-4fe9-f200-590ff4860353"
   },
   "outputs": [
    {
     "data": {
      "text/plain": [
       "1998"
      ]
     },
     "execution_count": 79,
     "metadata": {},
     "output_type": "execute_result"
    }
   ],
   "source": [
    "#output part 2\n",
    "len(scan)"
   ]
  },
  {
   "cell_type": "markdown",
   "metadata": {
    "id": "E9n4lNQv7JJ9"
   },
   "source": [
    "## Day 5"
   ]
  },
  {
   "cell_type": "markdown",
   "metadata": {
    "id": "yznWIdQI7PQg"
   },
   "source": [
    "Input file https://adventofcode.com/2024/day/5/input"
   ]
  },
  {
   "cell_type": "code",
   "execution_count": 64,
   "metadata": {
    "executionInfo": {
     "elapsed": 220,
     "status": "ok",
     "timestamp": 1734296381271,
     "user": {
      "displayName": "Leonardo Brizi",
      "userId": "10572232546459158877"
     },
     "user_tz": -60
    },
    "id": "bESlj9fWDAZY"
   },
   "outputs": [],
   "source": [
    "import math"
   ]
  },
  {
   "cell_type": "code",
   "execution_count": 65,
   "metadata": {
    "executionInfo": {
     "elapsed": 240,
     "status": "ok",
     "timestamp": 1734296383930,
     "user": {
      "displayName": "Leonardo Brizi",
      "userId": "10572232546459158877"
     },
     "user_tz": -60
    },
    "id": "jNJg6f9e7IXl"
   },
   "outputs": [],
   "source": [
    "with open('t.txt', 'r') as file:\n",
    "    file_content = file.read()"
   ]
  },
  {
   "cell_type": "code",
   "execution_count": 66,
   "metadata": {
    "executionInfo": {
     "elapsed": 237,
     "status": "ok",
     "timestamp": 1734296385804,
     "user": {
      "displayName": "Leonardo Brizi",
      "userId": "10572232546459158877"
     },
     "user_tz": -60
    },
    "id": "ElXWCTg37TR_"
   },
   "outputs": [],
   "source": [
    "#parse file\n",
    "rules = []\n",
    "produce = []\n",
    "for x in file_content[:-1].split(\"\\n\"):\n",
    "  if '|' in x:\n",
    "    rules.append(x.split('|'))\n",
    "  if ',' in x:\n",
    "    produce.append(x.split(','))"
   ]
  },
  {
   "cell_type": "code",
   "execution_count": 68,
   "metadata": {
    "colab": {
     "base_uri": "https://localhost:8080/"
    },
    "executionInfo": {
     "elapsed": 241,
     "status": "ok",
     "timestamp": 1734296389563,
     "user": {
      "displayName": "Leonardo Brizi",
      "userId": "10572232546459158877"
     },
     "user_tz": -60
    },
    "id": "9g_t04mI_wH5",
    "outputId": "f04b9fb3-c2bb-40a7-c8db-02bdf86aa27d"
   },
   "outputs": [
    {
     "data": {
      "text/plain": [
       "[['47', '53'],\n",
       " ['97', '13'],\n",
       " ['97', '61'],\n",
       " ['97', '47'],\n",
       " ['75', '29'],\n",
       " ['61', '13'],\n",
       " ['75', '53'],\n",
       " ['29', '13'],\n",
       " ['97', '29'],\n",
       " ['53', '29'],\n",
       " ['61', '53'],\n",
       " ['97', '53'],\n",
       " ['61', '29'],\n",
       " ['47', '13'],\n",
       " ['75', '47'],\n",
       " ['97', '75'],\n",
       " ['47', '61'],\n",
       " ['75', '61'],\n",
       " ['47', '29'],\n",
       " ['75', '13'],\n",
       " ['53', '13']]"
      ]
     },
     "execution_count": 68,
     "metadata": {},
     "output_type": "execute_result"
    }
   ],
   "source": [
    "rules"
   ]
  },
  {
   "cell_type": "code",
   "execution_count": null,
   "metadata": {
    "id": "FB3d2ZaG7gDi"
   },
   "outputs": [],
   "source": [
    "produce"
   ]
  },
  {
   "cell_type": "code",
   "execution_count": 69,
   "metadata": {
    "executionInfo": {
     "elapsed": 253,
     "status": "ok",
     "timestamp": 1734296393010,
     "user": {
      "displayName": "Leonardo Brizi",
      "userId": "10572232546459158877"
     },
     "user_tz": -60
    },
    "id": "Lf_c5GPy7hiy"
   },
   "outputs": [],
   "source": [
    "violatedRules = []\n",
    "\n",
    "for p in produce:\n",
    "  for r in rules:\n",
    "    if r[0] in p and r[1] in p:\n",
    "      pos1 = p.index(r[0])\n",
    "      pos2 = p.index(r[1])\n",
    "      if pos2 < pos1:\n",
    "        violatedRules.append([p,r])\n"
   ]
  },
  {
   "cell_type": "code",
   "execution_count": 70,
   "metadata": {
    "executionInfo": {
     "elapsed": 4,
     "status": "ok",
     "timestamp": 1734296394407,
     "user": {
      "displayName": "Leonardo Brizi",
      "userId": "10572232546459158877"
     },
     "user_tz": -60
    },
    "id": "XZlDZGDjFynp"
   },
   "outputs": [],
   "source": [
    "goodOrder = [p for p in produce if p not in [v[0] for v in violatedRules]]"
   ]
  },
  {
   "cell_type": "code",
   "execution_count": 71,
   "metadata": {
    "executionInfo": {
     "elapsed": 3,
     "status": "ok",
     "timestamp": 1734296395330,
     "user": {
      "displayName": "Leonardo Brizi",
      "userId": "10572232546459158877"
     },
     "user_tz": -60
    },
    "id": "RjSgrdT_DNfe"
   },
   "outputs": [],
   "source": [
    "centrals = [int(t[math.ceil(len(t)/2-1)]) for t in  goodOrder]"
   ]
  },
  {
   "cell_type": "code",
   "execution_count": 72,
   "metadata": {
    "colab": {
     "base_uri": "https://localhost:8080/"
    },
    "executionInfo": {
     "elapsed": 6,
     "status": "ok",
     "timestamp": 1734296396493,
     "user": {
      "displayName": "Leonardo Brizi",
      "userId": "10572232546459158877"
     },
     "user_tz": -60
    },
    "id": "lQWGj--J-m2N",
    "outputId": "2e209e78-0fa7-4354-e5c2-e964d668e6c8"
   },
   "outputs": [
    {
     "data": {
      "text/plain": [
       "143"
      ]
     },
     "execution_count": 72,
     "metadata": {},
     "output_type": "execute_result"
    }
   ],
   "source": [
    "#outcome part one\n",
    "sum(centrals)"
   ]
  },
  {
   "cell_type": "code",
   "execution_count": 73,
   "metadata": {
    "colab": {
     "base_uri": "https://localhost:8080/"
    },
    "executionInfo": {
     "elapsed": 231,
     "status": "ok",
     "timestamp": 1734296399928,
     "user": {
      "displayName": "Leonardo Brizi",
      "userId": "10572232546459158877"
     },
     "user_tz": -60
    },
    "id": "1MTxs5UsFDBb",
    "outputId": "92b2f7fc-6060-4117-ce99-831dcaf11708"
   },
   "outputs": [
    {
     "data": {
      "text/plain": [
       "[[['75', '97', '47', '61', '53'], ['97', '75']],\n",
       " [['61', '13', '29'], ['29', '13']],\n",
       " [['97', '13', '75', '29', '47'], ['29', '13']],\n",
       " [['97', '13', '75', '29', '47'], ['47', '13']],\n",
       " [['97', '13', '75', '29', '47'], ['47', '29']],\n",
       " [['97', '13', '75', '29', '47'], ['75', '13']]]"
      ]
     },
     "execution_count": 73,
     "metadata": {},
     "output_type": "execute_result"
    }
   ],
   "source": [
    "violatedRules"
   ]
  },
  {
   "cell_type": "code",
   "execution_count": null,
   "metadata": {
    "id": "3D7L-hWsHoBd"
   },
   "outputs": [],
   "source": []
  },
  {
   "cell_type": "markdown",
   "metadata": {},
   "source": [
    "## Day 24"
   ]
  },
  {
   "cell_type": "markdown",
   "metadata": {},
   "source": [
    "Input file https://adventofcode.com/2024/day/24/input"
   ]
  },
  {
   "cell_type": "code",
   "execution_count": 41,
   "metadata": {},
   "outputs": [],
   "source": [
    "with open('input.txt', 'r') as file:\n",
    "    file_content = file.read()"
   ]
  },
  {
   "cell_type": "code",
   "execution_count": 42,
   "metadata": {},
   "outputs": [
    {
     "name": "stdout",
     "output_type": "stream",
     "text": [
      "{'x00': '1', 'x01': '1', 'x02': '0', 'x03': '0', 'x04': '0', 'x05': '1', 'x06': '0', 'x07': '1', 'x08': '1', 'x09': '0', 'x10': '1', 'x11': '0', 'x12': '0', 'x13': '1', 'x14': '1', 'x15': '1', 'x16': '0', 'x17': '0', 'x18': '1', 'x19': '1', 'x20': '1', 'x21': '1', 'x22': '1', 'x23': '1', 'x24': '1', 'x25': '0', 'x26': '0', 'x27': '0', 'x28': '0', 'x29': '1', 'x30': '0', 'x31': '0', 'x32': '0', 'x33': '1', 'x34': '0', 'x35': '1', 'x36': '0', 'x37': '1', 'x38': '1', 'x39': '1', 'x40': '0', 'x41': '1', 'x42': '1', 'x43': '1', 'x44': '1', 'y00': '1', 'y01': '0', 'y02': '1', 'y03': '1', 'y04': '0', 'y05': '0', 'y06': '1', 'y07': '1', 'y08': '0', 'y09': '1', 'y10': '1', 'y11': '1', 'y12': '1', 'y13': '1', 'y14': '1', 'y15': '1', 'y16': '0', 'y17': '1', 'y18': '1', 'y19': '0', 'y20': '0', 'y21': '0', 'y22': '0', 'y23': '1', 'y24': '1', 'y25': '1', 'y26': '0', 'y27': '0', 'y28': '0', 'y29': '0', 'y30': '1', 'y31': '0', 'y32': '0', 'y33': '1', 'y34': '1', 'y35': '1', 'y36': '0', 'y37': '1', 'y38': '0', 'y39': '1', 'y40': '0', 'y41': '0', 'y42': '1', 'y43': '0', 'y44': '1'}\n",
      "[{'in1': 'x36', 'in2': 'y36', 'op': 'XOR', 'out': 'sfj'}, {'in1': 'mpq', 'in2': 'dvh', 'op': 'AND', 'out': 'qgg'}, {'in1': 'sfj', 'in2': 'fjm', 'op': 'XOR', 'out': 'z36'}, {'in1': 'y10', 'in2': 'x10', 'op': 'AND', 'out': 'pjt'}, {'in1': 'pds', 'in2': 'wsg', 'op': 'XOR', 'out': 'z25'}, {'in1': 'wjm', 'in2': 'rhk', 'op': 'XOR', 'out': 'z33'}, {'in1': 'dvd', 'in2': 'kgf', 'op': 'OR', 'out': 'ckp'}, {'in1': 'tgj', 'in2': 'mkm', 'op': 'XOR', 'out': 'bjm'}, {'in1': 'x40', 'in2': 'y40', 'op': 'AND', 'out': 'vkd'}, {'in1': 'x28', 'in2': 'y28', 'op': 'XOR', 'out': 'vvc'}, {'in1': 'y22', 'in2': 'x22', 'op': 'AND', 'out': 'tmq'}, {'in1': 'gdw', 'in2': 'tns', 'op': 'AND', 'out': 'dvd'}, {'in1': 'rwm', 'in2': 'vvc', 'op': 'AND', 'out': 'cdj'}, {'in1': 'mwg', 'in2': 'hmm', 'op': 'XOR', 'out': 'z34'}, {'in1': 'dtw', 'in2': 'tgb', 'op': 'AND', 'out': 'gqg'}, {'in1': 'y20', 'in2': 'x20', 'op': 'AND', 'out': 'pnb'}, {'in1': 'dcn', 'in2': 'qmb', 'op': 'OR', 'out': 'wsg'}, {'in1': 'hjv', 'in2': 'vwc', 'op': 'OR', 'out': 'fsw'}, {'in1': 'x26', 'in2': 'y26', 'op': 'XOR', 'out': 'nvr'}, {'in1': 'x41', 'in2': 'y41', 'op': 'XOR', 'out': 'cjs'}, {'in1': 'dwj', 'in2': 'qvk', 'op': 'OR', 'out': 'z45'}, {'in1': 'x27', 'in2': 'y27', 'op': 'XOR', 'out': 'crd'}, {'in1': 'whv', 'in2': 'ngt', 'op': 'XOR', 'out': 'z43'}, {'in1': 'rfg', 'in2': 'mwk', 'op': 'AND', 'out': 'tch'}, {'in1': 'bgt', 'in2': 'qjc', 'op': 'XOR', 'out': 'skf'}, {'in1': 'frt', 'in2': 'nvr', 'op': 'OR', 'out': 'bpb'}, {'in1': 'y34', 'in2': 'x34', 'op': 'AND', 'out': 'fnf'}, {'in1': 'y40', 'in2': 'x40', 'op': 'XOR', 'out': 'pmm'}, {'in1': 'sws', 'in2': 'tpq', 'op': 'AND', 'out': 'hjv'}, {'in1': 'pcn', 'in2': 'vbm', 'op': 'OR', 'out': 'mwg'}, {'in1': 'mkm', 'in2': 'tgj', 'op': 'AND', 'out': 'njc'}, {'in1': 'jjb', 'in2': 'vkw', 'op': 'OR', 'out': 'rhk'}, {'in1': 'fdb', 'in2': 'smd', 'op': 'XOR', 'out': 'z30'}, {'in1': 'ghh', 'in2': 'gnn', 'op': 'AND', 'out': 'qhq'}, {'in1': 'ckp', 'in2': 'rds', 'op': 'AND', 'out': 'spf'}, {'in1': 'dnk', 'in2': 'drk', 'op': 'AND', 'out': 'tdg'}, {'in1': 'x10', 'in2': 'y10', 'op': 'XOR', 'out': 'rds'}, {'in1': 'wrg', 'in2': 'rtn', 'op': 'OR', 'out': 'rbk'}, {'in1': 'y19', 'in2': 'x19', 'op': 'AND', 'out': 'kgh'}, {'in1': 'sfj', 'in2': 'fjm', 'op': 'AND', 'out': 'vnm'}, {'in1': 'tpq', 'in2': 'sws', 'op': 'XOR', 'out': 'z05'}, {'in1': 'x14', 'in2': 'y14', 'op': 'AND', 'out': 'rmm'}, {'in1': 'qkf', 'in2': 'wkr', 'op': 'AND', 'out': 'frt'}, {'in1': 'y07', 'in2': 'x07', 'op': 'XOR', 'out': 'tgj'}, {'in1': 'fjf', 'in2': 'bmg', 'op': 'OR', 'out': 'nbp'}, {'in1': 'fsw', 'in2': 'nhj', 'op': 'XOR', 'out': 'z06'}, {'in1': 'fvk', 'in2': 'pbn', 'op': 'AND', 'out': 'gpv'}, {'in1': 'y18', 'in2': 'x18', 'op': 'AND', 'out': 'z18'}, {'in1': 'x21', 'in2': 'y21', 'op': 'AND', 'out': 'vfr'}, {'in1': 'y24', 'in2': 'x24', 'op': 'AND', 'out': 'qmb'}, {'in1': 'vnm', 'in2': 'bkm', 'op': 'OR', 'out': 'fjq'}, {'in1': 'x27', 'in2': 'y27', 'op': 'AND', 'out': 'qcg'}, {'in1': 'gtk', 'in2': 'cck', 'op': 'OR', 'out': 'fjm'}, {'in1': 'y22', 'in2': 'x22', 'op': 'XOR', 'out': 'dnk'}, {'in1': 'pnh', 'in2': 'nbp', 'op': 'AND', 'out': 'gms'}, {'in1': 'vvc', 'in2': 'rwm', 'op': 'XOR', 'out': 'z28'}, {'in1': 'x38', 'in2': 'y38', 'op': 'AND', 'out': 'shn'}, {'in1': 'wkd', 'in2': 'mbw', 'op': 'OR', 'out': 'tcb'}, {'in1': 'x01', 'in2': 'y01', 'op': 'XOR', 'out': 'ghh'}, {'in1': 'y26', 'in2': 'x26', 'op': 'AND', 'out': 'wkr'}, {'in1': 'tgm', 'in2': 'skf', 'op': 'OR', 'out': 'rrq'}, {'in1': 'pth', 'in2': 'vjb', 'op': 'XOR', 'out': 'z39'}, {'in1': 'x09', 'in2': 'y09', 'op': 'AND', 'out': 'kgf'}, {'in1': 'dkc', 'in2': 'tjh', 'op': 'XOR', 'out': 'z31'}, {'in1': 'rds', 'in2': 'ckp', 'op': 'XOR', 'out': 'z10'}, {'in1': 'dvh', 'in2': 'mpq', 'op': 'XOR', 'out': 'z04'}, {'in1': 'x19', 'in2': 'y19', 'op': 'XOR', 'out': 'scd'}, {'in1': 'bht', 'in2': 'jkm', 'op': 'AND', 'out': 'qrb'}, {'in1': 'y39', 'in2': 'x39', 'op': 'AND', 'out': 'jmc'}, {'in1': 'x30', 'in2': 'y30', 'op': 'AND', 'out': 'djm'}, {'in1': 'mwg', 'in2': 'hmm', 'op': 'AND', 'out': 'mhg'}, {'in1': 'tcb', 'in2': 'jkh', 'op': 'XOR', 'out': 'z44'}, {'in1': 'x37', 'in2': 'y37', 'op': 'XOR', 'out': 'djd'}, {'in1': 'gpv', 'in2': 'jrk', 'op': 'OR', 'out': 'whv'}, {'in1': 'qgg', 'in2': 'vds', 'op': 'OR', 'out': 'sws'}, {'in1': 'fwk', 'in2': 'msp', 'op': 'AND', 'out': 'vbs'}, {'in1': 'y11', 'in2': 'x11', 'op': 'AND', 'out': 'wpw'}, {'in1': 'fnf', 'in2': 'mhg', 'op': 'OR', 'out': 'bfg'}, {'in1': 'vhb', 'in2': 'bpf', 'op': 'AND', 'out': 'tst'}, {'in1': 'gpn', 'in2': 'vbs', 'op': 'OR', 'out': 'gmp'}, {'in1': 'cgh', 'in2': 'cjs', 'op': 'XOR', 'out': 'z41'}, {'in1': 'x23', 'in2': 'y23', 'op': 'AND', 'out': 'wjw'}, {'in1': 'mwk', 'in2': 'rfg', 'op': 'XOR', 'out': 'z20'}, {'in1': 'y07', 'in2': 'x07', 'op': 'AND', 'out': 'kbk'}, {'in1': 'x16', 'in2': 'y16', 'op': 'AND', 'out': 'fjf'}, {'in1': 'x37', 'in2': 'y37', 'op': 'AND', 'out': 'gvr'}, {'in1': 'tgv', 'in2': 'pmm', 'op': 'XOR', 'out': 'z40'}, {'in1': 'y17', 'in2': 'x17', 'op': 'XOR', 'out': 'pnh'}, {'in1': 'x43', 'in2': 'y43', 'op': 'XOR', 'out': 'ngt'}, {'in1': 'njc', 'in2': 'kbk', 'op': 'OR', 'out': 'z07'}, {'in1': 'y18', 'in2': 'x18', 'op': 'XOR', 'out': 'qjc'}, {'in1': 'y31', 'in2': 'x31', 'op': 'XOR', 'out': 'tjh'}, {'in1': 'tch', 'in2': 'pnb', 'op': 'OR', 'out': 'swd'}, {'in1': 'x15', 'in2': 'y15', 'op': 'XOR', 'out': 'tgb'}, {'in1': 'x06', 'in2': 'y06', 'op': 'XOR', 'out': 'nhj'}, {'in1': 'tns', 'in2': 'gdw', 'op': 'XOR', 'out': 'z09'}, {'in1': 'x01', 'in2': 'y01', 'op': 'AND', 'out': 'nck'}, {'in1': 'bpb', 'in2': 'crd', 'op': 'XOR', 'out': 'z27'}, {'in1': 'bcv', 'in2': 'swd', 'op': 'AND', 'out': 'djg'}, {'in1': 'bpb', 'in2': 'crd', 'op': 'AND', 'out': 'hcb'}, {'in1': 'y42', 'in2': 'x42', 'op': 'AND', 'out': 'jrk'}, {'in1': 'fjq', 'in2': 'djd', 'op': 'AND', 'out': 'fvp'}, {'in1': 'tgv', 'in2': 'pmm', 'op': 'AND', 'out': 'hfj'}, {'in1': 'x44', 'in2': 'y44', 'op': 'XOR', 'out': 'jkh'}, {'in1': 'gwd', 'in2': 'sbg', 'op': 'XOR', 'out': 'z11'}, {'in1': 'y23', 'in2': 'x23', 'op': 'XOR', 'out': 'vft'}, {'in1': 'gmp', 'in2': 'rgn', 'op': 'AND', 'out': 'djp'}, {'in1': 'vft', 'in2': 'hkk', 'op': 'AND', 'out': 'hqw'}, {'in1': 'y24', 'in2': 'x24', 'op': 'XOR', 'out': 'knh'}, {'in1': 'x30', 'in2': 'y30', 'op': 'XOR', 'out': 'smd'}, {'in1': 'x34', 'in2': 'y34', 'op': 'XOR', 'out': 'hmm'}, {'in1': 'tjh', 'in2': 'dkc', 'op': 'AND', 'out': 'bkc'}, {'in1': 'rmm', 'in2': 'tst', 'op': 'OR', 'out': 'dtw'}, {'in1': 'djp', 'in2': 'wwt', 'op': 'OR', 'out': 'dvh'}, {'in1': 'y25', 'in2': 'x25', 'op': 'AND', 'out': 'kvp'}, {'in1': 'y31', 'in2': 'x31', 'op': 'AND', 'out': 'mqr'}, {'in1': 'fdb', 'in2': 'smd', 'op': 'AND', 'out': 'sst'}, {'in1': 'x11', 'in2': 'y11', 'op': 'XOR', 'out': 'sbg'}, {'in1': 'x05', 'in2': 'y05', 'op': 'AND', 'out': 'vwc'}, {'in1': 'pds', 'in2': 'wsg', 'op': 'AND', 'out': 'qsm'}, {'in1': 'scd', 'in2': 'rrq', 'op': 'AND', 'out': 'bqj'}, {'in1': 'pnh', 'in2': 'nbp', 'op': 'XOR', 'out': 'z17'}, {'in1': 'scd', 'in2': 'rrq', 'op': 'XOR', 'out': 'z19'}, {'in1': 'y12', 'in2': 'x12', 'op': 'AND', 'out': 'rtn'}, {'in1': 'btr', 'in2': 'bjm', 'op': 'AND', 'out': 'bsd'}, {'in1': 'hcb', 'in2': 'qcg', 'op': 'OR', 'out': 'rwm'}, {'in1': 'y39', 'in2': 'x39', 'op': 'XOR', 'out': 'pth'}, {'in1': 'x12', 'in2': 'y12', 'op': 'XOR', 'out': 'ggj'}, {'in1': 'pmv', 'in2': 'rbk', 'op': 'AND', 'out': 'z13'}, {'in1': 'y09', 'in2': 'x09', 'op': 'XOR', 'out': 'gdw'}, {'in1': 'vft', 'in2': 'hkk', 'op': 'XOR', 'out': 'z23'}, {'in1': 'fwv', 'in2': 'rwk', 'op': 'XOR', 'out': 'z32'}, {'in1': 'wjw', 'in2': 'hqw', 'op': 'OR', 'out': 'wbw'}, {'in1': 'hcv', 'in2': 'ggj', 'op': 'AND', 'out': 'wrg'}, {'in1': 'sss', 'in2': 'cmv', 'op': 'OR', 'out': 'fdb'}, {'in1': 'x08', 'in2': 'y08', 'op': 'XOR', 'out': 'btr'}, {'in1': 'fvp', 'in2': 'gvr', 'op': 'OR', 'out': 'bht'}, {'in1': 'vhb', 'in2': 'bpf', 'op': 'XOR', 'out': 'z14'}, {'in1': 'x00', 'in2': 'y00', 'op': 'XOR', 'out': 'z00'}, {'in1': 'tmp', 'in2': 'gph', 'op': 'AND', 'out': 'cmv'}, {'in1': 'x29', 'in2': 'y29', 'op': 'XOR', 'out': 'tmp'}, {'in1': 'whv', 'in2': 'ngt', 'op': 'AND', 'out': 'wkd'}, {'in1': 'tgb', 'in2': 'dtw', 'op': 'XOR', 'out': 'z15'}, {'in1': 'pth', 'in2': 'vjb', 'op': 'AND', 'out': 'cvf'}, {'in1': 'y33', 'in2': 'x33', 'op': 'AND', 'out': 'vbm'}, {'in1': 'x38', 'in2': 'y38', 'op': 'XOR', 'out': 'jkm'}, {'in1': 'x14', 'in2': 'y14', 'op': 'XOR', 'out': 'vhb'}, {'in1': 'y05', 'in2': 'x05', 'op': 'XOR', 'out': 'tpq'}, {'in1': 'tdg', 'in2': 'tmq', 'op': 'OR', 'out': 'hkk'}, {'in1': 'bfg', 'in2': 'tdd', 'op': 'AND', 'out': 'gtk'}, {'in1': 'y03', 'in2': 'x03', 'op': 'XOR', 'out': 'rgn'}, {'in1': 'x04', 'in2': 'y04', 'op': 'XOR', 'out': 'mpq'}, {'in1': 'pmv', 'in2': 'rbk', 'op': 'XOR', 'out': 'hsw'}, {'in1': 'wjm', 'in2': 'rhk', 'op': 'AND', 'out': 'pcn'}, {'in1': 'kgh', 'in2': 'bqj', 'op': 'OR', 'out': 'mwk'}, {'in1': 'spf', 'in2': 'pjt', 'op': 'OR', 'out': 'gwd'}, {'in1': 'y29', 'in2': 'x29', 'op': 'AND', 'out': 'sss'}, {'in1': 'mqr', 'in2': 'bkc', 'op': 'OR', 'out': 'fwv'}, {'in1': 'gpt', 'in2': 'fcf', 'op': 'AND', 'out': 'bmg'}, {'in1': 'y13', 'in2': 'x13', 'op': 'AND', 'out': 'vjf'}, {'in1': 'y32', 'in2': 'x32', 'op': 'XOR', 'out': 'rwk'}, {'in1': 'fvm', 'in2': 'bsd', 'op': 'OR', 'out': 'tns'}, {'in1': 'y20', 'in2': 'x20', 'op': 'XOR', 'out': 'rfg'}, {'in1': 'bgt', 'in2': 'qjc', 'op': 'AND', 'out': 'tgm'}, {'in1': 'bht', 'in2': 'jkm', 'op': 'XOR', 'out': 'z38'}, {'in1': 'gmp', 'in2': 'rgn', 'op': 'XOR', 'out': 'z03'}, {'in1': 'y15', 'in2': 'x15', 'op': 'AND', 'out': 'bsc'}, {'in1': 'spd', 'in2': 'rmv', 'op': 'OR', 'out': 'pbn'}, {'in1': 'x04', 'in2': 'y04', 'op': 'AND', 'out': 'vds'}, {'in1': 'y06', 'in2': 'x06', 'op': 'AND', 'out': 'cbn'}, {'in1': 'fjq', 'in2': 'djd', 'op': 'XOR', 'out': 'z37'}, {'in1': 'x41', 'in2': 'y41', 'op': 'AND', 'out': 'rmv'}, {'in1': 'swd', 'in2': 'bcv', 'op': 'XOR', 'out': 'z21'}, {'in1': 'tcb', 'in2': 'jkh', 'op': 'AND', 'out': 'qvk'}, {'in1': 'dvw', 'in2': 'cbn', 'op': 'OR', 'out': 'mkm'}, {'in1': 'ghh', 'in2': 'gnn', 'op': 'XOR', 'out': 'z01'}, {'in1': 'x00', 'in2': 'y00', 'op': 'AND', 'out': 'gnn'}, {'in1': 'jct', 'in2': 'gms', 'op': 'OR', 'out': 'bgt'}, {'in1': 'x03', 'in2': 'y03', 'op': 'AND', 'out': 'wwt'}, {'in1': 'y08', 'in2': 'x08', 'op': 'AND', 'out': 'fvm'}, {'in1': 'wpw', 'in2': 'pnq', 'op': 'OR', 'out': 'hcv'}, {'in1': 'nck', 'in2': 'qhq', 'op': 'OR', 'out': 'msp'}, {'in1': 'wbw', 'in2': 'knh', 'op': 'XOR', 'out': 'z24'}, {'in1': 'qkf', 'in2': 'wkr', 'op': 'XOR', 'out': 'z26'}, {'in1': 'y16', 'in2': 'x16', 'op': 'XOR', 'out': 'fcf'}, {'in1': 'cvf', 'in2': 'jmc', 'op': 'OR', 'out': 'tgv'}, {'in1': 'rwk', 'in2': 'fwv', 'op': 'AND', 'out': 'vkw'}, {'in1': 'y43', 'in2': 'x43', 'op': 'AND', 'out': 'mbw'}, {'in1': 'tmp', 'in2': 'gph', 'op': 'XOR', 'out': 'z29'}, {'in1': 'y35', 'in2': 'x35', 'op': 'AND', 'out': 'cck'}, {'in1': 'knh', 'in2': 'wbw', 'op': 'AND', 'out': 'dcn'}, {'in1': 'y36', 'in2': 'x36', 'op': 'AND', 'out': 'bkm'}, {'in1': 'hcv', 'in2': 'ggj', 'op': 'XOR', 'out': 'z12'}, {'in1': 'tvw', 'in2': 'cdj', 'op': 'OR', 'out': 'gph'}, {'in1': 'fcf', 'in2': 'gpt', 'op': 'XOR', 'out': 'z16'}, {'in1': 'msp', 'in2': 'fwk', 'op': 'XOR', 'out': 'z02'}, {'in1': 'y25', 'in2': 'x25', 'op': 'XOR', 'out': 'pds'}, {'in1': 'qrb', 'in2': 'shn', 'op': 'OR', 'out': 'vjb'}, {'in1': 'vjf', 'in2': 'hsw', 'op': 'OR', 'out': 'bpf'}, {'in1': 'x44', 'in2': 'y44', 'op': 'AND', 'out': 'dwj'}, {'in1': 'x21', 'in2': 'y21', 'op': 'XOR', 'out': 'bcv'}, {'in1': 'y42', 'in2': 'x42', 'op': 'XOR', 'out': 'fvk'}, {'in1': 'cgh', 'in2': 'cjs', 'op': 'AND', 'out': 'spd'}, {'in1': 'dnk', 'in2': 'drk', 'op': 'XOR', 'out': 'z22'}, {'in1': 'sst', 'in2': 'djm', 'op': 'OR', 'out': 'dkc'}, {'in1': 'bfg', 'in2': 'tdd', 'op': 'XOR', 'out': 'z35'}, {'in1': 'btr', 'in2': 'bjm', 'op': 'XOR', 'out': 'z08'}, {'in1': 'djg', 'in2': 'vfr', 'op': 'OR', 'out': 'drk'}, {'in1': 'bsc', 'in2': 'gqg', 'op': 'OR', 'out': 'gpt'}, {'in1': 'fvk', 'in2': 'pbn', 'op': 'XOR', 'out': 'z42'}, {'in1': 'hfj', 'in2': 'vkd', 'op': 'OR', 'out': 'cgh'}, {'in1': 'gwd', 'in2': 'sbg', 'op': 'AND', 'out': 'pnq'}, {'in1': 'x32', 'in2': 'y32', 'op': 'AND', 'out': 'jjb'}, {'in1': 'kvp', 'in2': 'qsm', 'op': 'OR', 'out': 'qkf'}, {'in1': 'x17', 'in2': 'y17', 'op': 'AND', 'out': 'jct'}, {'in1': 'y02', 'in2': 'x02', 'op': 'XOR', 'out': 'fwk'}, {'in1': 'y33', 'in2': 'x33', 'op': 'XOR', 'out': 'wjm'}, {'in1': 'x13', 'in2': 'y13', 'op': 'XOR', 'out': 'pmv'}, {'in1': 'y28', 'in2': 'x28', 'op': 'AND', 'out': 'tvw'}, {'in1': 'fsw', 'in2': 'nhj', 'op': 'AND', 'out': 'dvw'}, {'in1': 'x02', 'in2': 'y02', 'op': 'AND', 'out': 'gpn'}, {'in1': 'x35', 'in2': 'y35', 'op': 'XOR', 'out': 'tdd'}]\n"
     ]
    }
   ],
   "source": [
    "import re\n",
    "input_dicts = {}\n",
    "gate_dicts = []\n",
    "\n",
    "# Split the file content into lines\n",
    "lines = file_content.strip().split('\\n')\n",
    "\n",
    "# Process each line\n",
    "for line in lines:\n",
    "    if ':' in line:\n",
    "        key, value = line.split(': ')\n",
    "        input_dicts[key] = value\n",
    "    elif '->' in line:\n",
    "        parts = re.split(r'(\\sXOR\\s|\\sOR\\s|\\sAND\\s)', line)\n",
    "        in1, op, in2 = parts[0].strip(), parts[1].strip(), parts[2].split(' -> ')[0].strip()\n",
    "        out = parts[2].split(' -> ')[1].strip()\n",
    "        gate_dicts.append({'in1': in1, 'in2': in2, 'op': op, 'out': out})\n",
    "\n",
    "print(input_dicts)\n",
    "print(gate_dicts)"
   ]
  },
  {
   "cell_type": "code",
   "execution_count": 43,
   "metadata": {},
   "outputs": [],
   "source": [
    "\n",
    "def activation_update():\n",
    "    for g in gate_dicts:\n",
    "        if g['in1'] in input_dicts.keys() and g['in2'] in input_dicts.keys():\n",
    "            g['activation'] = 2\n",
    "        elif g['in1'] in input_dicts.keys():\n",
    "            g['activation'] = 1\n",
    "        elif g['in2'] in input_dicts.keys():\n",
    "            g['activation'] = 1\n",
    "        else:\n",
    "            g['activation'] = 0"
   ]
  },
  {
   "cell_type": "code",
   "execution_count": 44,
   "metadata": {},
   "outputs": [],
   "source": [
    "def gate_operation(in1, in2, op):\n",
    "    if op == 'AND':\n",
    "        return in1 & in2\n",
    "    elif op == 'OR':\n",
    "        return in1 | in2\n",
    "    elif op == 'XOR':\n",
    "        return in1 ^ in2\n",
    "    else:\n",
    "        return None"
   ]
  },
  {
   "cell_type": "code",
   "execution_count": 45,
   "metadata": {},
   "outputs": [],
   "source": [
    "#initialise the activation\n",
    "activation_update()"
   ]
  },
  {
   "cell_type": "code",
   "execution_count": 46,
   "metadata": {},
   "outputs": [],
   "source": [
    "while len([x for x in gate_dicts if x['activation'] < 2]) > 0:\n",
    "    for g in gate_dicts:\n",
    "        if g['activation'] == 2:\n",
    "            input_dicts[g['out']] = gate_operation(int(input_dicts[g['in1']]), int(input_dicts[g['in2']]), g['op'])\n",
    "    \n",
    "    activation_update()\n",
    "            "
   ]
  },
  {
   "cell_type": "code",
   "execution_count": 47,
   "metadata": {},
   "outputs": [],
   "source": [
    "\n",
    "\"\"\"\n",
    "Processes a list of gate operations and returns the results for gates with 'z' in their output.\n",
    "\n",
    "This function performs the following steps:\n",
    "1. Sorts the gate dictionaries in descending order based on the 'out' key.\n",
    "2. Filters the gates to include only those with 'z' in their 'out' key.\n",
    "3. Applies the gate operation to the inputs specified in the gate dictionary.\n",
    "\n",
    "Args:\n",
    "    input_dicts (dict): A dictionary where keys are input names and values are their corresponding integer values.\n",
    "    gate_dicts (list): A list of dictionaries, each representing a gate operation with keys 'in1', 'in2', 'op', and 'out'.\n",
    "\n",
    "Returns:\n",
    "    list: A list of results from the gate operations.\n",
    "\"\"\"\n",
    "out = [ gate_operation(int(input_dicts[g['in1']]), int(input_dicts[g['in2']]), g['op']) for g in sorted(gate_dicts, key=lambda x: x['out'], reverse=True) if 'z' in g['out'] ]\n"
   ]
  },
  {
   "cell_type": "code",
   "execution_count": 49,
   "metadata": {},
   "outputs": [],
   "source": [
    "out_converted = 0\n",
    "for i in range(len(out)):\n",
    "    out_converted += out[i] * (2 ** (len(out) - 1 - i))"
   ]
  },
  {
   "cell_type": "code",
   "execution_count": 50,
   "metadata": {},
   "outputs": [
    {
     "data": {
      "text/plain": [
       "56729630917616"
      ]
     },
     "execution_count": 50,
     "metadata": {},
     "output_type": "execute_result"
    }
   ],
   "source": [
    "#output part one\n",
    "out_converted"
   ]
  },
  {
   "cell_type": "code",
   "execution_count": null,
   "metadata": {},
   "outputs": [],
   "source": []
  }
 ],
 "metadata": {
  "colab": {
   "authorship_tag": "ABX9TyPmPl3NNDcikcWhqXWt5WXj",
   "collapsed_sections": [
    "oypK6kbJ5Z61",
    "KY1rd4aQWJqD",
    "johcRr1m_Ptv",
    "bcpp5ojhiIaU"
   ],
   "provenance": []
  },
  "kernelspec": {
   "display_name": "Python 3",
   "name": "python3"
  },
  "language_info": {
   "codemirror_mode": {
    "name": "ipython",
    "version": 3
   },
   "file_extension": ".py",
   "mimetype": "text/x-python",
   "name": "python",
   "nbconvert_exporter": "python",
   "pygments_lexer": "ipython3",
   "version": "3.9.6"
  }
 },
 "nbformat": 4,
 "nbformat_minor": 0
}
