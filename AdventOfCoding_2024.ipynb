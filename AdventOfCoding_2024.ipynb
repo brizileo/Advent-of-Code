{
 "cells": [
  {
   "cell_type": "markdown",
   "metadata": {
    "id": "oypK6kbJ5Z61"
   },
   "source": [
    "## Day 1"
   ]
  },
  {
   "cell_type": "markdown",
   "metadata": {
    "id": "JGJaZasY_ILR"
   },
   "source": [
    "Input file https://adventofcode.com/2024/day/1/input"
   ]
  },
  {
   "cell_type": "code",
   "execution_count": 93,
   "metadata": {
    "id": "SPwXmY6G03A5"
   },
   "outputs": [],
   "source": [
    "with open('input.txt', 'r') as file:\n",
    "    file_content = file.read()"
   ]
  },
  {
   "cell_type": "code",
   "execution_count": 94,
   "metadata": {
    "id": "pO-iDNF88ovC"
   },
   "outputs": [],
   "source": [
    "pairs = []"
   ]
  },
  {
   "cell_type": "code",
   "execution_count": null,
   "metadata": {
    "id": "005AM4iv6LI1"
   },
   "outputs": [],
   "source": [
    "#parse file\n",
    "for x in file_content[:-1].split(\"\\n\"):\n",
    "  pairs.append([int(t) for t in x.split(\" \") if len(t)> 0])\n"
   ]
  },
  {
   "cell_type": "code",
   "execution_count": null,
   "metadata": {
    "id": "5kHTpDYC8Qfa"
   },
   "outputs": [],
   "source": [
    "l1 = []\n",
    "l2 = []\n",
    "for p in pairs:\n",
    "  l1.append(p[0])\n",
    "  l2.append(p[1])"
   ]
  },
  {
   "cell_type": "code",
   "execution_count": null,
   "metadata": {
    "id": "tzyunVhP8Zwo"
   },
   "outputs": [],
   "source": [
    "l1.sort()\n",
    "l2.sort()"
   ]
  },
  {
   "cell_type": "code",
   "execution_count": null,
   "metadata": {
    "id": "a5nYeVoq-9Wy"
   },
   "outputs": [],
   "source": []
  },
  {
   "cell_type": "code",
   "execution_count": null,
   "metadata": {
    "id": "k74CW28P_OeV"
   },
   "outputs": [],
   "source": [
    "s = 0\n",
    "for i in zip(l1,l2):\n",
    "  s = s + abs(i[0]-i[1])"
   ]
  },
  {
   "cell_type": "code",
   "execution_count": null,
   "metadata": {
    "colab": {
     "base_uri": "https://localhost:8080/"
    },
    "executionInfo": {
     "elapsed": 9,
     "status": "ok",
     "timestamp": 1734193811152,
     "user": {
      "displayName": "Leonardo Brizi",
      "userId": "10572232546459158877"
     },
     "user_tz": -60
    },
    "id": "4vqsOYt0_fGc",
    "outputId": "29fca544-bf17-4b35-8c8c-9ed8b51f0d35"
   },
   "outputs": [],
   "source": [
    "#output part one\n",
    "s"
   ]
  },
  {
   "cell_type": "code",
   "execution_count": null,
   "metadata": {
    "id": "qDUtjeftAYui"
   },
   "outputs": [],
   "source": [
    "s1 = 0\n",
    "for e in l1:\n",
    "  s1 = s1 + l2.count(e) * e"
   ]
  },
  {
   "cell_type": "code",
   "execution_count": null,
   "metadata": {
    "colab": {
     "base_uri": "https://localhost:8080/"
    },
    "executionInfo": {
     "elapsed": 512,
     "status": "ok",
     "timestamp": 1734194272526,
     "user": {
      "displayName": "Leonardo Brizi",
      "userId": "10572232546459158877"
     },
     "user_tz": -60
    },
    "id": "vqa_lZkfCAG_",
    "outputId": "cb7e39a5-5d7e-4aa8-deef-31a352394a51"
   },
   "outputs": [],
   "source": [
    "#output part 2\n",
    "s1"
   ]
  },
  {
   "cell_type": "code",
   "execution_count": null,
   "metadata": {
    "id": "RBeSxVq5CJKr"
   },
   "outputs": [],
   "source": []
  },
  {
   "cell_type": "markdown",
   "metadata": {
    "id": "KY1rd4aQWJqD"
   },
   "source": [
    "## Day 2"
   ]
  },
  {
   "cell_type": "markdown",
   "metadata": {
    "id": "r8sJ8JRVWVKx"
   },
   "source": [
    "Input file https://adventofcode.com/2024/day/2/input"
   ]
  },
  {
   "cell_type": "code",
   "execution_count": 1,
   "metadata": {
    "executionInfo": {
     "elapsed": 229,
     "status": "ok",
     "timestamp": 1734276576440,
     "user": {
      "displayName": "Leonardo Brizi",
      "userId": "10572232546459158877"
     },
     "user_tz": -60
    },
    "id": "jWq8j1YFWL_q"
   },
   "outputs": [],
   "source": [
    "with open('input.txt', 'r') as file:\n",
    "    file_content = file.read()"
   ]
  },
  {
   "cell_type": "code",
   "execution_count": 2,
   "metadata": {
    "executionInfo": {
     "elapsed": 227,
     "status": "ok",
     "timestamp": 1734276577541,
     "user": {
      "displayName": "Leonardo Brizi",
      "userId": "10572232546459158877"
     },
     "user_tz": -60
    },
    "id": "duEf8C0fW7Yh"
   },
   "outputs": [],
   "source": [
    "#parse file\n",
    "levels = []\n",
    "\n",
    "for x in file_content[:-1].split(\"\\n\"):\n",
    "  levels.append([int(l) for l in x.split(\" \")])"
   ]
  },
  {
   "cell_type": "code",
   "execution_count": null,
   "metadata": {
    "id": "wRuknNeTXbNR"
   },
   "outputs": [],
   "source": [
    "levClassif = []\n",
    "\n",
    "#loop through all levels\n",
    "for l in levels:\n",
    "  i = 1\n",
    "  #initialize movement types\n",
    "\n",
    "  mov = ''\n",
    "  previousMov = ''\n",
    "\n",
    "  #loop through all elements of levels\n",
    "\n",
    "  while i < len(l):\n",
    "    d = l[i] - l[i-1]\n",
    "    if d > 0 and d <= 3:\n",
    "      mov = 'increse'\n",
    "    elif d < 0 and d >= -3:\n",
    "      mov = 'decrese'\n",
    "    else:\n",
    "      mov = 'err'\n",
    "\n",
    "\n",
    "    if i == len(l)-1 and mov == previousMov:\n",
    "      levClassif.append([l,'s'])\n",
    "      i = i + 1\n",
    "    elif previousMov == '' or mov == previousMov:\n",
    "      i = i + 1\n",
    "      previousMov = mov\n",
    "    else:\n",
    "      levClassif.append([l,'u'])\n",
    "      break\n"
   ]
  },
  {
   "cell_type": "code",
   "execution_count": null,
   "metadata": {
    "colab": {
     "base_uri": "https://localhost:8080/"
    },
    "executionInfo": {
     "elapsed": 212,
     "status": "ok",
     "timestamp": 1734254007740,
     "user": {
      "displayName": "Leonardo Brizi",
      "userId": "10572232546459158877"
     },
     "user_tz": -60
    },
    "id": "rMZOza3pYPF-",
    "outputId": "c837ada1-ae20-492e-8f77-c64a0c27f358"
   },
   "outputs": [],
   "source": [
    "#output part 1\n",
    "len([l for l in levClassif if l[1] == 's'])"
   ]
  },
  {
   "cell_type": "code",
   "execution_count": 3,
   "metadata": {
    "executionInfo": {
     "elapsed": 234,
     "status": "ok",
     "timestamp": 1734276580984,
     "user": {
      "displayName": "Leonardo Brizi",
      "userId": "10572232546459158877"
     },
     "user_tz": -60
    },
    "id": "14TZJ0IE4QZm"
   },
   "outputs": [],
   "source": [
    "import copy"
   ]
  },
  {
   "cell_type": "code",
   "execution_count": 4,
   "metadata": {
    "executionInfo": {
     "elapsed": 2,
     "status": "ok",
     "timestamp": 1734276582098,
     "user": {
      "displayName": "Leonardo Brizi",
      "userId": "10572232546459158877"
     },
     "user_tz": -60
    },
    "id": "Nf_v43xNCGKn"
   },
   "outputs": [],
   "source": [
    "#create a new list with number of incorrect levels set to 0 and reference [level,bad count,parent, id]\n",
    "k = 0\n",
    "levelsWithTolerance = []\n",
    "while k < len(levels):\n",
    "  levelsWithTolerance.append([levels[k],0,0,k+1])\n",
    "  k = k + 1"
   ]
  },
  {
   "cell_type": "code",
   "execution_count": 8,
   "metadata": {
    "executionInfo": {
     "elapsed": 217,
     "status": "ok",
     "timestamp": 1734276735532,
     "user": {
      "displayName": "Leonardo Brizi",
      "userId": "10572232546459158877"
     },
     "user_tz": -60
    },
    "id": "NwC6kr-d6C4j"
   },
   "outputs": [],
   "source": [
    "levClassif = []\n",
    "j = 0\n",
    "tolerance = 1\n",
    "\n",
    "#loop through all levels\n",
    "while j < len(levelsWithTolerance):\n",
    "\n",
    "  l = copy.deepcopy(levelsWithTolerance[j][0])\n",
    "  i = 1\n",
    "  #initialize movement types\n",
    "\n",
    "  mov = ''\n",
    "  previousMov = ''\n",
    "  bad = levelsWithTolerance[j][1]\n",
    "  parent = levelsWithTolerance[j][2]\n",
    "  id = levelsWithTolerance[j][3]\n",
    "  exit = 0\n",
    "\n",
    "  #loop through all elements of levels\n",
    "\n",
    "  while i < len(l) and exit == 0:\n",
    "    d = l[i] - l[i-1]\n",
    "    if d > 0 and d <= 3:\n",
    "      mov = 'increse'\n",
    "    elif d < 0 and d >= -3:\n",
    "      mov = 'decrese'\n",
    "    else:\n",
    "      mov = 'err'\n",
    "\n",
    "    #print(j,i,l,mov,d,bad)\n",
    "\n",
    "    if mov != 'err' and (previousMov == '' or mov == previousMov):\n",
    "      if i == len(l)-1:\n",
    "        levClassif.append([[l,bad,parent,id],'s'])\n",
    "      if i == 1 and parent== 0:\n",
    "        opt1 = copy.deepcopy(l)\n",
    "        opt1.pop(i-1)\n",
    "        levelsWithTolerance.append([opt1,bad+1,id,0])\n",
    "      i = i + 1\n",
    "      previousMov = mov\n",
    "    elif (mov == 'err' or mov != previousMov) and bad <= tolerance:\n",
    "      opt1 = copy.deepcopy(l)\n",
    "      opt2 = copy.deepcopy(l)\n",
    "      opt1.pop(i)\n",
    "      opt2.pop(i-1)\n",
    "      if bad+1 <= tolerance:\n",
    "        levelsWithTolerance.append([opt1,bad+1,id,0])\n",
    "        levelsWithTolerance.append([opt2,bad+1,id,0])\n",
    "      levClassif.append([[l,bad,parent,id],'u'])\n",
    "      exit = 1\n",
    "    else:\n",
    "      levClassif.append([[l,bad,parent,id],'u'])\n",
    "      exit = 1\n",
    "\n",
    "  j = j + 1"
   ]
  },
  {
   "cell_type": "code",
   "execution_count": 9,
   "metadata": {
    "executionInfo": {
     "elapsed": 233,
     "status": "ok",
     "timestamp": 1734276737365,
     "user": {
      "displayName": "Leonardo Brizi",
      "userId": "10572232546459158877"
     },
     "user_tz": -60
    },
    "id": "nnr7t7HN7AmH"
   },
   "outputs": [],
   "source": [
    "out = []\n",
    "for l in levClassif:\n",
    "  if l[1] == 's':\n",
    "    if l[0][3] != 0:\n",
    "      out.append(l[0][3])\n",
    "    elif l[0][2] != 0:\n",
    "      out.append(l[0][2])\n",
    "\n"
   ]
  },
  {
   "cell_type": "code",
   "execution_count": null,
   "metadata": {
    "colab": {
     "base_uri": "https://localhost:8080/"
    },
    "executionInfo": {
     "elapsed": 251,
     "status": "ok",
     "timestamp": 1734276738762,
     "user": {
      "displayName": "Leonardo Brizi",
      "userId": "10572232546459158877"
     },
     "user_tz": -60
    },
    "id": "o7_AJMeXQOTC",
    "outputId": "40a0e657-11a6-4597-e59e-2c0f6e9445a7"
   },
   "outputs": [],
   "source": [
    "#output second part\n",
    "len(set(out))"
   ]
  },
  {
   "cell_type": "markdown",
   "metadata": {
    "id": "johcRr1m_Ptv"
   },
   "source": [
    "## Day 3"
   ]
  },
  {
   "cell_type": "markdown",
   "metadata": {
    "id": "gGvnbyC_AkxR"
   },
   "source": [
    "Input file https://adventofcode.com/2024/day/3/input"
   ]
  },
  {
   "cell_type": "code",
   "execution_count": 11,
   "metadata": {
    "executionInfo": {
     "elapsed": 516,
     "status": "ok",
     "timestamp": 1734286588438,
     "user": {
      "displayName": "Leonardo Brizi",
      "userId": "10572232546459158877"
     },
     "user_tz": -60
    },
    "id": "t51sLro7_RsH"
   },
   "outputs": [],
   "source": [
    "with open('input.txt', 'r') as file:\n",
    "    file_content = file.read()"
   ]
  },
  {
   "cell_type": "code",
   "execution_count": null,
   "metadata": {
    "colab": {
     "base_uri": "https://localhost:8080/",
     "height": 35
    },
    "executionInfo": {
     "elapsed": 10,
     "status": "ok",
     "timestamp": 1734286590255,
     "user": {
      "displayName": "Leonardo Brizi",
      "userId": "10572232546459158877"
     },
     "user_tz": -60
    },
    "id": "hLjC2josAqy7",
    "outputId": "de9676aa-eacd-456f-e965-bf1c2d20f9d7"
   },
   "outputs": [],
   "source": [
    "file_content"
   ]
  },
  {
   "cell_type": "code",
   "execution_count": 3,
   "metadata": {
    "executionInfo": {
     "elapsed": 221,
     "status": "ok",
     "timestamp": 1734285418548,
     "user": {
      "displayName": "Leonardo Brizi",
      "userId": "10572232546459158877"
     },
     "user_tz": -60
    },
    "id": "WvzV70ZOAwkV"
   },
   "outputs": [],
   "source": [
    "import re\n",
    "import copy"
   ]
  },
  {
   "cell_type": "code",
   "execution_count": null,
   "metadata": {
    "colab": {
     "base_uri": "https://localhost:8080/"
    },
    "executionInfo": {
     "elapsed": 235,
     "status": "ok",
     "timestamp": 1734285443901,
     "user": {
      "displayName": "Leonardo Brizi",
      "userId": "10572232546459158877"
     },
     "user_tz": -60
    },
    "id": "sFjM0D6ICENd",
    "outputId": "714ccda3-3a51-4ac2-a24b-747b9ac093d8"
   },
   "outputs": [],
   "source": [
    "#text = \"mul(123, 456) and mul(78,90).\"\n",
    "pattern = r\"mul\\((\\d{1,3}),(\\d{1,3})\\)\"\n",
    "matches = re.findall(pattern, file_content)\n",
    "\n",
    "print(matches)"
   ]
  },
  {
   "cell_type": "code",
   "execution_count": 5,
   "metadata": {
    "executionInfo": {
     "elapsed": 2,
     "status": "ok",
     "timestamp": 1734285444739,
     "user": {
      "displayName": "Leonardo Brizi",
      "userId": "10572232546459158877"
     },
     "user_tz": -60
    },
    "id": "OCrRSaexHPrj"
   },
   "outputs": [],
   "source": [
    "s = 0\n",
    "for m in matches:\n",
    "  s = s + int(m[0])*int(m[1])"
   ]
  },
  {
   "cell_type": "code",
   "execution_count": null,
   "metadata": {
    "colab": {
     "base_uri": "https://localhost:8080/"
    },
    "executionInfo": {
     "elapsed": 212,
     "status": "ok",
     "timestamp": 1734285445943,
     "user": {
      "displayName": "Leonardo Brizi",
      "userId": "10572232546459158877"
     },
     "user_tz": -60
    },
    "id": "NQqwk3yqH0oZ",
    "outputId": "d7afd0f3-4d98-4550-fefc-38857ca8860d"
   },
   "outputs": [],
   "source": [
    "#output part one\n",
    "s"
   ]
  },
  {
   "cell_type": "code",
   "execution_count": 11,
   "metadata": {
    "executionInfo": {
     "elapsed": 236,
     "status": "ok",
     "timestamp": 1734285311113,
     "user": {
      "displayName": "Leonardo Brizi",
      "userId": "10572232546459158877"
     },
     "user_tz": -60
    },
    "id": "ByMY-nQNLqnU"
   },
   "outputs": [],
   "source": [
    "file_content = \"xmul(2,4)&mul[3,7]!^don't()_mul(5,5)+mul(32,64](mul(11,8)undo()?mul(8,5)\""
   ]
  },
  {
   "cell_type": "code",
   "execution_count": 2,
   "metadata": {
    "executionInfo": {
     "elapsed": 2,
     "status": "ok",
     "timestamp": 1734284569917,
     "user": {
      "displayName": "Leonardo Brizi",
      "userId": "10572232546459158877"
     },
     "user_tz": -60
    },
    "id": "T0r-PnEvYB19"
   },
   "outputs": [],
   "source": [
    "file_content = \"xmul(2,4)&mul[3,7]!^don't()_mul(5,5)do()+mul(32,64](mul(11,8)undo()?mul(8,5)\""
   ]
  },
  {
   "cell_type": "code",
   "execution_count": 7,
   "metadata": {
    "executionInfo": {
     "elapsed": 222,
     "status": "ok",
     "timestamp": 1734285461880,
     "user": {
      "displayName": "Leonardo Brizi",
      "userId": "10572232546459158877"
     },
     "user_tz": -60
    },
    "id": "XmgqEpbCUeAP"
   },
   "outputs": [],
   "source": [
    "memory = file_content\n",
    "current = memory\n",
    "doSet = 1\n",
    "dontSet = 0\n",
    "pMUL = r\"mul\\((\\d{1,3}),(\\d{1,3})\\)\"\n",
    "pDONT = r\"don\\'t\\(\\)\"\n",
    "pDO = r\"do\\(\\)\"\n",
    "\n",
    "allMatches = []\n",
    "\n",
    "\n",
    "while len(current)>0:\n",
    "  if doSet == 1:\n",
    "    mDONT = re.search(pDONT, current + \"don't()\")\n",
    "    start = mDONT.start()\n",
    "    end = mDONT.end()\n",
    "    current = memory[:start]\n",
    "    memory = memory[end:]\n",
    "\n",
    "    mMUL = re.findall(pMUL, current)\n",
    "    for m in mMUL:\n",
    "       allMatches.append(m)\n",
    "    dontSet = 1\n",
    "    doSet = 0\n",
    "    current = memory\n",
    "\n",
    "  elif dontSet == 1:\n",
    "    mDO = re.search(pDO, current + \"do()\" )\n",
    "    start = mDO.start()\n",
    "    end = mDO.end()\n",
    "    memory = memory[end:]\n",
    "    doSet = 1\n",
    "    dontSet = 0\n",
    "    current = memory\n",
    "\n",
    "\n"
   ]
  },
  {
   "cell_type": "code",
   "execution_count": null,
   "metadata": {
    "id": "GYvUCSkSU8IT"
   },
   "outputs": [],
   "source": [
    "allMatches"
   ]
  },
  {
   "cell_type": "code",
   "execution_count": 9,
   "metadata": {
    "executionInfo": {
     "elapsed": 341,
     "status": "ok",
     "timestamp": 1734285472134,
     "user": {
      "displayName": "Leonardo Brizi",
      "userId": "10572232546459158877"
     },
     "user_tz": -60
    },
    "id": "RtCitJpdUvg4"
   },
   "outputs": [],
   "source": [
    "s = 0\n",
    "for m in allMatches:\n",
    "  s = s + int(m[0])*int(m[1])"
   ]
  },
  {
   "cell_type": "code",
   "execution_count": null,
   "metadata": {
    "colab": {
     "base_uri": "https://localhost:8080/"
    },
    "executionInfo": {
     "elapsed": 228,
     "status": "ok",
     "timestamp": 1734285473369,
     "user": {
      "displayName": "Leonardo Brizi",
      "userId": "10572232546459158877"
     },
     "user_tz": -60
    },
    "id": "H78SVZrNdwsG",
    "outputId": "3f4b6c27-df3a-4c57-f990-6a6f135ffc4b"
   },
   "outputs": [],
   "source": [
    "#output part 2\n",
    "s"
   ]
  },
  {
   "cell_type": "markdown",
   "metadata": {
    "id": "bcpp5ojhiIaU"
   },
   "source": [
    "## Day 4"
   ]
  },
  {
   "cell_type": "markdown",
   "metadata": {
    "id": "IhTDpi8TiZOD"
   },
   "source": [
    "Input file https://adventofcode.com/2024/day/4/input"
   ]
  },
  {
   "cell_type": "code",
   "execution_count": 76,
   "metadata": {
    "executionInfo": {
     "elapsed": 246,
     "status": "ok",
     "timestamp": 1734292176952,
     "user": {
      "displayName": "Leonardo Brizi",
      "userId": "10572232546459158877"
     },
     "user_tz": -60
    },
    "id": "F5E3Xhy9iIIL"
   },
   "outputs": [],
   "source": [
    "with open('input.txt', 'r') as file:\n",
    "    file_content = file.read()"
   ]
  },
  {
   "cell_type": "code",
   "execution_count": 77,
   "metadata": {
    "executionInfo": {
     "elapsed": 373,
     "status": "ok",
     "timestamp": 1734292179117,
     "user": {
      "displayName": "Leonardo Brizi",
      "userId": "10572232546459158877"
     },
     "user_tz": -60
    },
    "id": "rGnDnsf9igZG"
   },
   "outputs": [],
   "source": [
    "#parse file\n",
    "matrix = []\n",
    "for x in file_content[:-1].split(\"\\n\"):\n",
    "  matrix.append([c for c in x])"
   ]
  },
  {
   "cell_type": "code",
   "execution_count": 58,
   "metadata": {
    "executionInfo": {
     "elapsed": 240,
     "status": "ok",
     "timestamp": 1734289071255,
     "user": {
      "displayName": "Leonardo Brizi",
      "userId": "10572232546459158877"
     },
     "user_tz": -60
    },
    "id": "4WJ0rniBlh_k"
   },
   "outputs": [],
   "source": [
    "scan = []\n",
    "\n",
    "for i in range(len(matrix)):\n",
    "  for j in range(len(matrix)):\n",
    "\n",
    "    N,S,E,W,NE,SE,SW,NW = '','','','','','','',''\n",
    "\n",
    "    if i-3 >= 0:\n",
    "      N = matrix[i][j] + matrix[i-1][j] + matrix[i-2][j] + matrix[i-3][j]\n",
    "    if i+3 < len(matrix):\n",
    "      S = matrix[i][j] + matrix[i+1][j] + matrix[i+2][j] + matrix[i+3][j]\n",
    "    if j+3 < len(matrix):\n",
    "      E = matrix[i][j] + matrix[i][j+1] + matrix[i][j+2] + matrix[i][j+3]\n",
    "    if j-3 >= 0:\n",
    "      W = matrix[i][j] + matrix[i][j-1] + matrix[i][j-2] + matrix[i][j-3]\n",
    "    if j+3 < len(matrix) and i-3 >= 0:\n",
    "      NE = matrix[i][j] + matrix[i-1][j+1] + matrix[i-2][j+2] + matrix[i-3][j+3]\n",
    "    if j+3 < len(matrix) and i+3 < len(matrix):\n",
    "      SE = matrix[i][j] + matrix[i+1][j+1] + matrix[i+2][j+2] + matrix[i+3][j+3]\n",
    "    if j-3 >= 0 and i+3 < len(matrix):\n",
    "      SW = matrix[i][j] + matrix[i+1][j-1] + matrix[i+2][j-2] + matrix[i+3][j-3]\n",
    "    if j-3 >= 0 and i-3 >= 0:\n",
    "      NW = matrix[i][j] + matrix[i-1][j-1] + matrix[i-2][j-2] + matrix[i-3][j-3]\n",
    "\n",
    "    for word in [N,S,E,W,NE,SE,SW,NW]:\n",
    "      if word == 'XMAS':\n",
    "        scan.append([word,i,j])"
   ]
  },
  {
   "cell_type": "code",
   "execution_count": null,
   "metadata": {
    "colab": {
     "base_uri": "https://localhost:8080/"
    },
    "executionInfo": {
     "elapsed": 244,
     "status": "ok",
     "timestamp": 1734289075620,
     "user": {
      "displayName": "Leonardo Brizi",
      "userId": "10572232546459158877"
     },
     "user_tz": -60
    },
    "id": "IBRoWoeGk9SG",
    "outputId": "c2ed5e91-dc2c-43ec-8991-f9c9b66d93dc"
   },
   "outputs": [],
   "source": [
    "#output part 0ne\n",
    "len(scan)"
   ]
  },
  {
   "cell_type": "code",
   "execution_count": null,
   "metadata": {
    "colab": {
     "base_uri": "https://localhost:8080/"
    },
    "executionInfo": {
     "elapsed": 388,
     "status": "ok",
     "timestamp": 1734292109183,
     "user": {
      "displayName": "Leonardo Brizi",
      "userId": "10572232546459158877"
     },
     "user_tz": -60
    },
    "id": "tcwZwkiA3WuU",
    "outputId": "66509152-41e5-4c7e-a608-6c8db230178f"
   },
   "outputs": [],
   "source": [
    "matrix"
   ]
  },
  {
   "cell_type": "code",
   "execution_count": 78,
   "metadata": {
    "executionInfo": {
     "elapsed": 230,
     "status": "ok",
     "timestamp": 1734292186559,
     "user": {
      "displayName": "Leonardo Brizi",
      "userId": "10572232546459158877"
     },
     "user_tz": -60
    },
    "id": "avdHDlPSlbXI"
   },
   "outputs": [],
   "source": [
    "scan = []\n",
    "\n",
    "for i in range(len(matrix)):\n",
    "  for j in range(len(matrix)):\n",
    "\n",
    "    SWNE,SENW = '',''\n",
    "\n",
    "    if j+1 < len(matrix) and i-1 >= 0 and j-1 >= 0 and i+1 < len(matrix):\n",
    "      SWNE =  matrix[i+1][j-1] + matrix[i][j] + matrix[i-1][j+1]\n",
    "    if j-1 >= 0 and i-1 >= 0 and j+1 < len(matrix) and i+1 < len(matrix):\n",
    "      SENW = matrix[i+1][j+1] + matrix[i][j] + matrix[i-1][j-1]\n",
    "\n",
    "    if (SWNE[::-1] == 'MAS' or SWNE == 'MAS') and (SENW[::-1] == 'MAS' or SENW == 'MAS'):\n",
    "      scan.append([matrix[i][j] ,i,j])"
   ]
  },
  {
   "cell_type": "code",
   "execution_count": null,
   "metadata": {
    "colab": {
     "base_uri": "https://localhost:8080/"
    },
    "executionInfo": {
     "elapsed": 236,
     "status": "ok",
     "timestamp": 1734292188145,
     "user": {
      "displayName": "Leonardo Brizi",
      "userId": "10572232546459158877"
     },
     "user_tz": -60
    },
    "id": "xj5gXtpE2Tv_",
    "outputId": "cfe68326-b945-4fe9-f200-590ff4860353"
   },
   "outputs": [],
   "source": [
    "#output part 2\n",
    "len(scan)"
   ]
  },
  {
   "cell_type": "markdown",
   "metadata": {
    "id": "E9n4lNQv7JJ9"
   },
   "source": [
    "## Day 5"
   ]
  },
  {
   "cell_type": "markdown",
   "metadata": {
    "id": "yznWIdQI7PQg"
   },
   "source": [
    "Input file https://adventofcode.com/2024/day/5/input"
   ]
  },
  {
   "cell_type": "code",
   "execution_count": 64,
   "metadata": {
    "executionInfo": {
     "elapsed": 220,
     "status": "ok",
     "timestamp": 1734296381271,
     "user": {
      "displayName": "Leonardo Brizi",
      "userId": "10572232546459158877"
     },
     "user_tz": -60
    },
    "id": "bESlj9fWDAZY"
   },
   "outputs": [],
   "source": [
    "import math"
   ]
  },
  {
   "cell_type": "code",
   "execution_count": 65,
   "metadata": {
    "executionInfo": {
     "elapsed": 240,
     "status": "ok",
     "timestamp": 1734296383930,
     "user": {
      "displayName": "Leonardo Brizi",
      "userId": "10572232546459158877"
     },
     "user_tz": -60
    },
    "id": "jNJg6f9e7IXl"
   },
   "outputs": [],
   "source": [
    "with open('t.txt', 'r') as file:\n",
    "    file_content = file.read()"
   ]
  },
  {
   "cell_type": "code",
   "execution_count": 66,
   "metadata": {
    "executionInfo": {
     "elapsed": 237,
     "status": "ok",
     "timestamp": 1734296385804,
     "user": {
      "displayName": "Leonardo Brizi",
      "userId": "10572232546459158877"
     },
     "user_tz": -60
    },
    "id": "ElXWCTg37TR_"
   },
   "outputs": [],
   "source": [
    "#parse file\n",
    "rules = []\n",
    "produce = []\n",
    "for x in file_content[:-1].split(\"\\n\"):\n",
    "  if '|' in x:\n",
    "    rules.append(x.split('|'))\n",
    "  if ',' in x:\n",
    "    produce.append(x.split(','))"
   ]
  },
  {
   "cell_type": "code",
   "execution_count": null,
   "metadata": {
    "colab": {
     "base_uri": "https://localhost:8080/"
    },
    "executionInfo": {
     "elapsed": 241,
     "status": "ok",
     "timestamp": 1734296389563,
     "user": {
      "displayName": "Leonardo Brizi",
      "userId": "10572232546459158877"
     },
     "user_tz": -60
    },
    "id": "9g_t04mI_wH5",
    "outputId": "f04b9fb3-c2bb-40a7-c8db-02bdf86aa27d"
   },
   "outputs": [],
   "source": [
    "rules"
   ]
  },
  {
   "cell_type": "code",
   "execution_count": null,
   "metadata": {
    "id": "FB3d2ZaG7gDi"
   },
   "outputs": [],
   "source": [
    "produce"
   ]
  },
  {
   "cell_type": "code",
   "execution_count": 69,
   "metadata": {
    "executionInfo": {
     "elapsed": 253,
     "status": "ok",
     "timestamp": 1734296393010,
     "user": {
      "displayName": "Leonardo Brizi",
      "userId": "10572232546459158877"
     },
     "user_tz": -60
    },
    "id": "Lf_c5GPy7hiy"
   },
   "outputs": [],
   "source": [
    "violatedRules = []\n",
    "\n",
    "for p in produce:\n",
    "  for r in rules:\n",
    "    if r[0] in p and r[1] in p:\n",
    "      pos1 = p.index(r[0])\n",
    "      pos2 = p.index(r[1])\n",
    "      if pos2 < pos1:\n",
    "        violatedRules.append([p,r])\n"
   ]
  },
  {
   "cell_type": "code",
   "execution_count": 70,
   "metadata": {
    "executionInfo": {
     "elapsed": 4,
     "status": "ok",
     "timestamp": 1734296394407,
     "user": {
      "displayName": "Leonardo Brizi",
      "userId": "10572232546459158877"
     },
     "user_tz": -60
    },
    "id": "XZlDZGDjFynp"
   },
   "outputs": [],
   "source": [
    "goodOrder = [p for p in produce if p not in [v[0] for v in violatedRules]]"
   ]
  },
  {
   "cell_type": "code",
   "execution_count": 71,
   "metadata": {
    "executionInfo": {
     "elapsed": 3,
     "status": "ok",
     "timestamp": 1734296395330,
     "user": {
      "displayName": "Leonardo Brizi",
      "userId": "10572232546459158877"
     },
     "user_tz": -60
    },
    "id": "RjSgrdT_DNfe"
   },
   "outputs": [],
   "source": [
    "centrals = [int(t[math.ceil(len(t)/2-1)]) for t in  goodOrder]"
   ]
  },
  {
   "cell_type": "code",
   "execution_count": null,
   "metadata": {
    "colab": {
     "base_uri": "https://localhost:8080/"
    },
    "executionInfo": {
     "elapsed": 6,
     "status": "ok",
     "timestamp": 1734296396493,
     "user": {
      "displayName": "Leonardo Brizi",
      "userId": "10572232546459158877"
     },
     "user_tz": -60
    },
    "id": "lQWGj--J-m2N",
    "outputId": "2e209e78-0fa7-4354-e5c2-e964d668e6c8"
   },
   "outputs": [],
   "source": [
    "#outcome part one\n",
    "sum(centrals)"
   ]
  },
  {
   "cell_type": "code",
   "execution_count": null,
   "metadata": {
    "colab": {
     "base_uri": "https://localhost:8080/"
    },
    "executionInfo": {
     "elapsed": 231,
     "status": "ok",
     "timestamp": 1734296399928,
     "user": {
      "displayName": "Leonardo Brizi",
      "userId": "10572232546459158877"
     },
     "user_tz": -60
    },
    "id": "1MTxs5UsFDBb",
    "outputId": "92b2f7fc-6060-4117-ce99-831dcaf11708"
   },
   "outputs": [],
   "source": [
    "violatedRules"
   ]
  },
  {
   "cell_type": "code",
   "execution_count": null,
   "metadata": {
    "id": "3D7L-hWsHoBd"
   },
   "outputs": [],
   "source": []
  },
  {
   "cell_type": "markdown",
   "metadata": {},
   "source": [
    "## Day 24"
   ]
  },
  {
   "cell_type": "markdown",
   "metadata": {},
   "source": [
    "Input file https://adventofcode.com/2024/day/24/input"
   ]
  },
  {
   "cell_type": "code",
   "execution_count": 1,
   "metadata": {},
   "outputs": [],
   "source": [
    "with open('input.txt', 'r') as file:\n",
    "    file_content = file.read()"
   ]
  },
  {
   "cell_type": "code",
   "execution_count": null,
   "metadata": {},
   "outputs": [],
   "source": [
    "import re\n",
    "input_dicts = {}\n",
    "gate_dicts = []\n",
    "\n",
    "# Split the file content into lines\n",
    "lines = file_content.strip().split('\\n')\n",
    "\n",
    "# Process each line\n",
    "for line in lines:\n",
    "    if ':' in line:\n",
    "        key, value = line.split(': ')\n",
    "        input_dicts[key] = value\n",
    "    elif '->' in line:\n",
    "        parts = re.split(r'(\\sXOR\\s|\\sOR\\s|\\sAND\\s)', line)\n",
    "        in1, op, in2 = parts[0].strip(), parts[1].strip(), parts[2].split(' -> ')[0].strip()\n",
    "        out = parts[2].split(' -> ')[1].strip()\n",
    "        gate_dicts.append({'in1': in1, 'in2': in2, 'op': op, 'out': out})\n",
    "\n",
    "print(input_dicts)\n",
    "print(gate_dicts)"
   ]
  },
  {
   "cell_type": "code",
   "execution_count": 3,
   "metadata": {},
   "outputs": [],
   "source": [
    "\n",
    "def activation_update():\n",
    "    for g in gate_dicts:\n",
    "        if g['in1'] in input_dicts.keys() and g['in2'] in input_dicts.keys():\n",
    "            g['activation'] = 2\n",
    "        elif g['in1'] in input_dicts.keys():\n",
    "            g['activation'] = 1\n",
    "        elif g['in2'] in input_dicts.keys():\n",
    "            g['activation'] = 1\n",
    "        else:\n",
    "            g['activation'] = 0"
   ]
  },
  {
   "cell_type": "code",
   "execution_count": 4,
   "metadata": {},
   "outputs": [],
   "source": [
    "def gate_operation(in1, in2, op):\n",
    "    if op == 'AND':\n",
    "        return in1 & in2\n",
    "    elif op == 'OR':\n",
    "        return in1 | in2\n",
    "    elif op == 'XOR':\n",
    "        return in1 ^ in2\n",
    "    else:\n",
    "        return None"
   ]
  },
  {
   "cell_type": "code",
   "execution_count": 5,
   "metadata": {},
   "outputs": [],
   "source": [
    "#initialise the activation\n",
    "activation_update()"
   ]
  },
  {
   "cell_type": "code",
   "execution_count": 6,
   "metadata": {},
   "outputs": [],
   "source": [
    "while len([x for x in gate_dicts if x['activation'] < 2]) > 0:\n",
    "    for g in gate_dicts:\n",
    "        if g['activation'] == 2:\n",
    "            input_dicts[g['out']] = gate_operation(int(input_dicts[g['in1']]), int(input_dicts[g['in2']]), g['op'])\n",
    "    \n",
    "    activation_update()\n",
    "            "
   ]
  },
  {
   "cell_type": "code",
   "execution_count": 7,
   "metadata": {},
   "outputs": [],
   "source": [
    "\n",
    "\"\"\"\n",
    "Processes a list of gate operations and returns the results for gates with 'z' in their output.\n",
    "\n",
    "This function performs the following steps:\n",
    "1. Sorts the gate dictionaries in descending order based on the 'out' key.\n",
    "2. Filters the gates to include only those with 'z' in their 'out' key.\n",
    "3. Applies the gate operation to the inputs specified in the gate dictionary.\n",
    "\n",
    "Args:\n",
    "    input_dicts (dict): A dictionary where keys are input names and values are their corresponding integer values.\n",
    "    gate_dicts (list): A list of dictionaries, each representing a gate operation with keys 'in1', 'in2', 'op', and 'out'.\n",
    "\n",
    "Returns:\n",
    "    list: A list of results from the gate operations.\n",
    "\"\"\"\n",
    "out = [ gate_operation(int(input_dicts[g['in1']]), int(input_dicts[g['in2']]), g['op']) for g in sorted(gate_dicts, key=lambda x: x['out'], reverse=True) if 'z' in g['out'] ]\n"
   ]
  },
  {
   "cell_type": "code",
   "execution_count": 8,
   "metadata": {},
   "outputs": [],
   "source": [
    "out_converted = 0\n",
    "for i in range(len(out)):\n",
    "    out_converted += out[i] * (2 ** (len(out) - 1 - i))"
   ]
  },
  {
   "cell_type": "code",
   "execution_count": null,
   "metadata": {},
   "outputs": [],
   "source": [
    "#output part one\n",
    "out_converted"
   ]
  },
  {
   "cell_type": "code",
   "execution_count": null,
   "metadata": {},
   "outputs": [],
   "source": []
  },
  {
   "cell_type": "markdown",
   "metadata": {},
   "source": [
    "## Day 23"
   ]
  },
  {
   "cell_type": "markdown",
   "metadata": {},
   "source": [
    "Input file https://adventofcode.com/2024/day/23/input"
   ]
  },
  {
   "cell_type": "code",
   "execution_count": 1,
   "metadata": {},
   "outputs": [],
   "source": [
    "with open('input.txt', 'r') as file:\n",
    "    file_content = file.read()"
   ]
  },
  {
   "cell_type": "code",
   "execution_count": null,
   "metadata": {},
   "outputs": [],
   "source": [
    "file_content"
   ]
  },
  {
   "cell_type": "code",
   "execution_count": 3,
   "metadata": {},
   "outputs": [],
   "source": [
    "import networkx as nx"
   ]
  },
  {
   "cell_type": "code",
   "execution_count": 4,
   "metadata": {},
   "outputs": [],
   "source": [
    "G = nx.Graph()"
   ]
  },
  {
   "cell_type": "code",
   "execution_count": 5,
   "metadata": {},
   "outputs": [],
   "source": [
    "\n",
    "for row in file_content.split(\"\\n\")[:-1]:\n",
    "    n1, n2 = row.split(\"-\")\n",
    "    G.add_edge(n1, n2)\n",
    "  "
   ]
  },
  {
   "cell_type": "code",
   "execution_count": 6,
   "metadata": {},
   "outputs": [],
   "source": [
    "\n",
    "\"\"\"\n",
    "This cell finds all cliques of size 3 in the graph G where at least one node starts with the letter 't' and appends them to the list partOneOut.\n",
    "\n",
    "Variables:\n",
    "    partOneOut (list): A list to store the cliques that meet the criteria.\n",
    "    c (list): A clique in the graph G.\n",
    "\n",
    "Conditions:\n",
    "    - The clique must have exactly 3 nodes.\n",
    "    - At least one node in the clique must start with the letter 't'.\n",
    "\"\"\"\n",
    "partOneOut = []\n",
    "for c in list(nx.enumerate_all_cliques(G)):\n",
    "    if len(c) == 3 and [e for e in c if e[0] == 't']:\n",
    "        partOneOut.append(c)"
   ]
  },
  {
   "cell_type": "code",
   "execution_count": null,
   "metadata": {},
   "outputs": [],
   "source": [
    "#output part one\n",
    "len(partOneOut)"
   ]
  },
  {
   "cell_type": "code",
   "execution_count": 9,
   "metadata": {},
   "outputs": [],
   "source": [
    "max_clique = []\n",
    "for c in list(nx.enumerate_all_cliques(G)):\n",
    "    if len(max_clique) < len(c):\n",
    "        max_clique = c"
   ]
  },
  {
   "cell_type": "code",
   "execution_count": 10,
   "metadata": {},
   "outputs": [],
   "source": [
    "password = ','.join(sorted(max_clique))"
   ]
  },
  {
   "cell_type": "code",
   "execution_count": null,
   "metadata": {},
   "outputs": [],
   "source": [
    "password"
   ]
  },
  {
   "cell_type": "markdown",
   "metadata": {},
   "source": [
    "## Day 22"
   ]
  },
  {
   "cell_type": "code",
   "execution_count": 1,
   "metadata": {},
   "outputs": [],
   "source": [
    "import math\n",
    "\n",
    "with open('input.txt', 'r') as file:\n",
    "    file_content = file.read()"
   ]
  },
  {
   "cell_type": "code",
   "execution_count": 2,
   "metadata": {},
   "outputs": [],
   "source": [
    "def mix(a:int,b:int):\n",
    "    return a ^ b\n",
    "def prune(a:int):\n",
    "    a = a % 16777216\n",
    "    return a"
   ]
  },
  {
   "cell_type": "code",
   "execution_count": 3,
   "metadata": {},
   "outputs": [],
   "source": [
    "def nextSecretNumber(secretIn:int):\n",
    "    secret1 = prune(mix(secretIn, secretIn*64))\n",
    "    secret2 = prune(mix(secret1,math.floor(secret1/32)))\n",
    "    secret3 = prune(mix(secret2,secret2*2048))\n",
    "    return secret3"
   ]
  },
  {
   "cell_type": "code",
   "execution_count": 4,
   "metadata": {},
   "outputs": [],
   "source": [
    "out = []\n",
    "for f in file_content.split(\"\\n\")[:-1]:\n",
    "    counter = 2000\n",
    "    secretNumber = int(f)\n",
    "    while counter > 0:\n",
    "        secretNumber = nextSecretNumber(secretNumber)\n",
    "        counter = counter - 1\n",
    "    \n",
    "    out.append([int(f),secretNumber])"
   ]
  },
  {
   "cell_type": "code",
   "execution_count": null,
   "metadata": {},
   "outputs": [],
   "source": [
    "#output part one\n",
    "sum([o[1] for o in out])"
   ]
  },
  {
   "cell_type": "code",
   "execution_count": 6,
   "metadata": {},
   "outputs": [],
   "source": [
    "\n",
    "\"\"\"\n",
    "This cell processes a list of secret numbers from the file content, generates a sequence of prices for each secret number, \n",
    "and stores the results in the `prices` list.\n",
    "Steps:\n",
    "1. Initialize an empty list `prices` to store the results.\n",
    "2. Iterate over each line in `file_content` (excluding the last empty line).\n",
    "3. For each line, initialize a counter to 2000 and an empty list `price`.\n",
    "4. Convert the line to an integer `secretNumber` and append the last digit of the secret number, None, and the secret number itself to `price`.\n",
    "5. Set `lagPrice` to the last digit of the secret number.\n",
    "6. While the counter is greater than 0:\n",
    "    a. Generate the next secret number using `nextSecretNumber(secretNumber)`.\n",
    "    b. Extract the last digit of the new secret number as `priceElement`.\n",
    "    c. Append `priceElement`, the difference between `priceElement` and `lagPrice`, and the new secret number to `price`.\n",
    "    d. Decrement the counter by 1.\n",
    "    e. Update `lagPrice` to `priceElement`.\n",
    "7. Append the original secret number and its corresponding `price` list to `prices`.\n",
    "\"\"\"\n",
    "\n",
    "prices = []\n",
    "for f in file_content.split(\"\\n\")[:-1]:\n",
    "    counter = 2000\n",
    "    price = []\n",
    "    secretNumber = int(f)\n",
    "    price.append([int(f[-1]),None,secretNumber])\n",
    "    lagPrice = price[0][0]\n",
    "    while counter > 0:\n",
    "        secretNumber = nextSecretNumber(secretNumber)\n",
    "        priceElement = int(str(secretNumber)[-1])\n",
    "        price.append([priceElement,priceElement-lagPrice,secretNumber])\n",
    "        counter = counter - 1\n",
    "        lagPrice = priceElement\n",
    "    \n",
    "    prices.append([int(f),price])"
   ]
  },
  {
   "cell_type": "code",
   "execution_count": 7,
   "metadata": {},
   "outputs": [],
   "source": [
    "collect = {}\n",
    "for p in prices:\n",
    "    keysBase = []\n",
    "    for i in range(5,len(p[1])):\n",
    "        key = ','.join([str(k[1]) for k in p[1][i-4:i]])\n",
    "        value = p[1][i-1][0]\n",
    "        #print(key,value)\n",
    "        if key not in keysBase:\n",
    "            if key in collect.keys():\n",
    "                collect[key].append(value)\n",
    "            else:\n",
    "                collect[key] = [value]\n",
    "                \n",
    "            keysBase.append(key)\n",
    "            "
   ]
  },
  {
   "cell_type": "code",
   "execution_count": null,
   "metadata": {},
   "outputs": [],
   "source": [
    "#output part two\n",
    "\"\"\"\n",
    "This cell finds the key in the 'collect' dictionary that has the highest sum of its values.\n",
    "\n",
    "Variables:\n",
    "    s (int): Stores the maximum sum found so far.\n",
    "    keyMax (str): Stores the key corresponding to the maximum sum.\n",
    "    k (str): Key from the 'collect' dictionary.\n",
    "    v (list): List of values corresponding to the key 'k' in the 'collect' dictionary.\n",
    "\n",
    "The code iterates through each key-value pair in the 'collect' dictionary, calculates the sum of the values,\n",
    "and updates 's' and 'keyMax' if the current sum is greater than the previously recorded maximum sum.\n",
    "Finally, it prints the maximum sum and the corresponding key.\n",
    "\"\"\"\n",
    "\n",
    "s = 0\n",
    "keyMax = ''\n",
    "for k,v in collect.items():\n",
    "    if sum(v) > s:\n",
    "        s = sum(v)\n",
    "        keyMax = k\n",
    "print(s,keyMax)\n"
   ]
  },
  {
   "cell_type": "markdown",
   "metadata": {},
   "source": [
    "## Day 20"
   ]
  },
  {
   "cell_type": "code",
   "execution_count": 1,
   "metadata": {},
   "outputs": [],
   "source": [
    "from collections import Counter\n",
    "import copy\n",
    "import pandas as pd"
   ]
  },
  {
   "cell_type": "code",
   "execution_count": 2,
   "metadata": {},
   "outputs": [],
   "source": [
    "with open('input.txt', 'r') as file:\n",
    "    file_content = file.read()"
   ]
  },
  {
   "cell_type": "code",
   "execution_count": 3,
   "metadata": {},
   "outputs": [],
   "source": [
    "\"\"\"\n",
    "This cell processes the content of a racetrack from a given file content.\n",
    "\n",
    "1. Initializes an empty list `racetrack`.\n",
    "2. Splits the `file_content` by newline characters and iterates through each line (excluding the last empty line).\n",
    "3. Appends each character of the line as a list to the `racetrack` list.\n",
    "4. Iterates through each cell of the `racetrack` to find the starting point marked by 'S'.\n",
    "5. Sets the `startPoint` variable to the coordinates [row, col] of the starting point.\n",
    "6. Sets the `endPoint` variable to the coordinates [row, col] of the ending point.\n",
    "\"\"\"\n",
    "racetrack = []\n",
    "\n",
    "for x in file_content.split(\"\\n\")[:-1]:\n",
    "    racetrack.append([c for c in x])\n",
    "\n",
    "for row in range(len(racetrack)):\n",
    "    for col in range(len(racetrack[0])):\n",
    "        if racetrack[row][col] == 'S':\n",
    "            startPoint = [row,col]\n",
    "        if racetrack[row][col] == 'E':\n",
    "            endPoint = [row,col]\n"
   ]
  },
  {
   "cell_type": "code",
   "execution_count": 4,
   "metadata": {},
   "outputs": [],
   "source": [
    "path = []\n",
    "cheats = []\n",
    "\n",
    "currentPosition = startPoint\n",
    "currentTrack = copy.deepcopy(racetrack)\n",
    "distance = 0\n",
    "\n",
    "while currentPosition != endPoint:\n",
    "        \n",
    "        path.append(currentPosition)\n",
    "\n",
    "        # cross wall down\n",
    "        if currentPosition[0] + 2 < len(currentTrack):\n",
    "            if currentTrack[currentPosition[0] + 1][currentPosition[1]] == '#' and currentTrack[currentPosition[0] + 2][currentPosition[1]] in ('.','E') :\n",
    "                cheats.append([currentPosition,[currentPosition[0] + 2,currentPosition[1]]])\n",
    "        # cross wall up\n",
    "        if currentPosition[0] - 2 >= 0:\n",
    "            if currentTrack[currentPosition[0] - 1][currentPosition[1]] == '#' and currentTrack[currentPosition[0] - 2][currentPosition[1]] in ('.','E'):\n",
    "                cheats.append([currentPosition,[currentPosition[0] - 2,currentPosition[1]]])           \n",
    "        # cross wall right\n",
    "        if currentPosition[1] + 2 < len(currentTrack):\n",
    "            if currentTrack[currentPosition[0]][currentPosition[1] + 1] == '#' and currentTrack[currentPosition[0]][currentPosition[1] + 2] in ('.','E'):\n",
    "                cheats.append([currentPosition,[currentPosition[0],currentPosition[1] + 2]])          \n",
    "        # cross wall left\n",
    "        if currentPosition[1] - 2 >= 0:\n",
    "            if currentTrack[currentPosition[0]][currentPosition[1] - 1] == '#' and currentTrack[currentPosition[0]][currentPosition[1] - 2] in ('.','E'):\n",
    "                cheats.append([currentPosition,[currentPosition[0],currentPosition[1] - 2]])    \n",
    "    \n",
    "    \n",
    "        # Move down\n",
    "        if currentTrack[currentPosition[0] + 1][currentPosition[1]] in ('.', 'E'):\n",
    "            nextTrack = copy.deepcopy(currentTrack)\n",
    "            if nextTrack[currentPosition[0] + 1][currentPosition[1]] == '.':\n",
    "                nextTrack[currentPosition[0] + 1][currentPosition[1]] = 'X'\n",
    "            nextPosition = [currentPosition[0] + 1, currentPosition[1]]\n",
    "            distance = distance + 1\n",
    "        # Move up\n",
    "        if currentTrack[currentPosition[0] - 1][currentPosition[1]] in ('.', 'E'):\n",
    "            nextTrack = copy.deepcopy(currentTrack)\n",
    "            if nextTrack[currentPosition[0] - 1][currentPosition[1]] == '.':\n",
    "                nextTrack[currentPosition[0] - 1][currentPosition[1]] = 'X'\n",
    "            nextPosition = [currentPosition[0] - 1, currentPosition[1]]\n",
    "            distance = distance + 1\n",
    "        # Move right\n",
    "        if currentTrack[currentPosition[0]][currentPosition[1] + 1] in ('.', 'E'):\n",
    "            nextTrack = copy.deepcopy(currentTrack)\n",
    "            if nextTrack[currentPosition[0]][currentPosition[1] + 1] == '.':\n",
    "                nextTrack[currentPosition[0]][currentPosition[1] + 1] = 'X'\n",
    "            nextPosition = [currentPosition[0], currentPosition[1] + 1]\n",
    "            distance = distance + 1\n",
    "        # Move left\n",
    "        if currentTrack[currentPosition[0]][currentPosition[1] - 1] in ('.', 'E'):\n",
    "            nextTrack = copy.deepcopy(currentTrack)\n",
    "            if nextTrack[currentPosition[0]][currentPosition[1] - 1] == '.':\n",
    "                nextTrack[currentPosition[0]][currentPosition[1] - 1] = 'X'\n",
    "            nextPosition = [currentPosition[0], currentPosition[1] - 1]\n",
    "            distance = distance + 1\n",
    "\n",
    "        #Set variables for next iteration\n",
    "        currentPosition = nextPosition   \n",
    "        currentTrack = nextTrack\n",
    "\n",
    "\n",
    "path.append(endPoint)"
   ]
  },
  {
   "cell_type": "code",
   "execution_count": 5,
   "metadata": {},
   "outputs": [],
   "source": [
    "\n",
    "\"\"\"\n",
    "This code processes a list of 'cheats' and a 'path' to generate a new list of paths with certain elements conditionally included or excluded based on the 'cheats'.\n",
    "Variables:\n",
    "    out (list): A list to store the final output.\n",
    "    cheats (list): A list of tuples, where each tuple contains two elements to be checked in the path.\n",
    "    newPath (list): A temporary list to store the modified path.\n",
    "    cheatActive (int): A flag to indicate whether a cheat is active (1) or not (0).\n",
    "    path (list): The original list of elements to be processed.\n",
    "The code iterates over each cheat and processes the path to create a new path based on the cheat conditions. \n",
    "If an element in the path matches either element in the cheat tuple, the cheatActive flag is toggled. \n",
    "Elements are added to the newPath based on the state of the cheatActive flag. \n",
    "The final output is a list of lists, each containing the length of the newPath plus one, the cheat tuple, and the newPath itself.\n",
    "\"\"\"\n",
    "\n",
    "out = []\n",
    "for c in cheats:\n",
    "    newPath = []\n",
    "    cheatActive = 0\n",
    "    \n",
    "    for p in path:\n",
    "        if p == c[0] or p == c[1]:\n",
    "            if cheatActive == 1:\n",
    "                cheatActive = 0\n",
    "            else:\n",
    "                cheatActive = 1\n",
    "            newPath.append(p)\n",
    "        elif cheatActive == 0:\n",
    "            newPath.append(p)            \n",
    "        elif cheatActive == 1:\n",
    "            pass\n",
    "\n",
    "    out.append([len(newPath)+1,c,newPath])\n",
    "            "
   ]
  },
  {
   "cell_type": "code",
   "execution_count": 6,
   "metadata": {},
   "outputs": [
    {
     "data": {
      "text/plain": [
       "1415"
      ]
     },
     "execution_count": 6,
     "metadata": {},
     "output_type": "execute_result"
    }
   ],
   "source": [
    "\"\"\"\n",
    "output part one: Number of cheats that save at least 100 steps\n",
    "Counter([len(path)- o[0] for o in out])\n",
    "\"\"\"\n",
    "\n",
    "len([o for o in out if len(path)- o[0] >= 100])"
   ]
  },
  {
   "cell_type": "code",
   "execution_count": 7,
   "metadata": {},
   "outputs": [
    {
     "name": "stderr",
     "output_type": "stream",
     "text": [
      "100%|██████████| 9505/9505 [00:17<00:00, 532.86it/s] \n"
     ]
    }
   ],
   "source": [
    "from tqdm import tqdm\n",
    "\n",
    "maxCheat = 19\n",
    "cheatsNew = []\n",
    "\n",
    "for i in tqdm(range(len(path))):\n",
    "    for j in range(i+1, len(path)):\n",
    "        taxiCabDist = abs(path[i][0] - path[j][0]) + abs(path[i][1] - path[j][1])\n",
    "        if taxiCabDist <= maxCheat + 1 and j - i > taxiCabDist:\n",
    "            cheatsNew.append([j - i - taxiCabDist, [path[i], path[j]]])"
   ]
  },
  {
   "cell_type": "code",
   "execution_count": 8,
   "metadata": {},
   "outputs": [
    {
     "data": {
      "text/plain": [
       "1022577"
      ]
     },
     "execution_count": 8,
     "metadata": {},
     "output_type": "execute_result"
    }
   ],
   "source": [
    "len([c[0] for c in cheatsNew if c[0] >= 100])"
   ]
  }
 ],
 "metadata": {
  "colab": {
   "authorship_tag": "ABX9TyPmPl3NNDcikcWhqXWt5WXj",
   "collapsed_sections": [
    "oypK6kbJ5Z61",
    "KY1rd4aQWJqD",
    "johcRr1m_Ptv",
    "bcpp5ojhiIaU"
   ],
   "provenance": []
  },
  "kernelspec": {
   "display_name": ".venv",
   "language": "python",
   "name": "python3"
  },
  "language_info": {
   "codemirror_mode": {
    "name": "ipython",
    "version": 3
   },
   "file_extension": ".py",
   "mimetype": "text/x-python",
   "name": "python",
   "nbconvert_exporter": "python",
   "pygments_lexer": "ipython3",
   "version": "3.9.6"
  }
 },
 "nbformat": 4,
 "nbformat_minor": 0
}
